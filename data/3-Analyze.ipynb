{
 "cells": [
  {
   "cell_type": "code",
   "execution_count": 2,
   "id": "46deed17-9c9f-4ef0-8f3d-4035bb66734b",
   "metadata": {},
   "outputs": [],
   "source": [
    "import spacy\n",
    "\n",
    "nlp = spacy.load(\"en_core_web_lg\")"
   ]
  },
  {
   "cell_type": "code",
   "execution_count": 3,
   "id": "5faddcc6-5c32-4323-b55c-404a935dd17d",
   "metadata": {},
   "outputs": [
    {
     "data": {
      "text/html": [
       "<div>\n",
       "<style scoped>\n",
       "    .dataframe tbody tr th:only-of-type {\n",
       "        vertical-align: middle;\n",
       "    }\n",
       "\n",
       "    .dataframe tbody tr th {\n",
       "        vertical-align: top;\n",
       "    }\n",
       "\n",
       "    .dataframe thead th {\n",
       "        text-align: right;\n",
       "    }\n",
       "</style>\n",
       "<table border=\"1\" class=\"dataframe\">\n",
       "  <thead>\n",
       "    <tr style=\"text-align: right;\">\n",
       "      <th></th>\n",
       "      <th>stories_id</th>\n",
       "      <th>title</th>\n",
       "      <th>url</th>\n",
       "      <th>year</th>\n",
       "      <th>text</th>\n",
       "      <th>text_downloaded</th>\n",
       "      <th>tags</th>\n",
       "    </tr>\n",
       "  </thead>\n",
       "  <tbody>\n",
       "    <tr>\n",
       "      <th>2734</th>\n",
       "      <td>1036338766</td>\n",
       "      <td>Migrant Caravan, Transgender Rights, Khashoggi...</td>\n",
       "      <td>https://www.nytimes.com/2018/10/22/briefing/ca...</td>\n",
       "      <td>2018</td>\n",
       "      <td>Supported by\\nMigrant Caravan, Transgender Rig...</td>\n",
       "      <td>True</td>\n",
       "      <td>[{'label': 'immigration and refugees', 'score'...</td>\n",
       "    </tr>\n",
       "    <tr>\n",
       "      <th>50</th>\n",
       "      <td>1140964775</td>\n",
       "      <td>Government Shutdown Curtails F.D.A. Food Inspe...</td>\n",
       "      <td>https://www.nytimes.com/2019/01/09/health/shut...</td>\n",
       "      <td>2019</td>\n",
       "      <td>Supported by\\nGovernment Shutdown Curtails F.D...</td>\n",
       "      <td>True</td>\n",
       "      <td>[{'label': 'food contamination and poisoning',...</td>\n",
       "    </tr>\n",
       "    <tr>\n",
       "      <th>1665</th>\n",
       "      <td>2572965622</td>\n",
       "      <td>In Biden’s Unannounced Visit to Kyiv, a Previe...</td>\n",
       "      <td>https://www.nytimes.com/2023/02/20/us/politics...</td>\n",
       "      <td>2023</td>\n",
       "      <td>Supported by\\nIn Biden’s Unannounced Visit to ...</td>\n",
       "      <td>True</td>\n",
       "      <td>[{'label': 'politics and government', 'score':...</td>\n",
       "    </tr>\n",
       "  </tbody>\n",
       "</table>\n",
       "</div>"
      ],
      "text/plain": [
       "      stories_id                                              title  \\\n",
       "2734  1036338766  Migrant Caravan, Transgender Rights, Khashoggi...   \n",
       "50    1140964775  Government Shutdown Curtails F.D.A. Food Inspe...   \n",
       "1665  2572965622  In Biden’s Unannounced Visit to Kyiv, a Previe...   \n",
       "\n",
       "                                                    url  year  \\\n",
       "2734  https://www.nytimes.com/2018/10/22/briefing/ca...  2018   \n",
       "50    https://www.nytimes.com/2019/01/09/health/shut...  2019   \n",
       "1665  https://www.nytimes.com/2023/02/20/us/politics...  2023   \n",
       "\n",
       "                                                   text  text_downloaded  \\\n",
       "2734  Supported by\\nMigrant Caravan, Transgender Rig...             True   \n",
       "50    Supported by\\nGovernment Shutdown Curtails F.D...             True   \n",
       "1665  Supported by\\nIn Biden’s Unannounced Visit to ...             True   \n",
       "\n",
       "                                                   tags  \n",
       "2734  [{'label': 'immigration and refugees', 'score'...  \n",
       "50    [{'label': 'food contamination and poisoning',...  \n",
       "1665  [{'label': 'politics and government', 'score':...  "
      ]
     },
     "execution_count": 3,
     "metadata": {},
     "output_type": "execute_result"
    }
   ],
   "source": [
    "import pandas as pd\n",
    "\n",
    "# query = \"Query_NYT_5y_surveillance\"\n",
    "query = \"Query_NYT_13y_surveillance\"\n",
    "# query = \"Query_US_5y_Svalbard\"\n",
    "\n",
    "CSV_FILE = query + \".csv\"\n",
    "FEATHER_FILE = query + \".feather\"\n",
    "\n",
    "df = pd.read_feather(FEATHER_FILE)\n",
    "\n",
    "df.sample(3)"
   ]
  },
  {
   "cell_type": "code",
   "execution_count": 4,
   "id": "95bfe465-4339-46dd-a720-c28162fb2356",
   "metadata": {},
   "outputs": [
    {
     "data": {
      "application/vnd.jupyter.widget-view+json": {
       "model_id": "f5f5b5027a1f4d71a0efe381e3b7d6b2",
       "version_major": 2,
       "version_minor": 0
      },
      "text/plain": [
       "  0%|          | 0/3357 [00:00<?, ?it/s]"
      ]
     },
     "metadata": {},
     "output_type": "display_data"
    }
   ],
   "source": [
    "from tqdm.notebook import tqdm\n",
    "\n",
    "GPE = [\"\"] * len(df)\n",
    "IND = [\"\"] * len(df)\n",
    "ORG = [\"\"] * len(df)\n",
    "\n",
    "# Browse the data ...\n",
    "for index, row in tqdm(df.iterrows(), total=len(df)):\n",
    "    text = row.text\n",
    "    doc = nlp(text)\n",
    "\n",
    "    entities = {\n",
    "        \"GPE\": [],\n",
    "        \"IND\": [],\n",
    "        \"ORG\": [],\n",
    "    }\n",
    "\n",
    "    for ent in (e for e in doc.ents if e.label_ == \"GPE\"):\n",
    "        entities[\"GPE\"].append(ent.text)\n",
    "\n",
    "    for ent in (e for e in doc.ents if e.label_ == \"PERSON\"):\n",
    "        entities[\"IND\"].append(ent.text)\n",
    "\n",
    "    for ent in (e for e in doc.ents if e.label_ == \"ORG\"):\n",
    "        entities[\"ORG\"].append(ent.text)\n",
    "\n",
    "    GPE[index] = entities[\"GPE\"]\n",
    "    IND[index] = entities[\"IND\"]\n",
    "    ORG[index] = entities[\"ORG\"]"
   ]
  },
  {
   "cell_type": "code",
   "execution_count": 5,
   "id": "3b55e5b5",
   "metadata": {},
   "outputs": [],
   "source": [
    "df['GPE'] = GPE\n",
    "df['IND'] = IND\n",
    "df['ORG'] = ORG\n",
    "\n",
    "df.to_feather(FEATHER_FILE)"
   ]
  },
  {
   "cell_type": "code",
   "execution_count": null,
   "id": "a0b6416f",
   "metadata": {},
   "outputs": [],
   "source": []
  }
 ],
 "metadata": {
  "kernelspec": {
   "display_name": "Python 3 (ipykernel)",
   "language": "python",
   "name": "python3"
  },
  "language_info": {
   "codemirror_mode": {
    "name": "ipython",
    "version": 3
   },
   "file_extension": ".py",
   "mimetype": "text/x-python",
   "name": "python",
   "nbconvert_exporter": "python",
   "pygments_lexer": "ipython3",
   "version": "3.1.0"
  }
 },
 "nbformat": 4,
 "nbformat_minor": 5
}
