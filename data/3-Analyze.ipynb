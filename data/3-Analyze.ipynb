{
 "cells": [
  {
   "cell_type": "code",
   "execution_count": 1,
   "id": "46deed17-9c9f-4ef0-8f3d-4035bb66734b",
   "metadata": {},
   "outputs": [],
   "source": [
    "import spacy\n",
    "\n",
    "nlp = spacy.load(\"en_core_web_lg\")"
   ]
  },
  {
   "cell_type": "code",
   "execution_count": 2,
   "id": "5faddcc6-5c32-4323-b55c-404a935dd17d",
   "metadata": {},
   "outputs": [
    {
     "data": {
      "text/html": [
       "<div>\n",
       "<style scoped>\n",
       "    .dataframe tbody tr th:only-of-type {\n",
       "        vertical-align: middle;\n",
       "    }\n",
       "\n",
       "    .dataframe tbody tr th {\n",
       "        vertical-align: top;\n",
       "    }\n",
       "\n",
       "    .dataframe thead th {\n",
       "        text-align: right;\n",
       "    }\n",
       "</style>\n",
       "<table border=\"1\" class=\"dataframe\">\n",
       "  <thead>\n",
       "    <tr style=\"text-align: right;\">\n",
       "      <th></th>\n",
       "      <th>id</th>\n",
       "      <th>indexed_date</th>\n",
       "      <th>language</th>\n",
       "      <th>media_name</th>\n",
       "      <th>media_url</th>\n",
       "      <th>publish_date</th>\n",
       "      <th>title</th>\n",
       "      <th>url</th>\n",
       "      <th>year</th>\n",
       "      <th>text</th>\n",
       "      <th>text_downloaded</th>\n",
       "    </tr>\n",
       "  </thead>\n",
       "  <tbody>\n",
       "    <tr>\n",
       "      <th>1137</th>\n",
       "      <td>0b286ed4a61b2e934c46b85613d431a4001be15bea20be...</td>\n",
       "      <td>2024-02-24 11:20:05.775846</td>\n",
       "      <td>en</td>\n",
       "      <td>technologyreview.com</td>\n",
       "      <td>technologyreview.com</td>\n",
       "      <td>2023-07-18</td>\n",
       "      <td>Meta’s latest AI model is free for all</td>\n",
       "      <td>https://www.technologyreview.com/2023/07/18/10...</td>\n",
       "      <td>2023</td>\n",
       "      <td>None</td>\n",
       "      <td>False</td>\n",
       "    </tr>\n",
       "    <tr>\n",
       "      <th>1322</th>\n",
       "      <td>2132006236843ff206a7f5b9101e298c3e568c4ca2c8da...</td>\n",
       "      <td>2024-02-28 07:14:47.832928</td>\n",
       "      <td>en</td>\n",
       "      <td>technologyreview.com</td>\n",
       "      <td>technologyreview.com</td>\n",
       "      <td>2023-05-12</td>\n",
       "      <td>The open-source AI boom is built on Big Tech’s...</td>\n",
       "      <td>https://www.technologyreview.com/2023/05/12/10...</td>\n",
       "      <td>2023</td>\n",
       "      <td>The open-source AI boom is built on Big Tech’s...</td>\n",
       "      <td>True</td>\n",
       "    </tr>\n",
       "    <tr>\n",
       "      <th>232</th>\n",
       "      <td>f852289664ca2dffb85c56ff4dc4e32633a60df9c58e2c...</td>\n",
       "      <td>2024-06-22 12:17:19.325637</td>\n",
       "      <td>en</td>\n",
       "      <td>wired.com</td>\n",
       "      <td>wired.com</td>\n",
       "      <td>2024-06-22</td>\n",
       "      <td>Everything’s About to Get a Hell of a Lot More...</td>\n",
       "      <td>https://www.wired.com/story/everythings-about-...</td>\n",
       "      <td>2024</td>\n",
       "      <td>If you buy something using links in our storie...</td>\n",
       "      <td>True</td>\n",
       "    </tr>\n",
       "  </tbody>\n",
       "</table>\n",
       "</div>"
      ],
      "text/plain": [
       "                                                     id  \\\n",
       "1137  0b286ed4a61b2e934c46b85613d431a4001be15bea20be...   \n",
       "1322  2132006236843ff206a7f5b9101e298c3e568c4ca2c8da...   \n",
       "232   f852289664ca2dffb85c56ff4dc4e32633a60df9c58e2c...   \n",
       "\n",
       "                    indexed_date language            media_name  \\\n",
       "1137  2024-02-24 11:20:05.775846       en  technologyreview.com   \n",
       "1322  2024-02-28 07:14:47.832928       en  technologyreview.com   \n",
       "232   2024-06-22 12:17:19.325637       en             wired.com   \n",
       "\n",
       "                 media_url publish_date  \\\n",
       "1137  technologyreview.com   2023-07-18   \n",
       "1322  technologyreview.com   2023-05-12   \n",
       "232              wired.com   2024-06-22   \n",
       "\n",
       "                                                  title  \\\n",
       "1137             Meta’s latest AI model is free for all   \n",
       "1322  The open-source AI boom is built on Big Tech’s...   \n",
       "232   Everything’s About to Get a Hell of a Lot More...   \n",
       "\n",
       "                                                    url  year  \\\n",
       "1137  https://www.technologyreview.com/2023/07/18/10...  2023   \n",
       "1322  https://www.technologyreview.com/2023/05/12/10...  2023   \n",
       "232   https://www.wired.com/story/everythings-about-...  2024   \n",
       "\n",
       "                                                   text  text_downloaded  \n",
       "1137                                               None            False  \n",
       "1322  The open-source AI boom is built on Big Tech’s...             True  \n",
       "232   If you buy something using links in our storie...             True  "
      ]
     },
     "execution_count": 2,
     "metadata": {},
     "output_type": "execute_result"
    }
   ],
   "source": [
    "import pandas as pd\n",
    "\n",
    "# query = \"Query_NYT_5y_surveillance\"\n",
    "query = \"Query_AI-magazines-mediacloud-2021-24\"\n",
    "# query = \"Query_US_5y_Svalbard\"\n",
    "\n",
    "CSV_FILE = query + \".csv\"\n",
    "FEATHER_FILE = query + \".feather\"\n",
    "\n",
    "df = pd.read_feather(FEATHER_FILE)\n",
    "\n",
    "df.sample(3)"
   ]
  },
  {
   "cell_type": "code",
   "execution_count": 4,
   "id": "0598fa2c",
   "metadata": {},
   "outputs": [],
   "source": [
    "df['text'] = df['text'].fillna('')"
   ]
  },
  {
   "cell_type": "code",
   "execution_count": 5,
   "id": "95bfe465-4339-46dd-a720-c28162fb2356",
   "metadata": {},
   "outputs": [
    {
     "data": {
      "application/vnd.jupyter.widget-view+json": {
       "model_id": "3d8feb9cae6d43dd94b14f2646af4a25",
       "version_major": 2,
       "version_minor": 0
      },
      "text/plain": [
       "  0%|          | 0/2633 [00:00<?, ?it/s]"
      ]
     },
     "metadata": {},
     "output_type": "display_data"
    }
   ],
   "source": [
    "from tqdm.notebook import tqdm\n",
    "\n",
    "GPE = [\"\"] * len(df)\n",
    "IND = [\"\"] * len(df)\n",
    "ORG = [\"\"] * len(df)\n",
    "\n",
    "# Browse the data ...\n",
    "for index, row in tqdm(df.iterrows(), total=len(df)):\n",
    "    text = row.text\n",
    "    doc = nlp(text)\n",
    "\n",
    "    entities = {\n",
    "        \"GPE\": [],\n",
    "        \"IND\": [],\n",
    "        \"ORG\": [],\n",
    "    }\n",
    "\n",
    "    for ent in (e for e in doc.ents if e.label_ == \"GPE\"):\n",
    "        entities[\"GPE\"].append(ent.text)\n",
    "\n",
    "    for ent in (e for e in doc.ents if e.label_ == \"PERSON\"):\n",
    "        entities[\"IND\"].append(ent.text)\n",
    "\n",
    "    for ent in (e for e in doc.ents if e.label_ == \"ORG\"):\n",
    "        entities[\"ORG\"].append(ent.text)\n",
    "\n",
    "    GPE[index] = entities[\"GPE\"]\n",
    "    IND[index] = entities[\"IND\"]\n",
    "    ORG[index] = entities[\"ORG\"]"
   ]
  },
  {
   "cell_type": "code",
   "execution_count": 6,
   "id": "3b55e5b5",
   "metadata": {},
   "outputs": [],
   "source": [
    "df['GPE'] = GPE\n",
    "df['IND'] = IND\n",
    "df['ORG'] = ORG\n",
    "\n",
    "df.to_feather(FEATHER_FILE)"
   ]
  },
  {
   "cell_type": "code",
   "execution_count": null,
   "id": "a0b6416f",
   "metadata": {},
   "outputs": [],
   "source": []
  }
 ],
 "metadata": {
  "kernelspec": {
   "display_name": "Python 3 (ipykernel)",
   "language": "python",
   "name": "python3"
  },
  "language_info": {
   "codemirror_mode": {
    "name": "ipython",
    "version": 3
   },
   "file_extension": ".py",
   "mimetype": "text/x-python",
   "name": "python",
   "nbconvert_exporter": "python",
   "pygments_lexer": "ipython3",
   "version": "3.7.6"
  }
 },
 "nbformat": 4,
 "nbformat_minor": 5
}
