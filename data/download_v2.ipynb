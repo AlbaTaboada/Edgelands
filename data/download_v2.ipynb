{
 "cells": [
  {
   "cell_type": "code",
   "execution_count": 1,
   "id": "3295f412",
   "metadata": {
    "tags": [
     "outputPrepend"
    ]
   },
   "outputs": [],
   "source": [
    "# https://search.mediacloud.org/\n",
    "# https://pypi.org/project/mediacloud-metadata/\n",
    "# https://github.com/mediacloud/mc-providers/blob/main/mc_providers/test/test_onlinenews.py#L272\n",
    "\n",
    "import datetime\n",
    "import json\n",
    "import pandas as pd\n",
    "import requests\n",
    "from mcmetadata import extract\n",
    "\n",
    "import mediacloud.api\n",
    "\n",
    "# Init the connection\n",
    "mc = mediacloud.api.DirectoryApi('56196a395ee77c33a296073fa08e72f541362a10')\n",
    "\n",
    "# Read the query.csv file to obtain information of each item to dump\n",
    "df_query = pd.read_csv('query_v3.csv')\n"
   ]
  },
  {
   "cell_type": "code",
   "execution_count": 2,
   "id": "76bf43bf",
   "metadata": {},
   "outputs": [
    {
     "name": "stdout",
     "output_type": "stream",
     "text": [
      "4\n"
     ]
    }
   ],
   "source": [
    "size_query = df_query.shape[0]\n",
    "print(size_query)"
   ]
  },
  {
   "cell_type": "code",
   "execution_count": 3,
   "id": "03d0acac",
   "metadata": {},
   "outputs": [
    {
     "name": "stdout",
     "output_type": "stream",
     "text": [
      "Erreur -> \"Webpage didn't return content (404) from https://www.airforcetimes.com/intel-geoint/isr/2022/06/03/unlocking-airborne-isr-can-help-achieve-regional-security-in-indo-pacific/\", pour l'url : https://www.airforcetimes.com/intel-geoint/isr/2022/06/03/unlocking-airborne-isr-can-help-achieve-regional-security-in-indo-pacific/\n",
      "<bound method NDFrame.describe of    year                                              title  \\\n",
      "0  2022  US military creates space unit in South Korea ...   \n",
      "1  2022  China using civilian ships to enhance navy cap...   \n",
      "3  2022  Burn pit registry is failing to help track vet...   \n",
      "\n",
      "                                                 url  \\\n",
      "0  https://www.airforcetimes.com/battlefield-tech...   \n",
      "1  https://www.airforcetimes.com/flashpoints/chin...   \n",
      "3  https://www.airforcetimes.com/news/burn-pits/2...   \n",
      "\n",
      "                                        text_content  \n",
      "0  SEOUL, South Korea — The U.S. military formall...  \n",
      "1  BANGKOK — A Chinese scientific ship bristling ...  \n",
      "3  The nearly decade-old Veterans Affairs registr...  >\n"
     ]
    }
   ],
   "source": [
    "# Create the result dataframe\n",
    "df_result = pd.DataFrame(columns=['year', 'title', 'url', 'text_content'])\n",
    "\n",
    "for counter in range(0,size_query) :\n",
    "    # Query the MediaCloud API with each item\n",
    "    url_data = df_query.iloc[counter].url\n",
    "    try: \n",
    "        metadata = extract(url=url_data)\n",
    "        metadata['publication_date'] = metadata['publication_date'].year\n",
    "    \n",
    "        # Append data to the result dataframe\n",
    "        list_metadata = []\n",
    "        for field in ['publication_date', 'article_title', 'url', 'text_content'] :\n",
    "            list_metadata.append(metadata[field])\n",
    "        # Append data to the result dataframe\n",
    "        df_result.loc[counter] = list_metadata\n",
    "        # And wirte date in a JSON File\n",
    "        with open('data.json', 'a') as f:\n",
    "            json.dump(metadata, f)\n",
    "            f.write('\\n')\n",
    "        \n",
    "    except Exception as e:\n",
    "        print(f'Erreur -> \"{e}\", pour l\\'url : {url_data}' )\n",
    "        log_message = f\"{datetime.datetime.now()} - {e} ; {url_data}\\n\"\n",
    "        with open('log.txt', 'a') as log_file:\n",
    "            log_file.write(log_message)\n",
    "\n",
    "print(df_result.describe)"
   ]
  },
  {
   "cell_type": "code",
   "execution_count": 4,
   "id": "27d02a22",
   "metadata": {},
   "outputs": [],
   "source": [
    "# Export dataframe to a feather format file\n",
    "df_result.reset_index().to_feather('results_v3.feather')"
   ]
  },
  {
   "cell_type": "code",
   "execution_count": null,
   "id": "fb9e47b2",
   "metadata": {},
   "outputs": [],
   "source": []
  }
 ],
 "metadata": {
  "kernelspec": {
   "display_name": "Python 3 (ipykernel)",
   "language": "python",
   "name": "python3"
  },
  "language_info": {
   "codemirror_mode": {
    "name": "ipython",
    "version": 3
   },
   "file_extension": ".py",
   "mimetype": "text/x-python",
   "name": "python",
   "nbconvert_exporter": "python",
   "pygments_lexer": "ipython3",
   "version": "3.8.3"
  }
 },
 "nbformat": 4,
 "nbformat_minor": 5
}
