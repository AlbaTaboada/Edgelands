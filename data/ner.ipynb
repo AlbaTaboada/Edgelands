{
 "cells": [
  {
   "cell_type": "code",
   "execution_count": 38,
   "id": "a98ae2f8",
   "metadata": {},
   "outputs": [],
   "source": [
    "!pip install spacy\n",
    "!python -m spacy download en_core_web_sm\n",
    "!python -m spacy download en\n",
    "# !python -m spacy download en_core_web_sm\n",
    "!python -m spacy download en_core_web_lg"
   ]
  },
  {
   "cell_type": "code",
   "execution_count": 39,
   "id": "fd56092d",
   "metadata": {},
   "outputs": [],
   "source": [
    "import spacy\n",
    "nlp = spacy.load('en_core_web_sm')"
   ]
  },
  {
   "cell_type": "code",
   "execution_count": 40,
   "id": "7df31f56",
   "metadata": {},
   "outputs": [
    {
     "name": "stdout",
     "output_type": "stream",
     "text": [
      "Mark\n",
      "Mark PERSON\n"
     ]
    }
   ],
   "source": [
    "doc = nlp(\"Hi my name is Mark\")\n",
    "for ent in doc.ents:\n",
    "    print(ent)\n",
    "    print(ent.text, ent.label_)"
   ]
  },
  {
   "cell_type": "markdown",
   "id": "89495dd5",
   "metadata": {},
   "source": [
    "## Démonstration de NER ves un Dataframe Pandas"
   ]
  },
  {
   "cell_type": "code",
   "execution_count": 41,
   "id": "1aa716ad",
   "metadata": {},
   "outputs": [
    {
     "name": "stdout",
     "output_type": "stream",
     "text": [
      "  Entité    Type\n",
      "0   Mark  PERSON\n"
     ]
    }
   ],
   "source": [
    "import pandas as pd\n",
    "\n",
    "entities = []\n",
    "\n",
    "# Parcourir les entités nommées dans le document\n",
    "for entity in doc.ents:\n",
    "    entities.append((entity.text, entity.label_))\n",
    "    \n",
    "# Créer un DataFrame Pandas à partir de la liste des entités\n",
    "df = pd.DataFrame(entities, columns=[\"Entité\", \"Type\"])\n",
    "\n",
    "# Afficher le DataFrame\n",
    "print(df)\n"
   ]
  },
  {
   "cell_type": "markdown",
   "id": "b0e897af",
   "metadata": {},
   "source": [
    "## Test d'extraction sur une page Wikipédia, en Anglais, qui parle d'un château connu en France"
   ]
  },
  {
   "cell_type": "code",
   "execution_count": 42,
   "id": "9bbeeb6f",
   "metadata": {},
   "outputs": [
    {
     "name": "stdout",
     "output_type": "stream",
     "text": [
      "                                                Entité     Type\n",
      "0                                                 Loir     NORP\n",
      "1                                                 Main  PRODUCT\n",
      "2                                                 Main      FAC\n",
      "3                               Navigation\\n\\t\\n\\nMain      ORG\n",
      "4                          Contribute\\n\\t\\n\\nHelpLearn   PERSON\n",
      "..                                                 ...      ...\n",
      "248  the Creative Commons Attribution-ShareAlike Li...      ORG\n",
      "249                the Terms of Use and Privacy Policy      ORG\n",
      "250                                          Wikipedia      GPE\n",
      "251                           the Wikimedia Foundation      ORG\n",
      "252                                             Toggle      ORG\n",
      "\n",
      "[253 rows x 2 columns]\n",
      "                                          Entité Type\n",
      "57   the Loire Valley UNESCO World Heritage Site  LOC\n",
      "70                                      Henry II  LOC\n",
      "99   the Loire Valley UNESCO World Heritage Site  LOC\n",
      "220                                       Vernou  LOC\n",
      "                                                Entité    Type\n",
      "4                          Contribute\\n\\t\\n\\nHelpLearn  PERSON\n",
      "20                                               Tools  PERSON\n",
      "39                         André Joly[1]Area154.38 km2  PERSON\n",
      "68                                          Francis I.  PERSON\n",
      "71                                           Louis XIV  PERSON\n",
      "..                                                 ...     ...\n",
      "225                   Villemardy\\nVilleneuve-Frouville  PERSON\n",
      "226  Villeny\\nVilleporcher\\nVillerable\\nVillerbon\\n...  PERSON\n",
      "228                                           Villiers  PERSON\n",
      "229                              Villiersfaux\\nVineuil  PERSON\n",
      "244                                       Kartographer  PERSON\n",
      "\n",
      "[64 rows x 2 columns]\n"
     ]
    }
   ],
   "source": [
    "import requests\n",
    "from bs4 import BeautifulSoup\n",
    "import spacy\n",
    "import pandas as pd\n",
    "\n",
    "\n",
    "# URL de la page Wikipédia\n",
    "url = \"https://en.wikipedia.org/wiki/Chambord,_Loir-et-Cher\"\n",
    "\n",
    "# Effectuer la requête HTTP pour récupérer le contenu de la page\n",
    "response = requests.get(url)\n",
    "content = response.content\n",
    "\n",
    "# Utiliser Beautiful Soup pour extraire le texte de la page\n",
    "soup = BeautifulSoup(content, \"html.parser\")\n",
    "texte = soup.get_text()\n",
    "\n",
    "# Analyser le texte avec Spacy\n",
    "doc = nlp(texte)\n",
    "\n",
    "# Liste pour stocker les entités nommées\n",
    "entites = []\n",
    "\n",
    "# Parcourir les entités nommées dans le document\n",
    "for entite in doc.ents:\n",
    "    entites.append((entite.text, entite.label_))\n",
    "\n",
    "# Créer un DataFrame Pandas à partir de la liste des entités\n",
    "df = pd.DataFrame(entites, columns=[\"Entité\", \"Type\"])\n",
    "\n",
    "# Afficher le DataFrame\n",
    "print(df)\n",
    "\n",
    "# Filtrer le DataFrame sur les entités de type \"Lieu\"\n",
    "df_filtre = df.loc[df[\"Type\"] == \"LOC\"]\n",
    "\n",
    "# Afficher le DataFrame filtré\n",
    "print(df_filtre)\n",
    "\n",
    "# Filtrer le DataFrame sur les entités de type \"Personne\"\n",
    "df_filtre = df.loc[df[\"Type\"] == \"PERSON\"]\n",
    "\n",
    "# Afficher le DataFrame filtré\n",
    "print(df_filtre)"
   ]
  },
  {
   "cell_type": "markdown",
   "id": "80dc970a",
   "metadata": {},
   "source": [
    "## Test d'extraction sur un article"
   ]
  },
  {
   "cell_type": "code",
   "execution_count": 49,
   "id": "9d7f4075",
   "metadata": {},
   "outputs": [
    {
     "name": "stdout",
     "output_type": "stream",
     "text": [
      "index                                                        1641\n",
      "year                                                         2022\n",
      "title           FTC Considering Rules on Collecting, Selling P...\n",
      "url             https://www.cnet.com/tech/services-and-softwar...\n",
      "text_content    Tired of companies gathering and selling your ...\n",
      "Name: 1000, dtype: object\n"
     ]
    }
   ],
   "source": [
    "\n",
    "# Load the feather file into a pandas dataframe\n",
    "df_data = pd.read_feather(\"results_v3.feather\")\n",
    "\n",
    "text_id = 1000\n",
    "\n",
    "print(df_data.iloc[text_id])\n",
    "texte = df_data.iloc[text_id].text_content"
   ]
  },
  {
   "cell_type": "code",
   "execution_count": 50,
   "id": "b6ca8b42",
   "metadata": {},
   "outputs": [
    {
     "name": "stdout",
     "output_type": "stream",
     "text": [
      "                                      Entité     Type\n",
      "0                                        FTC      ORG\n",
      "1            The US Federal Trade Commission      ORG\n",
      "2                                   Thursday     DATE\n",
      "3                                        FTC      ORG\n",
      "4                                        FTC      ORG\n",
      "5                               Lina M. Khan   PERSON\n",
      "6                                        FTC      ORG\n",
      "7                                        14%  PERCENT\n",
      "8                the first quarter this year     DATE\n",
      "9                                       2021     DATE\n",
      "10                                   Sept. 8     DATE\n",
      "11                                   11 a.m.     TIME\n",
      "12                                 4:30 p.m.     TIME\n",
      "13                                        PT   PERSON\n",
      "14                                      June     DATE\n",
      "15  American Data Privacy and Protection Act      ORG\n",
      "16                                     House      ORG\n",
      "17                                 Democrats     NORP\n",
      "18                                       FTC      ORG\n",
      "19                               Republicans     NORP\n",
      "20                                  Congress      ORG\n",
      "21                                     ADPPA      ORG\n",
      "22                                  Congress      ORG\n",
      "23                                     April     DATE\n",
      "24                                      Khan   PERSON\n",
      "25                                     first  ORDINAL\n",
      "26                                      2021     DATE\n",
      "------------------------- Lieux\n",
      "                                      Entité Type\n",
      "0                                        FTC  ORG\n",
      "1            The US Federal Trade Commission  ORG\n",
      "3                                        FTC  ORG\n",
      "4                                        FTC  ORG\n",
      "6                                        FTC  ORG\n",
      "15  American Data Privacy and Protection Act  ORG\n",
      "16                                     House  ORG\n",
      "18                                       FTC  ORG\n",
      "20                                  Congress  ORG\n",
      "21                                     ADPPA  ORG\n",
      "22                                  Congress  ORG\n",
      "------------------------- Personnes\n",
      "          Entité    Type\n",
      "5   Lina M. Khan  PERSON\n",
      "13            PT  PERSON\n",
      "24          Khan  PERSON\n"
     ]
    }
   ],
   "source": [
    "# Analyser le texte avec Spacy\n",
    "doc = nlp(texte)\n",
    "\n",
    "# Liste pour stocker les entités nommées\n",
    "entites = []\n",
    "\n",
    "# Parcourir les entités nommées dans le document\n",
    "for entite in doc.ents:\n",
    "    entites.append((entite.text, entite.label_))\n",
    "\n",
    "# Créer un DataFrame Pandas à partir de la liste des entités\n",
    "df = pd.DataFrame(entites, columns=[\"Entité\", \"Type\"])\n",
    "print(df)\n",
    "\n",
    "# Filtrer le DataFrame sur les entités de type \"Lieu\"\n",
    "df_filtre = df.loc[df[\"Type\"] == \"ORG\"]\n",
    "print(\"------------------------- Lieux\")\n",
    "print(df_filtre)\n",
    "\n",
    "\n",
    "# Filtrer le DataFrame sur les entités de type \"Personne\"\n",
    "df_filtre = df.loc[df[\"Type\"] == \"PERSON\"]\n",
    "print(\"------------------------- Personnes\")\n",
    "print(df_filtre)\n"
   ]
  },
  {
   "cell_type": "code",
   "execution_count": null,
   "id": "170728ff",
   "metadata": {},
   "outputs": [],
   "source": []
  }
 ],
 "metadata": {
  "kernelspec": {
   "display_name": "Python 3 (ipykernel)",
   "language": "python",
   "name": "python3"
  },
  "language_info": {
   "codemirror_mode": {
    "name": "ipython",
    "version": 3
   },
   "file_extension": ".py",
   "mimetype": "text/x-python",
   "name": "python",
   "nbconvert_exporter": "python",
   "pygments_lexer": "ipython3",
   "version": "3.10.11"
  }
 },
 "nbformat": 4,
 "nbformat_minor": 5
}
