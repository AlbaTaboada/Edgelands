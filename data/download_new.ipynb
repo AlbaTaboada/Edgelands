{
 "cells": [
  {
   "cell_type": "code",
   "execution_count": 1,
   "id": "651885b6",
   "metadata": {},
   "outputs": [],
   "source": [
    "# https://search.mediacloud.org/\n",
    "# https://pypi.org/project/mediacloud-metadata/\n",
    "# https://github.com/mediacloud/mc-providers/blob/main/mc_providers/test/test_onlinenews.py#L272\n",
    "\n",
    "\n",
    "import pandas as pd\n",
    "import requests\n",
    "from mcmetadata import extract\n",
    "\n",
    "import mediacloud.api\n",
    "#import mediacloud_legacy.api\n",
    "#import mediacloud_legacy.tags\n",
    "\n",
    "mc = mediacloud.api.DirectoryApi('56196a395ee77c33a296073fa08e72f541362a10')"
   ]
  },
  {
   "cell_type": "code",
   "execution_count": 2,
   "id": "d81b13a6",
   "metadata": {},
   "outputs": [
    {
     "name": "stdout",
     "output_type": "stream",
     "text": [
      "<mediacloud.api.DirectoryApi object at 0x110428550>\n"
     ]
    }
   ],
   "source": [
    "print(mc)"
   ]
  },
  {
   "cell_type": "code",
   "execution_count": 3,
   "id": "d8d9e19a",
   "metadata": {},
   "outputs": [
    {
     "name": "stdout",
     "output_type": "stream",
     "text": [
      "[{'id': 34412040, 'name': 'Svalbard and Jan Mayen - National', 'notes': 'Media is largely about Svalbard and Jan Mayen', 'platform': 'online_news', 'source_count': 1, 'public': True, 'featured': False}]\n"
     ]
    }
   ],
   "source": [
    "TEST_COLLECTION_ID = 34412234 \n",
    "#response = mc.source_list(collection_id=TEST_COLLECTION_ID, limit=100, offset=0)\n",
    "response = mc.collection_list(platform=mc.PLATFORM_ONLINE_NEWS, name='svalbard')\n",
    "print(response['results'])"
   ]
  },
  {
   "cell_type": "code",
   "execution_count": 7,
   "id": "b41e564f",
   "metadata": {},
   "outputs": [
    {
     "data": {
      "text/plain": [
       "{'original_url': 'https://www.airforcetimes.com/battlefield-tech/space/2022/12/14/us-military-creates-space-unit-in-south-korea-amid-north-korea-threats/',\n",
       " 'url': 'https://www.airforcetimes.com/battlefield-tech/space/2022/12/14/us-military-creates-space-unit-in-south-korea-amid-north-korea-threats/',\n",
       " 'normalized_url': 'http://airforcetimes.com/battlefield-tech/space/2022/12/14/us-military-creates-space-unit-in-south-korea-amid-north-korea-threats/',\n",
       " 'canonical_domain': 'airforcetimes.com',\n",
       " 'publication_date': datetime.datetime(2022, 12, 14, 0, 0),\n",
       " 'language': 'en',\n",
       " 'full_language': 'en',\n",
       " 'text_extraction_method': 'trafilatura',\n",
       " 'article_title': 'US military creates space unit in South Korea amid North Korea threats',\n",
       " 'normalized_article_title': 'us military creates space unit in south korea amid north korea threats',\n",
       " 'text_content': 'SEOUL, South Korea — The U.S. military formally launched a space force unit in South Korea on Wednesday, a move that will likely enable Washington to better monitor its rivals North Korea, China and Russia.\\nThe activation of the U.S. Space Forces Korea at Osan Air Base near Seoul came after North Korea test-fired a barrage of nuclear-capable ballistic missiles designed to strike the U.S. mainland and its allies South Korea and Japan in recent months.\\n“Just 48 miles north of us exists an existential threat; a threat that we must be prepared to deter, defend against, and – if required – defeat,” Lt. Col. Joshua McCullion, chief of the new space unit, said during the activation ceremony at Osan. He apparently referred to North Korea, whose heavily fortified border with South Korea is just an hour’s drive from Seoul, the South’s capital.\\nThe unit belongs to the U.S. Space Force, which was launched in December 2019 under then-President Donald Trump as the first new U.S. military service in more than 70 years.\\nThe Space Force was seen soberly as an affirmation of the need to more effectively organize for the defense of U.S. interests in space — especially satellites used for civilian and military navigation, intelligence and communication. A previous Pentagon report said China and Russia had embarked on major efforts to develop technologies that could allow them to disrupt or destroy American and allied satellites in a crisis or conflict.\\nThe U.S. Space Forces Korea is a subordinate of a bigger U.S. Space Force unit established within the Indo-Pacific command in Hawaii last month.\\nJung Chang Wook, head of the Korea Defense Study Forum think tank in Seoul, said the U.S. Space Force was created to bring together diverse surveillance assets including space-based satellites in one organization to manage and develop them in an effective, systemic manner. He said its unit in South Korea would work like a field unit while the other one in the Indo-Pacific Command would be its headquarters.\\n“The U.S. Space Forces Korea would maintain, operate and asses related equipment. Simply speaking, I would say the actual U.S. space operations will be done at Osan Air Base,” Jung said. He said the main role of the U.S. Space Forces Korea would be receiving, processing and analyzing tremendous amount of data and information transmitted by U.S. satellites.\\n“The U.S. military is faster, better connected, more informed, precise and lethal because of space,” Gen. Paul LaCamera, commander of the 28,500 U.S. troops in South Korea, said during the ceremony. “Specifically, the activation here today, of U.S. Space Forces Korea ... enhances our ability to defend the homelands and ensure peace and security on the Korean Peninsula and in Northeast Asia.”\\nJung said the launch of a space unit in South Korea was primarily aimed at better monitoring North Korea, followed by China and then Russia.\\nThe United States and South Korea have expanded their regular military drills and pushed to further bolster their combined defense capability in the face of North Korea’s advancing nuclear program. North Korea has threatened to use nuclear weapons preemptively in potential conflicts with the United States and South Korea, and the U.S. military warned the North that the use of nuclear weapons “will result in the end of that regime.”',\n",
       " 'is_homepage': False,\n",
       " 'is_shortened': False,\n",
       " 'version': '0.9.2'}"
      ]
     },
     "execution_count": 7,
     "metadata": {},
     "output_type": "execute_result"
    }
   ],
   "source": [
    "url = 'https://www.airforcetimes.com/battlefield-tech/space/2022/12/14/us-military-creates-space-unit-in-south-korea-amid-north-korea-threats/'\n",
    "\n",
    "# metadata = extract(url=\"https://my.awesome.news/story-path/\")\n",
    "metadata = extract(url)\n",
    "metadata"
   ]
  },
  {
   "cell_type": "code",
   "execution_count": null,
   "id": "78addd10",
   "metadata": {},
   "outputs": [],
   "source": []
  }
 ],
 "metadata": {
  "kernelspec": {
   "display_name": "Python 3 (ipykernel)",
   "language": "python",
   "name": "python3"
  },
  "language_info": {
   "codemirror_mode": {
    "name": "ipython",
    "version": 3
   },
   "file_extension": ".py",
   "mimetype": "text/x-python",
   "name": "python",
   "nbconvert_exporter": "python",
   "pygments_lexer": "ipython3",
   "version": "3.10.11"
  }
 },
 "nbformat": 4,
 "nbformat_minor": 5
}
