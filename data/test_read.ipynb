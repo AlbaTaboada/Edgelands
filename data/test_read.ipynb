{
 "cells": [
  {
   "cell_type": "code",
   "execution_count": null,
   "metadata": {},
   "outputs": [],
   "source": [
    "import pandas as pd"
   ]
  },
  {
   "cell_type": "code",
   "execution_count": 3,
   "metadata": {},
   "outputs": [],
   "source": [
    "df = pd.read_json('/home/luc/projets/Dario/ASSISTANCE/Svalur/data/fusion_extract.json')"
   ]
  },
  {
   "cell_type": "code",
   "execution_count": 4,
   "metadata": {},
   "outputs": [
    {
     "name": "stdout",
     "output_type": "stream",
     "text": [
      "   index  year                                              title  \\\n",
      "0      0  2022  US military creates space unit in South Korea ...   \n",
      "1      1  2022  China using civilian ships to enhance navy cap...   \n",
      "2      3  2022  Burn pit registry is failing to help track vet...   \n",
      "\n",
      "                                                 url  \\\n",
      "0  https://www.airforcetimes.com/battlefield-tech...   \n",
      "1  https://www.airforcetimes.com/flashpoints/chin...   \n",
      "2  https://www.airforcetimes.com/news/burn-pits/2...   \n",
      "\n",
      "                                        text_content  \\\n",
      "0  SEOUL, South Korea — The U.S. military formall...   \n",
      "1  BANGKOK — A Chinese scientific ship bristling ...   \n",
      "2  The nearly decade-old Veterans Affairs registr...   \n",
      "\n",
      "                                             article  \\\n",
      "0  https://www.airforcetimes.com/battlefield-tech...   \n",
      "1  https://www.airforcetimes.com/flashpoints/chin...   \n",
      "2  https://www.airforcetimes.com/news/burn-pits/2...   \n",
      "\n",
      "                                                tags  \\\n",
      "0  [{'label': 'armament, defense and military for...   \n",
      "1  [{'label': 'ships and shipping', 'score': '0.7...   \n",
      "2  [{'label': 'medicine and health', 'score': '0....   \n",
      "\n",
      "                                                 NER  \n",
      "0  {'GPE': ['SEOUL', 'South Korea', 'U.S.', 'Sout...  \n",
      "1  {'GPE': ['Beijing', 'China', 'Beijing', 'Taiwa...  \n",
      "2  {'GPE': ['Rhode Island', 'VA', 'Washington', '...  \n"
     ]
    }
   ],
   "source": [
    "print(df)"
   ]
  },
  {
   "cell_type": "code",
   "execution_count": null,
   "metadata": {},
   "outputs": [],
   "source": []
  }
 ],
 "metadata": {
  "kernelspec": {
   "display_name": "Python 3",
   "language": "python",
   "name": "python3"
  },
  "language_info": {
   "codemirror_mode": {
    "name": "ipython",
    "version": 3
   },
   "file_extension": ".py",
   "mimetype": "text/x-python",
   "name": "python",
   "nbconvert_exporter": "python",
   "pygments_lexer": "ipython3",
   "version": "3.10.12"
  },
  "orig_nbformat": 4
 },
 "nbformat": 4,
 "nbformat_minor": 2
}
