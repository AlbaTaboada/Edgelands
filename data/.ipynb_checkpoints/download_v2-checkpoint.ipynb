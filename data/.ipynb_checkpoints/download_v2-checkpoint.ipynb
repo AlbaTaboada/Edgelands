{
 "cells": [
  {
   "cell_type": "code",
   "execution_count": 1,
   "id": "6ea597d3",
   "metadata": {
    "tags": [
     "outputPrepend"
    ]
   },
   "outputs": [],
   "source": [
    "# https://search.mediacloud.org/\n",
    "# https://pypi.org/project/mediacloud-metadata/\n",
    "# https://github.com/mediacloud/mc-providers/blob/main/mc_providers/test/test_onlinenews.py#L272\n",
    "\n",
    "import datetime\n",
    "import json\n",
    "import pandas as pd\n",
    "import requests\n",
    "from mcmetadata import extract\n",
    "\n",
    "import mediacloud.api\n",
    "\n",
    "# Init the connection\n",
    "mc = mediacloud.api.DirectoryApi('56196a395ee77c33a296073fa08e72f541362a10')\n",
    "\n",
    "# Read the query.csv file to obtain information of each item to dump\n",
    "df_query = pd.read_csv('query_v3.csv')\n"
   ]
  },
  {
   "cell_type": "code",
   "execution_count": 2,
   "id": "d851cc73",
   "metadata": {},
   "outputs": [
    {
     "name": "stdout",
     "output_type": "stream",
     "text": [
      "4\n"
     ]
    }
   ],
   "source": [
    "size_query = df_query.shape[0]\n",
    "print(size_query)"
   ]
  },
  {
   "cell_type": "code",
   "execution_count": 3,
   "id": "74d88279",
   "metadata": {},
   "outputs": [
    {
     "name": "stdout",
     "output_type": "stream",
     "text": [
      "Erreur -> \"Webpage didn't return content (404) from https://www.airforcetimes.com/intel-geoint/isr/2022/06/03/unlocking-airborne-isr-can-help-achieve-regional-security-in-indo-pacific/\", pour l'url : https://www.airforcetimes.com/intel-geoint/isr/2022/06/03/unlocking-airborne-isr-can-help-achieve-regional-security-in-indo-pacific/\n"
     ]
    },
    {
     "ename": "NameError",
     "evalue": "name 'url' is not defined",
     "output_type": "error",
     "traceback": [
      "\u001b[0;31m---------------------------------------------------------------------------\u001b[0m",
      "\u001b[0;31mRuntimeError\u001b[0m                              Traceback (most recent call last)",
      "Input \u001b[0;32mIn [3]\u001b[0m, in \u001b[0;36m<cell line: 4>\u001b[0;34m()\u001b[0m\n\u001b[1;32m      7\u001b[0m \u001b[38;5;28;01mtry\u001b[39;00m: \n\u001b[0;32m----> 8\u001b[0m     metadata \u001b[38;5;241m=\u001b[39m \u001b[43mextract\u001b[49m\u001b[43m(\u001b[49m\u001b[43murl\u001b[49m\u001b[38;5;241;43m=\u001b[39;49m\u001b[43murl_data\u001b[49m\u001b[43m)\u001b[49m\n\u001b[1;32m      9\u001b[0m     metadata[\u001b[38;5;124m'\u001b[39m\u001b[38;5;124mpublication_date\u001b[39m\u001b[38;5;124m'\u001b[39m] \u001b[38;5;241m=\u001b[39m metadata[\u001b[38;5;124m'\u001b[39m\u001b[38;5;124mpublication_date\u001b[39m\u001b[38;5;124m'\u001b[39m]\u001b[38;5;241m.\u001b[39myear\n",
      "File \u001b[0;32m~/anaconda3/lib/python3.8/site-packages/mcmetadata/__init__.py:40\u001b[0m, in \u001b[0;36mextract\u001b[0;34m(url, html_text, include_other_metadata)\u001b[0m\n\u001b[1;32m     39\u001b[0m \u001b[38;5;28;01mif\u001b[39;00m html_text \u001b[38;5;129;01mis\u001b[39;00m \u001b[38;5;28;01mNone\u001b[39;00m:\n\u001b[0;32m---> 40\u001b[0m     raw_html, response \u001b[38;5;241m=\u001b[39m \u001b[43mwebpages\u001b[49m\u001b[38;5;241;43m.\u001b[39;49m\u001b[43mfetch\u001b[49m\u001b[43m(\u001b[49m\u001b[43murl\u001b[49m\u001b[43m)\u001b[49m\n\u001b[1;32m     41\u001b[0m     \u001b[38;5;66;03m# check for archived URLs\u001b[39;00m\n",
      "File \u001b[0;32m~/anaconda3/lib/python3.8/site-packages/mcmetadata/webpages.py:18\u001b[0m, in \u001b[0;36mfetch\u001b[0;34m(url, user_agent, timeout, fix_encoding)\u001b[0m\n\u001b[1;32m     17\u001b[0m \u001b[38;5;28;01mif\u001b[39;00m response\u001b[38;5;241m.\u001b[39mstatus_code \u001b[38;5;241m!=\u001b[39m \u001b[38;5;241m200\u001b[39m:\n\u001b[0;32m---> 18\u001b[0m     \u001b[38;5;28;01mraise\u001b[39;00m \u001b[38;5;167;01mRuntimeError\u001b[39;00m(\u001b[38;5;124m\"\u001b[39m\u001b[38;5;124mWebpage didn\u001b[39m\u001b[38;5;124m'\u001b[39m\u001b[38;5;124mt return content (\u001b[39m\u001b[38;5;132;01m{}\u001b[39;00m\u001b[38;5;124m) from \u001b[39m\u001b[38;5;132;01m{}\u001b[39;00m\u001b[38;5;124m\"\u001b[39m\u001b[38;5;241m.\u001b[39mformat(response\u001b[38;5;241m.\u001b[39mstatus_code, url))\n\u001b[1;32m     19\u001b[0m \u001b[38;5;28;01mif\u001b[39;00m (\u001b[38;5;124m\"\u001b[39m\u001b[38;5;124mcontent-type\u001b[39m\u001b[38;5;124m\"\u001b[39m \u001b[38;5;129;01min\u001b[39;00m response\u001b[38;5;241m.\u001b[39mheaders) \u001b[38;5;129;01mand\u001b[39;00m (\u001b[38;5;124m\"\u001b[39m\u001b[38;5;124mtext/html\u001b[39m\u001b[38;5;124m\"\u001b[39m \u001b[38;5;129;01mnot\u001b[39;00m \u001b[38;5;129;01min\u001b[39;00m response\u001b[38;5;241m.\u001b[39mheaders[\u001b[38;5;124m\"\u001b[39m\u001b[38;5;124mcontent-type\u001b[39m\u001b[38;5;124m\"\u001b[39m]):\n",
      "\u001b[0;31mRuntimeError\u001b[0m: Webpage didn't return content (404) from https://www.airforcetimes.com/intel-geoint/isr/2022/06/03/unlocking-airborne-isr-can-help-achieve-regional-security-in-indo-pacific/",
      "\nDuring handling of the above exception, another exception occurred:\n",
      "\u001b[0;31mNameError\u001b[0m                                 Traceback (most recent call last)",
      "Input \u001b[0;32mIn [3]\u001b[0m, in \u001b[0;36m<cell line: 4>\u001b[0;34m()\u001b[0m\n\u001b[1;32m     22\u001b[0m \u001b[38;5;28;01mexcept\u001b[39;00m \u001b[38;5;167;01mException\u001b[39;00m \u001b[38;5;28;01mas\u001b[39;00m e:\n\u001b[1;32m     23\u001b[0m     \u001b[38;5;28mprint\u001b[39m(\u001b[38;5;124mf\u001b[39m\u001b[38;5;124m'\u001b[39m\u001b[38;5;124mErreur -> \u001b[39m\u001b[38;5;124m\"\u001b[39m\u001b[38;5;132;01m{\u001b[39;00me\u001b[38;5;132;01m}\u001b[39;00m\u001b[38;5;124m\"\u001b[39m\u001b[38;5;124m, pour l\u001b[39m\u001b[38;5;130;01m\\'\u001b[39;00m\u001b[38;5;124murl : \u001b[39m\u001b[38;5;132;01m{\u001b[39;00murl_data\u001b[38;5;132;01m}\u001b[39;00m\u001b[38;5;124m'\u001b[39m )\n\u001b[0;32m---> 24\u001b[0m     log_message \u001b[38;5;241m=\u001b[39m \u001b[38;5;124mf\u001b[39m\u001b[38;5;124m\"\u001b[39m\u001b[38;5;132;01m{\u001b[39;00mdatetime\u001b[38;5;241m.\u001b[39mdatetime\u001b[38;5;241m.\u001b[39mnow()\u001b[38;5;132;01m}\u001b[39;00m\u001b[38;5;124m - \u001b[39m\u001b[38;5;132;01m{\u001b[39;00me\u001b[38;5;132;01m}\u001b[39;00m\u001b[38;5;124m ; \u001b[39m\u001b[38;5;132;01m{\u001b[39;00murl\u001b[38;5;132;01m}\u001b[39;00m\u001b[38;5;130;01m\\n\u001b[39;00m\u001b[38;5;124m\"\u001b[39m\n\u001b[1;32m     25\u001b[0m     \u001b[38;5;28;01mwith\u001b[39;00m \u001b[38;5;28mopen\u001b[39m(\u001b[38;5;124m'\u001b[39m\u001b[38;5;124mlog.txt\u001b[39m\u001b[38;5;124m'\u001b[39m, \u001b[38;5;124m'\u001b[39m\u001b[38;5;124ma\u001b[39m\u001b[38;5;124m'\u001b[39m) \u001b[38;5;28;01mas\u001b[39;00m log_file:\n\u001b[1;32m     26\u001b[0m         log_file\u001b[38;5;241m.\u001b[39mwrite(log_message)\n",
      "\u001b[0;31mNameError\u001b[0m: name 'url' is not defined"
     ]
    }
   ],
   "source": [
    "# Create the result dataframe\n",
    "df_result = pd.DataFrame(columns=['year', 'title', 'url', 'text_content'])\n",
    "\n",
    "for counter in range(0,size_query) :\n",
    "    # Query the MediaCloud API with each item\n",
    "    url_data = df_query.iloc[counter].url\n",
    "    try: \n",
    "        metadata = extract(url=url_data)\n",
    "        metadata['publication_date'] = metadata['publication_date'].year\n",
    "    \n",
    "        # Append data to the result dataframe\n",
    "        list_metadata = []\n",
    "        for field in ['publication_date', 'article_title', 'url', 'text_content'] :\n",
    "            list_metadata.append(metadata[field])\n",
    "        # Append data to the result dataframe\n",
    "        df_result.loc[counter] = list_metadata\n",
    "        # And wirte date in a JSON File\n",
    "        with open('data.json', 'a') as f:\n",
    "            json.dump(metadata, f)\n",
    "            f.write('\\n')\n",
    "        \n",
    "    except Exception as e:\n",
    "        print(f'Erreur -> \"{e}\", pour l\\'url : {url_data}' )\n",
    "        log_message = f\"{datetime.datetime.now()} - {e} ; {url_data}\\n\"\n",
    "        with open('log.txt', 'a') as log_file:\n",
    "            log_file.write(log_message)\n",
    "\n",
    "print(df_result.describe)"
   ]
  },
  {
   "cell_type": "code",
   "execution_count": null,
   "id": "b1a74bdf",
   "metadata": {},
   "outputs": [],
   "source": [
    "# Export dataframe to a feather format file\n",
    "df_result.reset_index().to_feather('results_v3.feather')"
   ]
  },
  {
   "cell_type": "code",
   "execution_count": null,
   "id": "bbca41d1",
   "metadata": {},
   "outputs": [],
   "source": []
  }
 ],
 "metadata": {
  "kernelspec": {
   "display_name": "Python 3 (ipykernel)",
   "language": "python",
   "name": "python3"
  },
  "language_info": {
   "codemirror_mode": {
    "name": "ipython",
    "version": 3
   },
   "file_extension": ".py",
   "mimetype": "text/x-python",
   "name": "python",
   "nbconvert_exporter": "python",
   "pygments_lexer": "ipython3",
   "version": "3.8.3"
  }
 },
 "nbformat": 4,
 "nbformat_minor": 5
}
