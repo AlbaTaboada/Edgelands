{
 "cells": [
  {
   "cell_type": "code",
   "execution_count": 1,
   "id": "c3de3d9d",
   "metadata": {},
   "outputs": [
    {
     "name": "stdout",
     "output_type": "stream",
     "text": [
      "Requirement already satisfied: spacy in /home/luc/anaconda3/lib/python3.8/site-packages (3.5.4)\n",
      "Requirement already satisfied: pathy>=0.10.0 in /home/luc/anaconda3/lib/python3.8/site-packages (from spacy) (0.10.2)\n",
      "Requirement already satisfied: spacy-legacy<3.1.0,>=3.0.11 in /home/luc/anaconda3/lib/python3.8/site-packages (from spacy) (3.0.12)\n",
      "Requirement already satisfied: preshed<3.1.0,>=3.0.2 in /home/luc/anaconda3/lib/python3.8/site-packages (from spacy) (3.0.8)\n",
      "Requirement already satisfied: catalogue<2.1.0,>=2.0.6 in /home/luc/anaconda3/lib/python3.8/site-packages (from spacy) (2.0.8)\n",
      "Requirement already satisfied: typer<0.10.0,>=0.3.0 in /home/luc/anaconda3/lib/python3.8/site-packages (from spacy) (0.9.0)\n",
      "Requirement already satisfied: jinja2 in /home/luc/anaconda3/lib/python3.8/site-packages (from spacy) (3.1.2)\n",
      "Requirement already satisfied: srsly<3.0.0,>=2.4.3 in /home/luc/anaconda3/lib/python3.8/site-packages (from spacy) (2.4.6)\n",
      "Requirement already satisfied: pydantic!=1.8,!=1.8.1,<1.11.0,>=1.7.4 in /home/luc/anaconda3/lib/python3.8/site-packages (from spacy) (1.10.10)\n",
      "Requirement already satisfied: langcodes<4.0.0,>=3.2.0 in /home/luc/anaconda3/lib/python3.8/site-packages (from spacy) (3.3.0)\n",
      "Requirement already satisfied: thinc<8.2.0,>=8.1.8 in /home/luc/anaconda3/lib/python3.8/site-packages (from spacy) (8.1.10)\n",
      "Requirement already satisfied: requests<3.0.0,>=2.13.0 in /home/luc/anaconda3/lib/python3.8/site-packages (from spacy) (2.31.0)\n",
      "Requirement already satisfied: spacy-loggers<2.0.0,>=1.0.0 in /home/luc/anaconda3/lib/python3.8/site-packages (from spacy) (1.0.4)\n",
      "Requirement already satisfied: murmurhash<1.1.0,>=0.28.0 in /home/luc/anaconda3/lib/python3.8/site-packages (from spacy) (1.0.9)\n",
      "Requirement already satisfied: wasabi<1.2.0,>=0.9.1 in /home/luc/anaconda3/lib/python3.8/site-packages (from spacy) (1.1.2)\n",
      "Requirement already satisfied: packaging>=20.0 in /home/luc/anaconda3/lib/python3.8/site-packages (from spacy) (21.3)\n",
      "Requirement already satisfied: smart-open<7.0.0,>=5.2.1 in /home/luc/anaconda3/lib/python3.8/site-packages (from spacy) (6.3.0)\n",
      "Requirement already satisfied: tqdm<5.0.0,>=4.38.0 in /home/luc/.local/lib/python3.8/site-packages (from spacy) (4.53.0)\n",
      "Requirement already satisfied: cymem<2.1.0,>=2.0.2 in /home/luc/anaconda3/lib/python3.8/site-packages (from spacy) (2.0.7)\n",
      "Requirement already satisfied: numpy>=1.15.0 in /home/luc/anaconda3/lib/python3.8/site-packages (from spacy) (1.19.4)\n",
      "Requirement already satisfied: setuptools in /home/luc/anaconda3/lib/python3.8/site-packages (from spacy) (61.2.0)\n",
      "Requirement already satisfied: pyparsing!=3.0.5,>=2.0.2 in /home/luc/anaconda3/lib/python3.8/site-packages (from packaging>=20.0->spacy) (2.4.7)\n",
      "Requirement already satisfied: typing-extensions>=4.2.0 in /home/luc/anaconda3/lib/python3.8/site-packages (from pydantic!=1.8,!=1.8.1,<1.11.0,>=1.7.4->spacy) (4.7.0)\n",
      "Requirement already satisfied: charset-normalizer<4,>=2 in /home/luc/anaconda3/lib/python3.8/site-packages (from requests<3.0.0,>=2.13.0->spacy) (3.1.0)\n",
      "Requirement already satisfied: urllib3<3,>=1.21.1 in /home/luc/anaconda3/lib/python3.8/site-packages (from requests<3.0.0,>=2.13.0->spacy) (1.26.9)\n",
      "Requirement already satisfied: idna<4,>=2.5 in /home/luc/anaconda3/lib/python3.8/site-packages (from requests<3.0.0,>=2.13.0->spacy) (3.4)\n",
      "Requirement already satisfied: certifi>=2017.4.17 in /home/luc/anaconda3/lib/python3.8/site-packages (from requests<3.0.0,>=2.13.0->spacy) (2022.12.7)\n",
      "Requirement already satisfied: confection<1.0.0,>=0.0.1 in /home/luc/anaconda3/lib/python3.8/site-packages (from thinc<8.2.0,>=8.1.8->spacy) (0.1.0)\n",
      "Requirement already satisfied: blis<0.8.0,>=0.7.8 in /home/luc/anaconda3/lib/python3.8/site-packages (from thinc<8.2.0,>=8.1.8->spacy) (0.7.9)\n",
      "Requirement already satisfied: click<9.0.0,>=7.1.1 in /home/luc/anaconda3/lib/python3.8/site-packages (from typer<0.10.0,>=0.3.0->spacy) (7.1.2)\n",
      "Requirement already satisfied: MarkupSafe>=2.0 in /home/luc/anaconda3/lib/python3.8/site-packages (from jinja2->spacy) (2.0.1)\n",
      "2023-07-07 14:55:36.321568: I tensorflow/stream_executor/platform/default/dso_loader.cc:49] Successfully opened dynamic library libcudart.so.11.0\n",
      "2023-07-07 14:55:39.178776: I tensorflow/compiler/jit/xla_cpu_device.cc:41] Not creating XLA devices, tf_xla_enable_xla_devices not set\n",
      "2023-07-07 14:55:39.179418: W tensorflow/stream_executor/platform/default/dso_loader.cc:60] Could not load dynamic library 'libcuda.so.1'; dlerror: libcuda.so.1: cannot open shared object file: No such file or directory\n",
      "2023-07-07 14:55:39.179442: W tensorflow/stream_executor/cuda/cuda_driver.cc:326] failed call to cuInit: UNKNOWN ERROR (303)\n",
      "2023-07-07 14:55:39.179470: I tensorflow/stream_executor/cuda/cuda_diagnostics.cc:156] kernel driver does not appear to be running on this host (luc-XPS-13-9370): /proc/driver/nvidia/version does not exist\n",
      "Collecting en-core-web-sm==3.5.0\n",
      "  Downloading https://github.com/explosion/spacy-models/releases/download/en_core_web_sm-3.5.0/en_core_web_sm-3.5.0-py3-none-any.whl (12.8 MB)\n",
      "\u001b[K     |████████████████████████████████| 12.8 MB 9.7 MB/s eta 0:00:01    |██████████████▊                 | 5.9 MB 9.7 MB/s eta 0:00:01\n",
      "\u001b[?25hRequirement already satisfied: spacy<3.6.0,>=3.5.0 in /home/luc/anaconda3/lib/python3.8/site-packages (from en-core-web-sm==3.5.0) (3.5.4)\n",
      "Requirement already satisfied: smart-open<7.0.0,>=5.2.1 in /home/luc/anaconda3/lib/python3.8/site-packages (from spacy<3.6.0,>=3.5.0->en-core-web-sm==3.5.0) (6.3.0)\n",
      "Requirement already satisfied: spacy-loggers<2.0.0,>=1.0.0 in /home/luc/anaconda3/lib/python3.8/site-packages (from spacy<3.6.0,>=3.5.0->en-core-web-sm==3.5.0) (1.0.4)\n",
      "Requirement already satisfied: wasabi<1.2.0,>=0.9.1 in /home/luc/anaconda3/lib/python3.8/site-packages (from spacy<3.6.0,>=3.5.0->en-core-web-sm==3.5.0) (1.1.2)\n",
      "Requirement already satisfied: numpy>=1.15.0 in /home/luc/anaconda3/lib/python3.8/site-packages (from spacy<3.6.0,>=3.5.0->en-core-web-sm==3.5.0) (1.19.4)\n",
      "Requirement already satisfied: packaging>=20.0 in /home/luc/anaconda3/lib/python3.8/site-packages (from spacy<3.6.0,>=3.5.0->en-core-web-sm==3.5.0) (21.3)\n",
      "Requirement already satisfied: typer<0.10.0,>=0.3.0 in /home/luc/anaconda3/lib/python3.8/site-packages (from spacy<3.6.0,>=3.5.0->en-core-web-sm==3.5.0) (0.9.0)\n",
      "Requirement already satisfied: jinja2 in /home/luc/anaconda3/lib/python3.8/site-packages (from spacy<3.6.0,>=3.5.0->en-core-web-sm==3.5.0) (3.1.2)\n",
      "Requirement already satisfied: tqdm<5.0.0,>=4.38.0 in /home/luc/.local/lib/python3.8/site-packages (from spacy<3.6.0,>=3.5.0->en-core-web-sm==3.5.0) (4.53.0)\n",
      "Requirement already satisfied: requests<3.0.0,>=2.13.0 in /home/luc/anaconda3/lib/python3.8/site-packages (from spacy<3.6.0,>=3.5.0->en-core-web-sm==3.5.0) (2.31.0)\n",
      "Requirement already satisfied: langcodes<4.0.0,>=3.2.0 in /home/luc/anaconda3/lib/python3.8/site-packages (from spacy<3.6.0,>=3.5.0->en-core-web-sm==3.5.0) (3.3.0)\n",
      "Requirement already satisfied: cymem<2.1.0,>=2.0.2 in /home/luc/anaconda3/lib/python3.8/site-packages (from spacy<3.6.0,>=3.5.0->en-core-web-sm==3.5.0) (2.0.7)\n",
      "Requirement already satisfied: setuptools in /home/luc/anaconda3/lib/python3.8/site-packages (from spacy<3.6.0,>=3.5.0->en-core-web-sm==3.5.0) (61.2.0)\n",
      "Requirement already satisfied: catalogue<2.1.0,>=2.0.6 in /home/luc/anaconda3/lib/python3.8/site-packages (from spacy<3.6.0,>=3.5.0->en-core-web-sm==3.5.0) (2.0.8)\n",
      "Requirement already satisfied: murmurhash<1.1.0,>=0.28.0 in /home/luc/anaconda3/lib/python3.8/site-packages (from spacy<3.6.0,>=3.5.0->en-core-web-sm==3.5.0) (1.0.9)\n",
      "Requirement already satisfied: spacy-legacy<3.1.0,>=3.0.11 in /home/luc/anaconda3/lib/python3.8/site-packages (from spacy<3.6.0,>=3.5.0->en-core-web-sm==3.5.0) (3.0.12)\n",
      "Requirement already satisfied: pydantic!=1.8,!=1.8.1,<1.11.0,>=1.7.4 in /home/luc/anaconda3/lib/python3.8/site-packages (from spacy<3.6.0,>=3.5.0->en-core-web-sm==3.5.0) (1.10.10)\n",
      "Requirement already satisfied: preshed<3.1.0,>=3.0.2 in /home/luc/anaconda3/lib/python3.8/site-packages (from spacy<3.6.0,>=3.5.0->en-core-web-sm==3.5.0) (3.0.8)\n",
      "Requirement already satisfied: srsly<3.0.0,>=2.4.3 in /home/luc/anaconda3/lib/python3.8/site-packages (from spacy<3.6.0,>=3.5.0->en-core-web-sm==3.5.0) (2.4.6)\n",
      "Requirement already satisfied: pathy>=0.10.0 in /home/luc/anaconda3/lib/python3.8/site-packages (from spacy<3.6.0,>=3.5.0->en-core-web-sm==3.5.0) (0.10.2)\n",
      "Requirement already satisfied: thinc<8.2.0,>=8.1.8 in /home/luc/anaconda3/lib/python3.8/site-packages (from spacy<3.6.0,>=3.5.0->en-core-web-sm==3.5.0) (8.1.10)\n",
      "Requirement already satisfied: pyparsing!=3.0.5,>=2.0.2 in /home/luc/anaconda3/lib/python3.8/site-packages (from packaging>=20.0->spacy<3.6.0,>=3.5.0->en-core-web-sm==3.5.0) (2.4.7)\n",
      "Requirement already satisfied: typing-extensions>=4.2.0 in /home/luc/anaconda3/lib/python3.8/site-packages (from pydantic!=1.8,!=1.8.1,<1.11.0,>=1.7.4->spacy<3.6.0,>=3.5.0->en-core-web-sm==3.5.0) (4.7.0)\n",
      "Requirement already satisfied: urllib3<3,>=1.21.1 in /home/luc/anaconda3/lib/python3.8/site-packages (from requests<3.0.0,>=2.13.0->spacy<3.6.0,>=3.5.0->en-core-web-sm==3.5.0) (1.26.9)\n",
      "Requirement already satisfied: certifi>=2017.4.17 in /home/luc/anaconda3/lib/python3.8/site-packages (from requests<3.0.0,>=2.13.0->spacy<3.6.0,>=3.5.0->en-core-web-sm==3.5.0) (2022.12.7)\n",
      "Requirement already satisfied: idna<4,>=2.5 in /home/luc/anaconda3/lib/python3.8/site-packages (from requests<3.0.0,>=2.13.0->spacy<3.6.0,>=3.5.0->en-core-web-sm==3.5.0) (3.4)\n",
      "Requirement already satisfied: charset-normalizer<4,>=2 in /home/luc/anaconda3/lib/python3.8/site-packages (from requests<3.0.0,>=2.13.0->spacy<3.6.0,>=3.5.0->en-core-web-sm==3.5.0) (3.1.0)\n",
      "Requirement already satisfied: blis<0.8.0,>=0.7.8 in /home/luc/anaconda3/lib/python3.8/site-packages (from thinc<8.2.0,>=8.1.8->spacy<3.6.0,>=3.5.0->en-core-web-sm==3.5.0) (0.7.9)\n",
      "Requirement already satisfied: confection<1.0.0,>=0.0.1 in /home/luc/anaconda3/lib/python3.8/site-packages (from thinc<8.2.0,>=8.1.8->spacy<3.6.0,>=3.5.0->en-core-web-sm==3.5.0) (0.1.0)\n",
      "Requirement already satisfied: click<9.0.0,>=7.1.1 in /home/luc/anaconda3/lib/python3.8/site-packages (from typer<0.10.0,>=0.3.0->spacy<3.6.0,>=3.5.0->en-core-web-sm==3.5.0) (7.1.2)\n",
      "Requirement already satisfied: MarkupSafe>=2.0 in /home/luc/anaconda3/lib/python3.8/site-packages (from jinja2->spacy<3.6.0,>=3.5.0->en-core-web-sm==3.5.0) (2.0.1)\n",
      "\u001b[38;5;2m✔ Download and installation successful\u001b[0m\n",
      "You can now load the package via spacy.load('en_core_web_sm')\n",
      "2023-07-07 14:55:48.989528: I tensorflow/stream_executor/platform/default/dso_loader.cc:49] Successfully opened dynamic library libcudart.so.11.0\n",
      "2023-07-07 14:55:50.812308: I tensorflow/compiler/jit/xla_cpu_device.cc:41] Not creating XLA devices, tf_xla_enable_xla_devices not set\n",
      "2023-07-07 14:55:50.812489: W tensorflow/stream_executor/platform/default/dso_loader.cc:60] Could not load dynamic library 'libcuda.so.1'; dlerror: libcuda.so.1: cannot open shared object file: No such file or directory\n",
      "2023-07-07 14:55:50.812504: W tensorflow/stream_executor/cuda/cuda_driver.cc:326] failed call to cuInit: UNKNOWN ERROR (303)\n",
      "2023-07-07 14:55:50.812523: I tensorflow/stream_executor/cuda/cuda_diagnostics.cc:156] kernel driver does not appear to be running on this host (luc-XPS-13-9370): /proc/driver/nvidia/version does not exist\n",
      "\u001b[38;5;3m⚠ As of spaCy v3.0, shortcuts like 'en' are deprecated. Please use the\n",
      "full pipeline package name 'en_core_web_sm' instead.\u001b[0m\n",
      "Collecting en-core-web-sm==3.5.0\n",
      "  Downloading https://github.com/explosion/spacy-models/releases/download/en_core_web_sm-3.5.0/en_core_web_sm-3.5.0-py3-none-any.whl (12.8 MB)\n",
      "\u001b[K     |████████████████████████████████| 12.8 MB 10.0 MB/s eta 0:00:01\n",
      "\u001b[?25hRequirement already satisfied: spacy<3.6.0,>=3.5.0 in /home/luc/anaconda3/lib/python3.8/site-packages (from en-core-web-sm==3.5.0) (3.5.4)\n",
      "Requirement already satisfied: murmurhash<1.1.0,>=0.28.0 in /home/luc/anaconda3/lib/python3.8/site-packages (from spacy<3.6.0,>=3.5.0->en-core-web-sm==3.5.0) (1.0.9)\n",
      "Requirement already satisfied: pathy>=0.10.0 in /home/luc/anaconda3/lib/python3.8/site-packages (from spacy<3.6.0,>=3.5.0->en-core-web-sm==3.5.0) (0.10.2)\n",
      "Requirement already satisfied: jinja2 in /home/luc/anaconda3/lib/python3.8/site-packages (from spacy<3.6.0,>=3.5.0->en-core-web-sm==3.5.0) (3.1.2)\n",
      "Requirement already satisfied: spacy-legacy<3.1.0,>=3.0.11 in /home/luc/anaconda3/lib/python3.8/site-packages (from spacy<3.6.0,>=3.5.0->en-core-web-sm==3.5.0) (3.0.12)\n",
      "Requirement already satisfied: typer<0.10.0,>=0.3.0 in /home/luc/anaconda3/lib/python3.8/site-packages (from spacy<3.6.0,>=3.5.0->en-core-web-sm==3.5.0) (0.9.0)\n",
      "Requirement already satisfied: langcodes<4.0.0,>=3.2.0 in /home/luc/anaconda3/lib/python3.8/site-packages (from spacy<3.6.0,>=3.5.0->en-core-web-sm==3.5.0) (3.3.0)\n",
      "Requirement already satisfied: thinc<8.2.0,>=8.1.8 in /home/luc/anaconda3/lib/python3.8/site-packages (from spacy<3.6.0,>=3.5.0->en-core-web-sm==3.5.0) (8.1.10)\n",
      "Requirement already satisfied: catalogue<2.1.0,>=2.0.6 in /home/luc/anaconda3/lib/python3.8/site-packages (from spacy<3.6.0,>=3.5.0->en-core-web-sm==3.5.0) (2.0.8)\n",
      "Requirement already satisfied: smart-open<7.0.0,>=5.2.1 in /home/luc/anaconda3/lib/python3.8/site-packages (from spacy<3.6.0,>=3.5.0->en-core-web-sm==3.5.0) (6.3.0)\n",
      "Requirement already satisfied: cymem<2.1.0,>=2.0.2 in /home/luc/anaconda3/lib/python3.8/site-packages (from spacy<3.6.0,>=3.5.0->en-core-web-sm==3.5.0) (2.0.7)\n",
      "Requirement already satisfied: spacy-loggers<2.0.0,>=1.0.0 in /home/luc/anaconda3/lib/python3.8/site-packages (from spacy<3.6.0,>=3.5.0->en-core-web-sm==3.5.0) (1.0.4)\n",
      "Requirement already satisfied: numpy>=1.15.0 in /home/luc/anaconda3/lib/python3.8/site-packages (from spacy<3.6.0,>=3.5.0->en-core-web-sm==3.5.0) (1.19.4)\n",
      "Requirement already satisfied: preshed<3.1.0,>=3.0.2 in /home/luc/anaconda3/lib/python3.8/site-packages (from spacy<3.6.0,>=3.5.0->en-core-web-sm==3.5.0) (3.0.8)\n",
      "Requirement already satisfied: wasabi<1.2.0,>=0.9.1 in /home/luc/anaconda3/lib/python3.8/site-packages (from spacy<3.6.0,>=3.5.0->en-core-web-sm==3.5.0) (1.1.2)\n",
      "Requirement already satisfied: srsly<3.0.0,>=2.4.3 in /home/luc/anaconda3/lib/python3.8/site-packages (from spacy<3.6.0,>=3.5.0->en-core-web-sm==3.5.0) (2.4.6)\n",
      "Requirement already satisfied: packaging>=20.0 in /home/luc/anaconda3/lib/python3.8/site-packages (from spacy<3.6.0,>=3.5.0->en-core-web-sm==3.5.0) (21.3)\n",
      "Requirement already satisfied: tqdm<5.0.0,>=4.38.0 in /home/luc/.local/lib/python3.8/site-packages (from spacy<3.6.0,>=3.5.0->en-core-web-sm==3.5.0) (4.53.0)\n",
      "Requirement already satisfied: pydantic!=1.8,!=1.8.1,<1.11.0,>=1.7.4 in /home/luc/anaconda3/lib/python3.8/site-packages (from spacy<3.6.0,>=3.5.0->en-core-web-sm==3.5.0) (1.10.10)\n",
      "Requirement already satisfied: requests<3.0.0,>=2.13.0 in /home/luc/anaconda3/lib/python3.8/site-packages (from spacy<3.6.0,>=3.5.0->en-core-web-sm==3.5.0) (2.31.0)\n",
      "Requirement already satisfied: setuptools in /home/luc/anaconda3/lib/python3.8/site-packages (from spacy<3.6.0,>=3.5.0->en-core-web-sm==3.5.0) (61.2.0)\n",
      "Requirement already satisfied: pyparsing!=3.0.5,>=2.0.2 in /home/luc/anaconda3/lib/python3.8/site-packages (from packaging>=20.0->spacy<3.6.0,>=3.5.0->en-core-web-sm==3.5.0) (2.4.7)\n",
      "Requirement already satisfied: typing-extensions>=4.2.0 in /home/luc/anaconda3/lib/python3.8/site-packages (from pydantic!=1.8,!=1.8.1,<1.11.0,>=1.7.4->spacy<3.6.0,>=3.5.0->en-core-web-sm==3.5.0) (4.7.0)\n",
      "Requirement already satisfied: certifi>=2017.4.17 in /home/luc/anaconda3/lib/python3.8/site-packages (from requests<3.0.0,>=2.13.0->spacy<3.6.0,>=3.5.0->en-core-web-sm==3.5.0) (2022.12.7)\n",
      "Requirement already satisfied: idna<4,>=2.5 in /home/luc/anaconda3/lib/python3.8/site-packages (from requests<3.0.0,>=2.13.0->spacy<3.6.0,>=3.5.0->en-core-web-sm==3.5.0) (3.4)\n",
      "Requirement already satisfied: charset-normalizer<4,>=2 in /home/luc/anaconda3/lib/python3.8/site-packages (from requests<3.0.0,>=2.13.0->spacy<3.6.0,>=3.5.0->en-core-web-sm==3.5.0) (3.1.0)\n",
      "Requirement already satisfied: urllib3<3,>=1.21.1 in /home/luc/anaconda3/lib/python3.8/site-packages (from requests<3.0.0,>=2.13.0->spacy<3.6.0,>=3.5.0->en-core-web-sm==3.5.0) (1.26.9)\n",
      "Requirement already satisfied: confection<1.0.0,>=0.0.1 in /home/luc/anaconda3/lib/python3.8/site-packages (from thinc<8.2.0,>=8.1.8->spacy<3.6.0,>=3.5.0->en-core-web-sm==3.5.0) (0.1.0)\n",
      "Requirement already satisfied: blis<0.8.0,>=0.7.8 in /home/luc/anaconda3/lib/python3.8/site-packages (from thinc<8.2.0,>=8.1.8->spacy<3.6.0,>=3.5.0->en-core-web-sm==3.5.0) (0.7.9)\n",
      "Requirement already satisfied: click<9.0.0,>=7.1.1 in /home/luc/anaconda3/lib/python3.8/site-packages (from typer<0.10.0,>=0.3.0->spacy<3.6.0,>=3.5.0->en-core-web-sm==3.5.0) (7.1.2)\n",
      "Requirement already satisfied: MarkupSafe>=2.0 in /home/luc/anaconda3/lib/python3.8/site-packages (from jinja2->spacy<3.6.0,>=3.5.0->en-core-web-sm==3.5.0) (2.0.1)\n",
      "\u001b[38;5;2m✔ Download and installation successful\u001b[0m\n",
      "You can now load the package via spacy.load('en_core_web_sm')\n",
      "2023-07-07 14:56:02.351454: I tensorflow/stream_executor/platform/default/dso_loader.cc:49] Successfully opened dynamic library libcudart.so.11.0\n",
      "2023-07-07 14:56:04.985190: I tensorflow/compiler/jit/xla_cpu_device.cc:41] Not creating XLA devices, tf_xla_enable_xla_devices not set\n",
      "2023-07-07 14:56:04.985389: W tensorflow/stream_executor/platform/default/dso_loader.cc:60] Could not load dynamic library 'libcuda.so.1'; dlerror: libcuda.so.1: cannot open shared object file: No such file or directory\n",
      "2023-07-07 14:56:04.985402: W tensorflow/stream_executor/cuda/cuda_driver.cc:326] failed call to cuInit: UNKNOWN ERROR (303)\n",
      "2023-07-07 14:56:04.985426: I tensorflow/stream_executor/cuda/cuda_diagnostics.cc:156] kernel driver does not appear to be running on this host (luc-XPS-13-9370): /proc/driver/nvidia/version does not exist\n",
      "\n",
      "\u001b[38;5;1m✘ No compatible package found for 'en_core_web_sm-2.2.0' (spaCy\n",
      "v3.5.4)\u001b[0m\n",
      "\n"
     ]
    }
   ],
   "source": [
    "!pip install spacy\n",
    "!python -m spacy download en_core_web_sm\n",
    "!python -m spacy download en\n",
    "!python -m spacy download en_core_web_sm-2.2.0"
   ]
  },
  {
   "cell_type": "code",
   "execution_count": 2,
   "id": "8adaf9e5",
   "metadata": {},
   "outputs": [
    {
     "name": "stderr",
     "output_type": "stream",
     "text": [
      "2023-07-07 14:56:08.852886: I tensorflow/stream_executor/platform/default/dso_loader.cc:49] Successfully opened dynamic library libcudart.so.11.0\n",
      "2023-07-07 14:56:10.774189: I tensorflow/compiler/jit/xla_cpu_device.cc:41] Not creating XLA devices, tf_xla_enable_xla_devices not set\n",
      "2023-07-07 14:56:10.774457: W tensorflow/stream_executor/platform/default/dso_loader.cc:60] Could not load dynamic library 'libcuda.so.1'; dlerror: libcuda.so.1: cannot open shared object file: No such file or directory\n",
      "2023-07-07 14:56:10.774477: W tensorflow/stream_executor/cuda/cuda_driver.cc:326] failed call to cuInit: UNKNOWN ERROR (303)\n",
      "2023-07-07 14:56:10.774503: I tensorflow/stream_executor/cuda/cuda_diagnostics.cc:156] kernel driver does not appear to be running on this host (luc-XPS-13-9370): /proc/driver/nvidia/version does not exist\n"
     ]
    }
   ],
   "source": [
    "import spacy\n",
    "nlp = spacy.load('en_core_web_sm')"
   ]
  },
  {
   "cell_type": "code",
   "execution_count": 3,
   "id": "af1c8434",
   "metadata": {},
   "outputs": [
    {
     "name": "stdout",
     "output_type": "stream",
     "text": [
      "Mark\n",
      "Mark PERSON\n"
     ]
    }
   ],
   "source": [
    "doc = nlp(\"Hi my name is Mark\")\n",
    "for ent in doc.ents:\n",
    "    print(ent)\n",
    "    print(ent.text, ent.label_)"
   ]
  },
  {
   "cell_type": "markdown",
   "id": "70e76d5c",
   "metadata": {},
   "source": [
    "## Démonstration de NER ves un Dataframe Pandas"
   ]
  },
  {
   "cell_type": "code",
   "execution_count": 8,
   "id": "59462738",
   "metadata": {},
   "outputs": [
    {
     "name": "stdout",
     "output_type": "stream",
     "text": [
      "  Entité    Type\n",
      "0   Mark  PERSON\n"
     ]
    }
   ],
   "source": [
    "import pandas as pd\n",
    "\n",
    "entities = []\n",
    "\n",
    "# Parcourir les entités nommées dans le document\n",
    "for entity in doc.ents:\n",
    "    entities.append((entity.text, entity.label_))\n",
    "    \n",
    "# Créer un DataFrame Pandas à partir de la liste des entités\n",
    "df = pd.DataFrame(entities, columns=[\"Entité\", \"Type\"])\n",
    "\n",
    "# Afficher le DataFrame\n",
    "print(df)\n"
   ]
  },
  {
   "cell_type": "markdown",
   "id": "e68bfd3b",
   "metadata": {},
   "source": [
    "## Test d'extraction sur une page Wikipédia, en Anglais, qui parle d'un château connu en France"
   ]
  },
  {
   "cell_type": "code",
   "execution_count": 15,
   "id": "2431c0dc",
   "metadata": {},
   "outputs": [
    {
     "name": "stdout",
     "output_type": "stream",
     "text": [
      "                                                Entité     Type\n",
      "0                                                 Loir     NORP\n",
      "1                                                 Main  PRODUCT\n",
      "2                                                 Main      FAC\n",
      "3                               Navigation\\n\\t\\n\\nMain      ORG\n",
      "4                          Contribute\\n\\t\\n\\nHelpLearn   PERSON\n",
      "..                                                 ...      ...\n",
      "248  the Creative Commons Attribution-ShareAlike Li...      ORG\n",
      "249                the Terms of Use and Privacy Policy      ORG\n",
      "250                                          Wikipedia      GPE\n",
      "251                           the Wikimedia Foundation      ORG\n",
      "252                                             Toggle      ORG\n",
      "\n",
      "[253 rows x 2 columns]\n",
      "                                          Entité Type\n",
      "57   the Loire Valley UNESCO World Heritage Site  LOC\n",
      "70                                      Henry II  LOC\n",
      "99   the Loire Valley UNESCO World Heritage Site  LOC\n",
      "220                                       Vernou  LOC\n",
      "                                                Entité    Type\n",
      "4                          Contribute\\n\\t\\n\\nHelpLearn  PERSON\n",
      "20                                               Tools  PERSON\n",
      "39                         André Joly[1]Area154.38 km2  PERSON\n",
      "68                                          Francis I.  PERSON\n",
      "71                                           Louis XIV  PERSON\n",
      "..                                                 ...     ...\n",
      "225                   Villemardy\\nVilleneuve-Frouville  PERSON\n",
      "226  Villeny\\nVilleporcher\\nVillerable\\nVillerbon\\n...  PERSON\n",
      "228                                           Villiers  PERSON\n",
      "229                              Villiersfaux\\nVineuil  PERSON\n",
      "244                                       Kartographer  PERSON\n",
      "\n",
      "[64 rows x 2 columns]\n"
     ]
    }
   ],
   "source": [
    "import requests\n",
    "from bs4 import BeautifulSoup\n",
    "import spacy\n",
    "import pandas as pd\n",
    "\n",
    "\n",
    "# URL de la page Wikipédia\n",
    "url = \"https://en.wikipedia.org/wiki/Chambord,_Loir-et-Cher\"\n",
    "\n",
    "# Effectuer la requête HTTP pour récupérer le contenu de la page\n",
    "response = requests.get(url)\n",
    "content = response.content\n",
    "\n",
    "# Utiliser Beautiful Soup pour extraire le texte de la page\n",
    "soup = BeautifulSoup(content, \"html.parser\")\n",
    "texte = soup.get_text()\n",
    "\n",
    "# Analyser le texte avec Spacy\n",
    "doc = nlp(texte)\n",
    "\n",
    "# Liste pour stocker les entités nommées\n",
    "entites = []\n",
    "\n",
    "# Parcourir les entités nommées dans le document\n",
    "for entite in doc.ents:\n",
    "    entites.append((entite.text, entite.label_))\n",
    "\n",
    "# Créer un DataFrame Pandas à partir de la liste des entités\n",
    "df = pd.DataFrame(entites, columns=[\"Entité\", \"Type\"])\n",
    "\n",
    "# Afficher le DataFrame\n",
    "print(df)\n",
    "\n",
    "# Filtrer le DataFrame sur les entités de type \"Lieu\"\n",
    "df_filtre = df.loc[df[\"Type\"] == \"LOC\"]\n",
    "\n",
    "# Afficher le DataFrame filtré\n",
    "print(df_filtre)\n",
    "\n",
    "# Filtrer le DataFrame sur les entités de type \"Personne\"\n",
    "df_filtre = df.loc[df[\"Type\"] == \"PERSON\"]\n",
    "\n",
    "# Afficher le DataFrame filtré\n",
    "print(df_filtre)"
   ]
  },
  {
   "cell_type": "markdown",
   "id": "fff9d3b6",
   "metadata": {},
   "source": [
    "## Test d'extraction sur un article"
   ]
  },
  {
   "cell_type": "code",
   "execution_count": 19,
   "id": "8e9d662b",
   "metadata": {},
   "outputs": [
    {
     "name": "stdout",
     "output_type": "stream",
     "text": [
      "index                                                           0\n",
      "year                                                         2022\n",
      "title           US military creates space unit in South Korea ...\n",
      "url             https://www.airforcetimes.com/battlefield-tech...\n",
      "text_content    SEOUL, South Korea — The U.S. military formall...\n",
      "Name: 0, dtype: object\n"
     ]
    }
   ],
   "source": [
    "\n",
    "# Load the feather file into a pandas dataframe\n",
    "df_data = pd.read_feather(\"results_v3.feather\")\n",
    "\n",
    "print(df_data.iloc[0])\n",
    "texte = df_data.iloc[0].text_content"
   ]
  },
  {
   "cell_type": "code",
   "execution_count": 20,
   "id": "2b0d4bf1",
   "metadata": {},
   "outputs": [
    {
     "name": "stdout",
     "output_type": "stream",
     "text": [
      "               Entité  Type\n",
      "0               SEOUL   GPE\n",
      "1         South Korea   GPE\n",
      "2                U.S.   GPE\n",
      "3         South Korea   GPE\n",
      "4           Wednesday  DATE\n",
      "..                ...   ...\n",
      "72        North Korea   GPE\n",
      "73  the United States   GPE\n",
      "74        South Korea   GPE\n",
      "75               U.S.   GPE\n",
      "76              North   LOC\n",
      "\n",
      "[77 rows x 2 columns]\n",
      "                  Entité Type\n",
      "24                 South  LOC\n",
      "62  the Korean Peninsula  LOC\n",
      "63        Northeast Asia  LOC\n",
      "76                 North  LOC\n",
      "              Entité    Type\n",
      "18  Joshua McCullion  PERSON\n",
      "27      Donald Trump  PERSON\n",
      "42   Jung Chang Wook  PERSON\n",
      "52              Jung  PERSON\n",
      "56     Paul LaCamera  PERSON\n",
      "64              Jung  PERSON\n"
     ]
    }
   ],
   "source": [
    "# Analyser le texte avec Spacy\n",
    "doc = nlp(texte)\n",
    "\n",
    "# Liste pour stocker les entités nommées\n",
    "entites = []\n",
    "\n",
    "# Parcourir les entités nommées dans le document\n",
    "for entite in doc.ents:\n",
    "    entites.append((entite.text, entite.label_))\n",
    "\n",
    "# Créer un DataFrame Pandas à partir de la liste des entités\n",
    "df = pd.DataFrame(entites, columns=[\"Entité\", \"Type\"])\n",
    "\n",
    "# Afficher le DataFrame\n",
    "print(df)\n",
    "\n",
    "# Filtrer le DataFrame sur les entités de type \"Lieu\"\n",
    "df_filtre = df.loc[df[\"Type\"] == \"LOC\"]\n",
    "\n",
    "# Afficher le DataFrame filtré\n",
    "print(df_filtre)\n",
    "print(\"-------------------------\")\n",
    "\n",
    "# Filtrer le DataFrame sur les entités de type \"Personne\"\n",
    "df_filtre = df.loc[df[\"Type\"] == \"PERSON\"]\n",
    "\n",
    "# Afficher le DataFrame filtré\n",
    "print(df_filtre)"
   ]
  }
 ],
 "metadata": {
  "kernelspec": {
   "display_name": "Python 3 (ipykernel)",
   "language": "python",
   "name": "python3"
  },
  "language_info": {
   "codemirror_mode": {
    "name": "ipython",
    "version": 3
   },
   "file_extension": ".py",
   "mimetype": "text/x-python",
   "name": "python",
   "nbconvert_exporter": "python",
   "pygments_lexer": "ipython3",
   "version": "3.8.3"
  }
 },
 "nbformat": 4,
 "nbformat_minor": 5
}
