{
 "cells": [
  {
   "cell_type": "code",
   "execution_count": 1,
   "id": "b997687d",
   "metadata": {},
   "outputs": [],
   "source": [
    "import pandas as pd"
   ]
  },
  {
   "cell_type": "code",
   "execution_count": 2,
   "id": "b2fa5415",
   "metadata": {},
   "outputs": [],
   "source": [
    "# Load the feather file into a pandas dataframe\n",
    "df_data = pd.read_feather(\"results_v3.feather\")"
   ]
  },
  {
   "cell_type": "code",
   "execution_count": 3,
   "id": "f33422e1",
   "metadata": {},
   "outputs": [
    {
     "name": "stdout",
     "output_type": "stream",
     "text": [
      "index                                                           0\n",
      "year                                                         2022\n",
      "title           US military creates space unit in South Korea ...\n",
      "url             https://www.airforcetimes.com/battlefield-tech...\n",
      "text_content    SEOUL, South Korea — The U.S. military formall...\n",
      "Name: 0, dtype: object\n"
     ]
    }
   ],
   "source": [
    "print(df_data.iloc[0])"
   ]
  },
  {
   "cell_type": "markdown",
   "id": "72493a39",
   "metadata": {},
   "source": [
    "---\n",
    "The *News Labels Classifier* is running on the local machine.  \n",
    "Text contents are sended to it.  \n",
    "In response, the *News Labels Classifier* sends the scriptors and their score."
   ]
  },
  {
   "cell_type": "code",
   "execution_count": 4,
   "id": "4f941dd3",
   "metadata": {},
   "outputs": [],
   "source": [
    "import requests\n",
    "import json"
   ]
  },
  {
   "cell_type": "code",
   "execution_count": 5,
   "id": "85c67d77",
   "metadata": {},
   "outputs": [
    {
     "name": "stdout",
     "output_type": "stream",
     "text": [
      "200\n"
     ]
    }
   ],
   "source": [
    "headers = {\n",
    "    \"Content-Type\": \"application/json\"\n",
    "}\n",
    "\n",
    "#for counter in range(0,df_data)\n",
    "data = {\n",
    "    \"text\" : df_data.iloc[1].text_content # first record of the dataframe\n",
    "}\n",
    "response = requests.post(\"http://localhost:8000/predict.json\", data=json.dumps(data), headers=headers)\n",
    "print(response.status_code)"
   ]
  },
  {
   "cell_type": "code",
   "execution_count": 6,
   "id": "87ab6102",
   "metadata": {},
   "outputs": [
    {
     "name": "stdout",
     "output_type": "stream",
     "text": [
      "[{'label': 'ships and shipping', 'score': '0.77248'}, {'label': 'armament, defense and military forces', 'score': '0.64042'}, {'label': 'international relations', 'score': '0.33288'}]\n"
     ]
    }
   ],
   "source": [
    "response_text = json.loads(response.text)\n",
    "# Retrieve the descriptors ( predicted tags with e score)\n",
    "descriptors = (response_text['predictions']['allDescriptors'])\n",
    "print(descriptors[0:3]) # Extract the 3 first  "
   ]
  },
  {
   "cell_type": "code",
   "execution_count": 7,
   "id": "207b5fda",
   "metadata": {},
   "outputs": [
    {
     "name": "stdout",
     "output_type": "stream",
     "text": [
      "[{'label': 'ships and shipping', 'score': '0.77248'}, {'label': 'armament, defense and military forces', 'score': '0.64042'}, {'label': 'international relations', 'score': '0.33288'}, {'label': 'politics and government', 'score': '0.31745'}, {'label': 'united states armament and defense', 'score': '0.25994'}, {'label': 'navies', 'score': '0.21146'}, {'label': 'united states international relations', 'score': '0.13085'}, {'label': 'airlines and airplanes', 'score': '0.09414'}, {'label': 'travel and vacations', 'score': '0.08297'}, {'label': 'united states politics and government', 'score': '0.07315'}, {'label': 'china-international relations-us', 'score': '0.04983'}, {'label': 'no index terms from nytimes', 'score': '0.04709'}, {'label': 'environment', 'score': '0.03696'}, {'label': 'terrorism', 'score': '0.03657'}, {'label': 'economic conditions and trends', 'score': '0.02787'}, {'label': 'ferries', 'score': '0.02705'}, {'label': 'international trade and world market', 'score': '0.02523'}, {'label': 'atomic weapons', 'score': '0.02386'}, {'label': 'security and warning systems', 'score': '0.01936'}, {'label': 'whales and whaling', 'score': '0.01820'}, {'label': 'submarines', 'score': '0.01805'}, {'label': 'animals', 'score': '0.01770'}, {'label': 'office buildings and commercial properties', 'score': '0.01562'}, {'label': 'accidents and safety', 'score': '0.01445'}, {'label': 'nytravel', 'score': '0.01045'}, {'label': 'fish and other marine life', 'score': '0.01044'}, {'label': 'military aircraft', 'score': '0.00994'}, {'label': 'hijacking', 'score': '0.00980'}, {'label': 'crime and criminals', 'score': '0.00917'}, {'label': 'demonstrations and riots', 'score': '0.00917'}]\n"
     ]
    }
   ],
   "source": [
    "print(descriptors)"
   ]
  },
  {
   "cell_type": "code",
   "execution_count": 28,
   "id": "ac5d0a81",
   "metadata": {},
   "outputs": [
    {
     "name": "stdout",
     "output_type": "stream",
     "text": [
      "                                             article  \\\n",
      "0  https://www.airforcetimes.com/battlefield-tech...   \n",
      "\n",
      "                                                tags  \n",
      "0                                      label    s...  \n"
     ]
    }
   ],
   "source": [
    "\n",
    "def dump_labels(descriptors):\n",
    "    df_labels = pd.DataFrame(columns=['label','score'])\n",
    "    counter = 0\n",
    "    for d in descriptors:\n",
    "        df_labels.loc[counter] = [d['label'], d['score']]\n",
    "        counter = counter + 1 \n",
    "    return df_labels\n",
    "\n",
    "df_results = pd.DataFrame(columns=['article','tags'])\n",
    "for counter_data in range(0,5):\n",
    "    data = {\n",
    "        \"text\" : df_data.loc[counter_data].text_content # first record of the dataframe\n",
    "    }\n",
    "    response = requests.post(\"http://localhost:8000/predict.json\", data=json.dumps(data), headers=headers)\n",
    "    response_text = json.loads(response.text)\n",
    "    \n",
    "    # Retrieve the descriptors ( predicted tags with e score)\n",
    "    descriptors = (response_text['predictions']['allDescriptors'])\n",
    "    df_tags = dump_labels(descriptors)\n",
    "    \n",
    "    # Append to the results\n",
    "    df_results.loc[counter_data] = [df_data.loc[counter_data].url,df_tags]\n",
    "    \n",
    "print(df_results)\n"
   ]
  },
  {
   "cell_type": "code",
   "execution_count": 5,
   "id": "600362e1",
   "metadata": {},
   "outputs": [
    {
     "name": "stdout",
     "output_type": "stream",
     "text": [
      "200\n"
     ]
    }
   ],
   "source": []
  }
 ],
 "metadata": {
  "kernelspec": {
   "display_name": "Python 3 (ipykernel)",
   "language": "python",
   "name": "python3"
  },
  "language_info": {
   "codemirror_mode": {
    "name": "ipython",
    "version": 3
   },
   "file_extension": ".py",
   "mimetype": "text/x-python",
   "name": "python",
   "nbconvert_exporter": "python",
   "pygments_lexer": "ipython3",
   "version": "3.8.3"
  }
 },
 "nbformat": 4,
 "nbformat_minor": 5
}
