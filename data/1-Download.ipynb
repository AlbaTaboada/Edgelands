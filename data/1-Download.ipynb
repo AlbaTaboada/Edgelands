{
 "cells": [
  {
   "cell_type": "markdown",
   "id": "5e531b5a",
   "metadata": {},
   "source": [
    "# Libraries"
   ]
  },
  {
   "cell_type": "code",
   "execution_count": 55,
   "id": "eb6a4d4d",
   "metadata": {},
   "outputs": [],
   "source": [
    "import datetime\n",
    "import json\n",
    "import pandas as pd\n",
    "import requests\n",
    "import time\n",
    "import random\n",
    "import sys\n",
    "import os\n",
    "import os.path\n",
    "\n",
    "from mcmetadata import extract\n",
    "# import mediacloud.api\n",
    "\n",
    "from tqdm.notebook import trange  # to display a progress bar\n",
    "import ipywidgets as widgets\n",
    "from IPython.display import display\n",
    "\n",
    "# Init the connection\n",
    "# mc = mediacloud.api.DirectoryApi(\"56196a395ee77c33a296073fa08e72f541362a10\")"
   ]
  },
  {
   "cell_type": "markdown",
   "id": "b9836295",
   "metadata": {},
   "source": [
    "# Dataset"
   ]
  },
  {
   "cell_type": "code",
   "execution_count": 56,
   "id": "8e33b22f",
   "metadata": {},
   "outputs": [
    {
     "data": {
      "text/html": [
       "<div>\n",
       "<style scoped>\n",
       "    .dataframe tbody tr th:only-of-type {\n",
       "        vertical-align: middle;\n",
       "    }\n",
       "\n",
       "    .dataframe tbody tr th {\n",
       "        vertical-align: top;\n",
       "    }\n",
       "\n",
       "    .dataframe thead th {\n",
       "        text-align: right;\n",
       "    }\n",
       "</style>\n",
       "<table border=\"1\" class=\"dataframe\">\n",
       "  <thead>\n",
       "    <tr style=\"text-align: right;\">\n",
       "      <th></th>\n",
       "      <th>stories_id</th>\n",
       "      <th>title</th>\n",
       "      <th>url</th>\n",
       "      <th>year</th>\n",
       "      <th>text</th>\n",
       "      <th>text_downloaded</th>\n",
       "    </tr>\n",
       "  </thead>\n",
       "  <tbody>\n",
       "    <tr>\n",
       "      <th>2482</th>\n",
       "      <td>341414440</td>\n",
       "      <td>Plainclothes Officers in New York Find Danger ...</td>\n",
       "      <td>http://www.nytimes.com/2015/05/04/nyregion/pla...</td>\n",
       "      <td>2015</td>\n",
       "      <td></td>\n",
       "      <td>False</td>\n",
       "    </tr>\n",
       "  </tbody>\n",
       "</table>\n",
       "</div>"
      ],
      "text/plain": [
       "     stories_id                                              title  \\\n",
       "2482  341414440  Plainclothes Officers in New York Find Danger ...   \n",
       "\n",
       "                                                    url  year text  \\\n",
       "2482  http://www.nytimes.com/2015/05/04/nyregion/pla...  2015        \n",
       "\n",
       "      text_downloaded  \n",
       "2482            False  "
      ]
     },
     "execution_count": 56,
     "metadata": {},
     "output_type": "execute_result"
    }
   ],
   "source": [
    "# query = \"Query_NYT_5y_surveillance\"\n",
    "query = \"Query_NYT_13y_surveillance\"\n",
    "# query = \"Query_US_5y_Svalbard\"\n",
    "\n",
    "CSV_FILE = query + \".csv\"\n",
    "FEATHER_FILE = query + \".feather\"\n",
    "\n",
    "if os.path.isfile(FEATHER_FILE):\n",
    "    df = pd.read_feather(FEATHER_FILE)\n",
    "\n",
    "else:\n",
    "    df = pd.read_csv(CSV_FILE)\n",
    "\n",
    "    df[\"year\"] = df.loc[:, \"publish_date\"]\n",
    "    df[\"year\"] = df[\"year\"].str[:4]\n",
    "    df[\"text\"] = \"\"\n",
    "    df[\"text_downloaded\"] = False\n",
    "\n",
    "    df = df.drop(\n",
    "        [\n",
    "            \"ap_syndicated\",\n",
    "            \"collect_date\",\n",
    "            \"feeds\",\n",
    "            \"guid\",\n",
    "            \"media_id\",\n",
    "            \"media_name\",\n",
    "            \"media_url\",\n",
    "            \"metadata\",\n",
    "            \"language\",\n",
    "            \"processed_stories_id\",\n",
    "            \"publish_date\",\n",
    "            \"story_tags\",\n",
    "            \"word_count\",\n",
    "        ],\n",
    "        axis=1,\n",
    "    )\n",
    "\n",
    "df.sample(1)"
   ]
  },
  {
   "cell_type": "code",
   "execution_count": 60,
   "id": "a263c72f",
   "metadata": {},
   "outputs": [
    {
     "data": {
      "application/vnd.jupyter.widget-view+json": {
       "model_id": "50f803979e3f4389bf6a5e45031bd809",
       "version_major": 2,
       "version_minor": 0
      },
      "text/plain": [
       "IntText(value=4245, description='Total')"
      ]
     },
     "metadata": {},
     "output_type": "display_data"
    },
    {
     "data": {
      "application/vnd.jupyter.widget-view+json": {
       "model_id": "81eb0682feb646658bad9511e7d96c5d",
       "version_major": 2,
       "version_minor": 0
      },
      "text/plain": [
       "IntText(value=0, description='Done')"
      ]
     },
     "metadata": {},
     "output_type": "display_data"
    },
    {
     "data": {
      "application/vnd.jupyter.widget-view+json": {
       "model_id": "26f4f1cb30bf4fcd95a6c03499b2122d",
       "version_major": 2,
       "version_minor": 0
      },
      "text/plain": [
       "IntText(value=0, description='Unavailable')"
      ]
     },
     "metadata": {},
     "output_type": "display_data"
    },
    {
     "data": {
      "application/vnd.jupyter.widget-view+json": {
       "model_id": "ade1701952fc427ebcf3750097e93e28",
       "version_major": 2,
       "version_minor": 0
      },
      "text/plain": [
       "IntText(value=0, description='Downloaded')"
      ]
     },
     "metadata": {},
     "output_type": "display_data"
    },
    {
     "data": {
      "application/vnd.jupyter.widget-view+json": {
       "model_id": "3606ab5293b7425d8aaa1c3619ac59b9",
       "version_major": 2,
       "version_minor": 0
      },
      "text/plain": [
       "IntText(value=0, description='Errors')"
      ]
     },
     "metadata": {},
     "output_type": "display_data"
    },
    {
     "data": {
      "application/vnd.jupyter.widget-view+json": {
       "model_id": "c2b18b5ad0914efdb1b065b5b73d4b69",
       "version_major": 2,
       "version_minor": 0
      },
      "text/plain": [
       "  0%|          | 0/4245 [00:00<?, ?it/s]"
      ]
     },
     "metadata": {},
     "output_type": "display_data"
    }
   ],
   "source": [
    "# Error Counter\n",
    "total = widgets.IntText(description=\"Total\", value=df.shape[0])\n",
    "done = widgets.IntText(description=\"Done\", value=0)\n",
    "unavailable = widgets.IntText(description=\"Unavailable\", value=0)\n",
    "yes = widgets.IntText(description=\"Downloaded\", value=0)\n",
    "no = widgets.IntText(description=\"Errors\", value=0)\n",
    "display(total, done, unavailable, yes, no)\n",
    "\n",
    "for index in trange(0, df.shape[0]):\n",
    "    if df.iloc[index].text_downloaded == True:\n",
    "        done.value += 1\n",
    "        continue\n",
    "\n",
    "    API = \"https://archive.org/wayback/available\"\n",
    "    params = {\n",
    "        \"url\": df.iloc[index].url,\n",
    "        \"timeout\": \"300\",\n",
    "        \"closest\": \"either\",\n",
    "        \"status_code\": \"200\",\n",
    "    }\n",
    "    headers = {\"accept\": \"application/json\"}\n",
    "\n",
    "    try:\n",
    "        response = requests.get(API, params=params, headers=headers)\n",
    "        snapshot = response.json().get(\"archived_snapshots\", {}).get(\"closest\")\n",
    "\n",
    "        if snapshot:\n",
    "            metadata = extract(url=snapshot.get(\"url\"))\n",
    "            df.at[index, \"text\"] = metadata[\"text_content\"]\n",
    "            df.at[index, \"text_downloaded\"] = True\n",
    "            yes.value += 1\n",
    "\n",
    "        else:\n",
    "            unavailable.value += 1\n",
    "\n",
    "    except Exception as e:\n",
    "        no.value += 1\n",
    "\n",
    "    time.sleep(random.uniform(1, 20))\n",
    "\n",
    "    df.to_feather(FEATHER_FILE)"
   ]
  },
  {
   "cell_type": "code",
   "execution_count": 58,
   "id": "7b3028ff",
   "metadata": {},
   "outputs": [
    {
     "data": {
      "text/html": [
       "<div>\n",
       "<style scoped>\n",
       "    .dataframe tbody tr th:only-of-type {\n",
       "        vertical-align: middle;\n",
       "    }\n",
       "\n",
       "    .dataframe tbody tr th {\n",
       "        vertical-align: top;\n",
       "    }\n",
       "\n",
       "    .dataframe thead th {\n",
       "        text-align: right;\n",
       "    }\n",
       "</style>\n",
       "<table border=\"1\" class=\"dataframe\">\n",
       "  <thead>\n",
       "    <tr style=\"text-align: right;\">\n",
       "      <th></th>\n",
       "      <th>stories_id</th>\n",
       "      <th>title</th>\n",
       "      <th>url</th>\n",
       "      <th>year</th>\n",
       "      <th>text</th>\n",
       "      <th>text_downloaded</th>\n",
       "    </tr>\n",
       "  </thead>\n",
       "  <tbody>\n",
       "    <tr>\n",
       "      <th>1898</th>\n",
       "      <td>2642451984</td>\n",
       "      <td>Is Brazil Under Luiz Inácio Lula da Silva ‘Ant...</td>\n",
       "      <td>https://www.nytimes.com/2023/05/02/opinion/bra...</td>\n",
       "      <td>2023</td>\n",
       "      <td></td>\n",
       "      <td>False</td>\n",
       "    </tr>\n",
       "    <tr>\n",
       "      <th>525</th>\n",
       "      <td>1392420174</td>\n",
       "      <td>Fearing ‘Spy Trains,’ Congress May Ban a Chine...</td>\n",
       "      <td>https://www.nytimes.com/2019/09/14/business/ch...</td>\n",
       "      <td>2019</td>\n",
       "      <td></td>\n",
       "      <td>False</td>\n",
       "    </tr>\n",
       "    <tr>\n",
       "      <th>2252</th>\n",
       "      <td>2787273777</td>\n",
       "      <td>Police Robot</td>\n",
       "      <td>https://www.nytimes.com/2023/10/03/learning/po...</td>\n",
       "      <td>2023</td>\n",
       "      <td></td>\n",
       "      <td>False</td>\n",
       "    </tr>\n",
       "    <tr>\n",
       "      <th>1745</th>\n",
       "      <td>2597365347</td>\n",
       "      <td>Kehinde Wiley’s New Exhibition Is a Chapel of ...</td>\n",
       "      <td>https://www.nytimes.com/2023/03/16/arts/design...</td>\n",
       "      <td>2023</td>\n",
       "      <td></td>\n",
       "      <td>False</td>\n",
       "    </tr>\n",
       "    <tr>\n",
       "      <th>955</th>\n",
       "      <td>1553672772</td>\n",
       "      <td>Your Friday Briefing</td>\n",
       "      <td>https://www.nytimes.com/2020/03/20/briefing/co...</td>\n",
       "      <td>2020</td>\n",
       "      <td></td>\n",
       "      <td>False</td>\n",
       "    </tr>\n",
       "  </tbody>\n",
       "</table>\n",
       "</div>"
      ],
      "text/plain": [
       "      stories_id                                              title  \\\n",
       "1898  2642451984  Is Brazil Under Luiz Inácio Lula da Silva ‘Ant...   \n",
       "525   1392420174  Fearing ‘Spy Trains,’ Congress May Ban a Chine...   \n",
       "2252  2787273777                                       Police Robot   \n",
       "1745  2597365347  Kehinde Wiley’s New Exhibition Is a Chapel of ...   \n",
       "955   1553672772                               Your Friday Briefing   \n",
       "\n",
       "                                                    url  year text  \\\n",
       "1898  https://www.nytimes.com/2023/05/02/opinion/bra...  2023        \n",
       "525   https://www.nytimes.com/2019/09/14/business/ch...  2019        \n",
       "2252  https://www.nytimes.com/2023/10/03/learning/po...  2023        \n",
       "1745  https://www.nytimes.com/2023/03/16/arts/design...  2023        \n",
       "955   https://www.nytimes.com/2020/03/20/briefing/co...  2020        \n",
       "\n",
       "      text_downloaded  \n",
       "1898            False  \n",
       "525             False  \n",
       "2252            False  \n",
       "1745            False  \n",
       "955             False  "
      ]
     },
     "execution_count": 58,
     "metadata": {},
     "output_type": "execute_result"
    }
   ],
   "source": [
    "df.to_feather(FEATHER_FILE)\n",
    "df.sample(5)"
   ]
  },
  {
   "cell_type": "code",
   "execution_count": null,
   "id": "34dbca48",
   "metadata": {},
   "outputs": [],
   "source": []
  }
 ],
 "metadata": {
  "kernelspec": {
   "display_name": "Python 3 (ipykernel)",
   "language": "python",
   "name": "python3"
  },
  "language_info": {
   "codemirror_mode": {
    "name": "ipython",
    "version": 3
   },
   "file_extension": ".py",
   "mimetype": "text/x-python",
   "name": "python",
   "nbconvert_exporter": "python",
   "pygments_lexer": "ipython3",
   "version": "3.10.12"
  }
 },
 "nbformat": 4,
 "nbformat_minor": 5
}
