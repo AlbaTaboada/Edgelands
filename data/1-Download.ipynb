{
 "cells": [
  {
   "cell_type": "markdown",
   "id": "5e531b5a",
   "metadata": {},
   "source": [
    "# Libraries"
   ]
  },
  {
   "cell_type": "code",
   "execution_count": 55,
   "id": "eb6a4d4d",
   "metadata": {},
   "outputs": [],
   "source": [
    "import datetime\n",
    "import json\n",
    "import pandas as pd\n",
    "import requests\n",
    "import time\n",
    "import random\n",
    "import sys\n",
    "import os\n",
    "import os.path\n",
    "\n",
    "from mcmetadata import extract\n",
    "# import mediacloud.api\n",
    "\n",
    "from tqdm.notebook import trange  # to display a progress bar\n",
    "import ipywidgets as widgets\n",
    "from IPython.display import display\n",
    "\n",
    "# Init the connection\n",
    "# mc = mediacloud.api.DirectoryApi(\"56196a395ee77c33a296073fa08e72f541362a10\")"
   ]
  },
  {
   "cell_type": "markdown",
   "id": "b9836295",
   "metadata": {},
   "source": [
    "# Dataset"
   ]
  },
  {
   "cell_type": "code",
   "execution_count": 56,
   "id": "8e33b22f",
   "metadata": {},
   "outputs": [
    {
     "data": {
      "text/html": [
       "<div>\n",
       "<style scoped>\n",
       "    .dataframe tbody tr th:only-of-type {\n",
       "        vertical-align: middle;\n",
       "    }\n",
       "\n",
       "    .dataframe tbody tr th {\n",
       "        vertical-align: top;\n",
       "    }\n",
       "\n",
       "    .dataframe thead th {\n",
       "        text-align: right;\n",
       "    }\n",
       "</style>\n",
       "<table border=\"1\" class=\"dataframe\">\n",
       "  <thead>\n",
       "    <tr style=\"text-align: right;\">\n",
       "      <th></th>\n",
       "      <th>stories_id</th>\n",
       "      <th>title</th>\n",
       "      <th>url</th>\n",
       "      <th>year</th>\n",
       "      <th>text</th>\n",
       "      <th>text_downloaded</th>\n",
       "    </tr>\n",
       "  </thead>\n",
       "  <tbody>\n",
       "    <tr>\n",
       "      <th>2482</th>\n",
       "      <td>341414440</td>\n",
       "      <td>Plainclothes Officers in New York Find Danger ...</td>\n",
       "      <td>http://www.nytimes.com/2015/05/04/nyregion/pla...</td>\n",
       "      <td>2015</td>\n",
       "      <td></td>\n",
       "      <td>False</td>\n",
       "    </tr>\n",
       "  </tbody>\n",
       "</table>\n",
       "</div>"
      ],
      "text/plain": [
       "     stories_id                                              title  \\\n",
       "2482  341414440  Plainclothes Officers in New York Find Danger ...   \n",
       "\n",
       "                                                    url  year text  \\\n",
       "2482  http://www.nytimes.com/2015/05/04/nyregion/pla...  2015        \n",
       "\n",
       "      text_downloaded  \n",
       "2482            False  "
      ]
     },
     "execution_count": 56,
     "metadata": {},
     "output_type": "execute_result"
    }
   ],
   "source": [
    "# query = \"Query_NYT_5y_surveillance\"\n",
    "query = \"Query_NYT_13y_surveillance\"\n",
    "# query = \"Query_US_5y_Svalbard\"\n",
    "\n",
    "CSV_FILE = query + \".csv\"\n",
    "FEATHER_FILE = query + \".feather\"\n",
    "\n",
    "if os.path.isfile(FEATHER_FILE):\n",
    "    df = pd.read_feather(FEATHER_FILE)\n",
    "\n",
    "else:\n",
    "    df = pd.read_csv(CSV_FILE)\n",
    "\n",
    "    df[\"year\"] = df.loc[:, \"publish_date\"]\n",
    "    df[\"year\"] = df[\"year\"].str[:4]\n",
    "    df[\"text\"] = \"\"\n",
    "    df[\"text_downloaded\"] = False\n",
    "\n",
    "    df = df.drop(\n",
    "        [\n",
    "            \"ap_syndicated\",\n",
    "            \"collect_date\",\n",
    "            \"feeds\",\n",
    "            \"guid\",\n",
    "            \"media_id\",\n",
    "            \"media_name\",\n",
    "            \"media_url\",\n",
    "            \"metadata\",\n",
    "            \"language\",\n",
    "            \"processed_stories_id\",\n",
    "            \"publish_date\",\n",
    "            \"story_tags\",\n",
    "            \"word_count\",\n",
    "        ],\n",
    "        axis=1,\n",
    "    )\n",
    "\n",
    "df.sample(1)"
   ]
  },
  {
   "cell_type": "code",
   "execution_count": 66,
   "id": "a263c72f",
   "metadata": {},
   "outputs": [
    {
     "data": {
      "application/vnd.jupyter.widget-view+json": {
       "model_id": "2635785469844f77bf148e2f4579fceb",
       "version_major": 2,
       "version_minor": 0
      },
      "text/plain": [
       "IntText(value=4245, description='Total')"
      ]
     },
     "metadata": {},
     "output_type": "display_data"
    },
    {
     "data": {
      "application/vnd.jupyter.widget-view+json": {
       "model_id": "104d8eb00bfa4fa481badb21f1ba3c7f",
       "version_major": 2,
       "version_minor": 0
      },
      "text/plain": [
       "IntText(value=0, description='Done')"
      ]
     },
     "metadata": {},
     "output_type": "display_data"
    },
    {
     "data": {
      "application/vnd.jupyter.widget-view+json": {
       "model_id": "e2ad1afe7b074af494b308ceb95c07dc",
       "version_major": 2,
       "version_minor": 0
      },
      "text/plain": [
       "IntText(value=0, description='Unavailable')"
      ]
     },
     "metadata": {},
     "output_type": "display_data"
    },
    {
     "data": {
      "application/vnd.jupyter.widget-view+json": {
       "model_id": "be234a1bd24f48fc8429557d4e5d1724",
       "version_major": 2,
       "version_minor": 0
      },
      "text/plain": [
       "IntText(value=0, description='Downloaded')"
      ]
     },
     "metadata": {},
     "output_type": "display_data"
    },
    {
     "data": {
      "application/vnd.jupyter.widget-view+json": {
       "model_id": "2779ffc35da7496389e47d92419b7742",
       "version_major": 2,
       "version_minor": 0
      },
      "text/plain": [
       "IntText(value=0, description='Errors')"
      ]
     },
     "metadata": {},
     "output_type": "display_data"
    },
    {
     "data": {
      "application/vnd.jupyter.widget-view+json": {
       "model_id": "3461dd630b0044efaea02c40fbd07bc3",
       "version_major": 2,
       "version_minor": 0
      },
      "text/plain": [
       "  0%|          | 0/4245 [00:00<?, ?it/s]"
      ]
     },
     "metadata": {},
     "output_type": "display_data"
    }
   ],
   "source": [
    "# Error Counter\n",
    "total = widgets.IntText(description=\"Total\", value=df.shape[0])\n",
    "done = widgets.IntText(description=\"Done\", value=0)\n",
    "unavailable = widgets.IntText(description=\"Unavailable\", value=0)\n",
    "yes = widgets.IntText(description=\"Downloaded\", value=0)\n",
    "no = widgets.IntText(description=\"Errors\", value=0)\n",
    "display(total, done, unavailable, yes, no)\n",
    "\n",
    "for index in trange(0, df.shape[0]):\n",
    "    if df.iloc[index].text_downloaded == True:\n",
    "        done.value += 1\n",
    "        continue\n",
    "\n",
    "    API = \"https://archive.org/wayback/available\"\n",
    "    params = {\n",
    "        \"url\": df.iloc[index].url,\n",
    "        \"timeout\": \"300\",\n",
    "        \"closest\": \"either\",\n",
    "        \"status_code\": \"200\",\n",
    "    }\n",
    "    headers = {\"accept\": \"application/json\"}\n",
    "\n",
    "    try:\n",
    "        response = requests.get(API, params=params, headers=headers)\n",
    "        snapshot = response.json().get(\"archived_snapshots\", {}).get(\"closest\")\n",
    "\n",
    "        if snapshot:\n",
    "            metadata = extract(url=snapshot.get(\"url\"))\n",
    "            df.at[index, \"text\"] = metadata[\"text_content\"]\n",
    "            df.at[index, \"text_downloaded\"] = True\n",
    "            yes.value += 1\n",
    "\n",
    "        else:\n",
    "            unavailable.value += 1\n",
    "\n",
    "    except Exception as e:\n",
    "        no.value += 1\n",
    "\n",
    "    # time.sleep(random.uniform(1, 20)) # This is not bad to run in the night\n",
    "    # time.sleep(random.uniform(.1, 1))\n",
    "\n",
    "    df.to_feather(FEATHER_FILE)"
   ]
  },
  {
   "cell_type": "code",
   "execution_count": 75,
   "id": "7b3028ff",
   "metadata": {},
   "outputs": [
    {
     "data": {
      "text/html": [
       "<div>\n",
       "<style scoped>\n",
       "    .dataframe tbody tr th:only-of-type {\n",
       "        vertical-align: middle;\n",
       "    }\n",
       "\n",
       "    .dataframe tbody tr th {\n",
       "        vertical-align: top;\n",
       "    }\n",
       "\n",
       "    .dataframe thead th {\n",
       "        text-align: right;\n",
       "    }\n",
       "</style>\n",
       "<table border=\"1\" class=\"dataframe\">\n",
       "  <thead>\n",
       "    <tr style=\"text-align: right;\">\n",
       "      <th></th>\n",
       "      <th>stories_id</th>\n",
       "      <th>title</th>\n",
       "      <th>url</th>\n",
       "      <th>year</th>\n",
       "      <th>text</th>\n",
       "      <th>text_downloaded</th>\n",
       "    </tr>\n",
       "  </thead>\n",
       "  <tbody>\n",
       "    <tr>\n",
       "      <th>1681</th>\n",
       "      <td>2572965596</td>\n",
       "      <td>Germany trains Ukrainians on tanks, which it s...</td>\n",
       "      <td>https://www.nytimes.com/live/2023/02/20/world/...</td>\n",
       "      <td>2023</td>\n",
       "      <td>Amid Air Raid Sirens, Biden Makes Surprise Ukr...</td>\n",
       "      <td>True</td>\n",
       "    </tr>\n",
       "    <tr>\n",
       "      <th>966</th>\n",
       "      <td>1559728498</td>\n",
       "      <td>Coronavirus Is Idling North Korea’s Ships, Ach...</td>\n",
       "      <td>https://www.nytimes.com/2020/03/26/video/coron...</td>\n",
       "      <td>2020</td>\n",
       "      <td>President Trump has called the coronavirus “th...</td>\n",
       "      <td>True</td>\n",
       "    </tr>\n",
       "    <tr>\n",
       "      <th>3773</th>\n",
       "      <td>76685475</td>\n",
       "      <td>Museum and Gallery Listings for March 23-29</td>\n",
       "      <td>http://feeds.nytimes.com/click.phdo?i=1a1a6dbe...</td>\n",
       "      <td>2012</td>\n",
       "      <td></td>\n",
       "      <td>False</td>\n",
       "    </tr>\n",
       "    <tr>\n",
       "      <th>2118</th>\n",
       "      <td>2727960822</td>\n",
       "      <td>Trump Employee Released on Bond After Court Ap...</td>\n",
       "      <td>https://www.nytimes.com/2023/07/31/us/politics...</td>\n",
       "      <td>2023</td>\n",
       "      <td>Supported by\\nTrump Employee Released on Bond ...</td>\n",
       "      <td>True</td>\n",
       "    </tr>\n",
       "    <tr>\n",
       "      <th>3939</th>\n",
       "      <td>149746684</td>\n",
       "      <td>Video: Obama on Surveillance Transparency</td>\n",
       "      <td>http://www.nytimes.com/video/2013/08/09/us/pol...</td>\n",
       "      <td>2013</td>\n",
       "      <td></td>\n",
       "      <td>False</td>\n",
       "    </tr>\n",
       "    <tr>\n",
       "      <th>848</th>\n",
       "      <td>1514271982</td>\n",
       "      <td>Africa, Intertwined with China, Fears Coronavi...</td>\n",
       "      <td>https://www.nytimes.com/2020/02/06/world/afric...</td>\n",
       "      <td>2020</td>\n",
       "      <td>Supported by\\nAfrica, Intertwined With China, ...</td>\n",
       "      <td>True</td>\n",
       "    </tr>\n",
       "    <tr>\n",
       "      <th>2241</th>\n",
       "      <td>2783401546</td>\n",
       "      <td>Friday Briefing: New Trouble for China Evergrande</td>\n",
       "      <td>https://www.nytimes.com/2023/09/28/briefing/ch...</td>\n",
       "      <td>2023</td>\n",
       "      <td>Morning Briefing: Asia Pacific Edition\\nPlus t...</td>\n",
       "      <td>True</td>\n",
       "    </tr>\n",
       "    <tr>\n",
       "      <th>1234</th>\n",
       "      <td>2370226605</td>\n",
       "      <td>Ukraine Live Updates: Isolated by West, Putin ...</td>\n",
       "      <td>https://www.nytimes.com/live/2022/07/19/world/...</td>\n",
       "      <td>2022</td>\n",
       "      <td>Russian Invasion of UkraineU.S. Warns That Rus...</td>\n",
       "      <td>True</td>\n",
       "    </tr>\n",
       "    <tr>\n",
       "      <th>2478</th>\n",
       "      <td>340546442</td>\n",
       "      <td>Congressional Leaders Suggest Earlier Snowden ...</td>\n",
       "      <td>http://www.nytimes.com/2014/01/20/us/politics/...</td>\n",
       "      <td>2014</td>\n",
       "      <td>WASHINGTON — The heads of the House and Senate...</td>\n",
       "      <td>True</td>\n",
       "    </tr>\n",
       "    <tr>\n",
       "      <th>1155</th>\n",
       "      <td>2351126428</td>\n",
       "      <td>The Work of Online Volunteers</td>\n",
       "      <td>https://www.nytimes.com/2022/06/28/technology/...</td>\n",
       "      <td>2022</td>\n",
       "      <td>On Tech: A.I.\\nModerators’ work on Reddit and ...</td>\n",
       "      <td>True</td>\n",
       "    </tr>\n",
       "  </tbody>\n",
       "</table>\n",
       "</div>"
      ],
      "text/plain": [
       "      stories_id                                              title  \\\n",
       "1681  2572965596  Germany trains Ukrainians on tanks, which it s...   \n",
       "966   1559728498  Coronavirus Is Idling North Korea’s Ships, Ach...   \n",
       "3773    76685475        Museum and Gallery Listings for March 23-29   \n",
       "2118  2727960822  Trump Employee Released on Bond After Court Ap...   \n",
       "3939   149746684          Video: Obama on Surveillance Transparency   \n",
       "848   1514271982  Africa, Intertwined with China, Fears Coronavi...   \n",
       "2241  2783401546  Friday Briefing: New Trouble for China Evergrande   \n",
       "1234  2370226605  Ukraine Live Updates: Isolated by West, Putin ...   \n",
       "2478   340546442  Congressional Leaders Suggest Earlier Snowden ...   \n",
       "1155  2351126428                      The Work of Online Volunteers   \n",
       "\n",
       "                                                    url  year  \\\n",
       "1681  https://www.nytimes.com/live/2023/02/20/world/...  2023   \n",
       "966   https://www.nytimes.com/2020/03/26/video/coron...  2020   \n",
       "3773  http://feeds.nytimes.com/click.phdo?i=1a1a6dbe...  2012   \n",
       "2118  https://www.nytimes.com/2023/07/31/us/politics...  2023   \n",
       "3939  http://www.nytimes.com/video/2013/08/09/us/pol...  2013   \n",
       "848   https://www.nytimes.com/2020/02/06/world/afric...  2020   \n",
       "2241  https://www.nytimes.com/2023/09/28/briefing/ch...  2023   \n",
       "1234  https://www.nytimes.com/live/2022/07/19/world/...  2022   \n",
       "2478  http://www.nytimes.com/2014/01/20/us/politics/...  2014   \n",
       "1155  https://www.nytimes.com/2022/06/28/technology/...  2022   \n",
       "\n",
       "                                                   text  text_downloaded  \n",
       "1681  Amid Air Raid Sirens, Biden Makes Surprise Ukr...             True  \n",
       "966   President Trump has called the coronavirus “th...             True  \n",
       "3773                                                               False  \n",
       "2118  Supported by\\nTrump Employee Released on Bond ...             True  \n",
       "3939                                                               False  \n",
       "848   Supported by\\nAfrica, Intertwined With China, ...             True  \n",
       "2241  Morning Briefing: Asia Pacific Edition\\nPlus t...             True  \n",
       "1234  Russian Invasion of UkraineU.S. Warns That Rus...             True  \n",
       "2478  WASHINGTON — The heads of the House and Senate...             True  \n",
       "1155  On Tech: A.I.\\nModerators’ work on Reddit and ...             True  "
      ]
     },
     "execution_count": 75,
     "metadata": {},
     "output_type": "execute_result"
    }
   ],
   "source": [
    "# df.to_feather(FEATHER_FILE)\n",
    "df.sample(10)"
   ]
  },
  {
   "cell_type": "code",
   "execution_count": null,
   "id": "34dbca48",
   "metadata": {},
   "outputs": [],
   "source": []
  }
 ],
 "metadata": {
  "kernelspec": {
   "display_name": "Python 3 (ipykernel)",
   "language": "python",
   "name": "python3"
  },
  "language_info": {
   "codemirror_mode": {
    "name": "ipython",
    "version": 3
   },
   "file_extension": ".py",
   "mimetype": "text/x-python",
   "name": "python",
   "nbconvert_exporter": "python",
   "pygments_lexer": "ipython3",
   "version": "3.10.12"
  }
 },
 "nbformat": 4,
 "nbformat_minor": 5
}
