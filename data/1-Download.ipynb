{
 "cells": [
  {
   "cell_type": "markdown",
   "id": "5e531b5a",
   "metadata": {},
   "source": [
    "# Libraries"
   ]
  },
  {
   "cell_type": "code",
   "execution_count": 1,
   "id": "eb6a4d4d",
   "metadata": {},
   "outputs": [],
   "source": [
    "import datetime\n",
    "import json\n",
    "import pandas as pd\n",
    "import requests\n",
    "import time\n",
    "import random\n",
    "import sys\n",
    "import os\n",
    "import os.path\n",
    "\n",
    "from mcmetadata import extract\n",
    "# pip install mediacloud-metadata\n",
    "\n",
    "from tqdm.notebook import trange  # to display a progress bar\n",
    "import ipywidgets as widgets\n",
    "from IPython.display import display\n",
    "\n",
    "# Init the connection\n",
    "# mc = mediacloud.api.DirectoryApi(\"56196a395ee77c33a296073fa08e72f541362a10\")"
   ]
  },
  {
   "cell_type": "markdown",
   "id": "b9836295",
   "metadata": {},
   "source": [
    "# Dataset"
   ]
  },
  {
   "cell_type": "code",
   "execution_count": 2,
   "id": "8e33b22f",
   "metadata": {},
   "outputs": [
    {
     "data": {
      "text/html": [
       "<div>\n",
       "<style scoped>\n",
       "    .dataframe tbody tr th:only-of-type {\n",
       "        vertical-align: middle;\n",
       "    }\n",
       "\n",
       "    .dataframe tbody tr th {\n",
       "        vertical-align: top;\n",
       "    }\n",
       "\n",
       "    .dataframe thead th {\n",
       "        text-align: right;\n",
       "    }\n",
       "</style>\n",
       "<table border=\"1\" class=\"dataframe\">\n",
       "  <thead>\n",
       "    <tr style=\"text-align: right;\">\n",
       "      <th></th>\n",
       "      <th>id</th>\n",
       "      <th>indexed_date</th>\n",
       "      <th>language</th>\n",
       "      <th>media_name</th>\n",
       "      <th>media_url</th>\n",
       "      <th>publish_date</th>\n",
       "      <th>title</th>\n",
       "      <th>url</th>\n",
       "      <th>year</th>\n",
       "      <th>text</th>\n",
       "      <th>text_downloaded</th>\n",
       "    </tr>\n",
       "  </thead>\n",
       "  <tbody>\n",
       "    <tr>\n",
       "      <th>521</th>\n",
       "      <td>6317fa629d2157ed616226095f66e8fb791a9b2a800425...</td>\n",
       "      <td>2024-03-14 06:12:57.462522</td>\n",
       "      <td>en</td>\n",
       "      <td>technologyreview.com</td>\n",
       "      <td>technologyreview.com</td>\n",
       "      <td>2024-03-12</td>\n",
       "      <td>Why we need better defenses against VR cyberat...</td>\n",
       "      <td>https://www.technologyreview.com/2024/03/12/10...</td>\n",
       "      <td>2024</td>\n",
       "      <td></td>\n",
       "      <td>False</td>\n",
       "    </tr>\n",
       "  </tbody>\n",
       "</table>\n",
       "</div>"
      ],
      "text/plain": [
       "                                                    id  \\\n",
       "521  6317fa629d2157ed616226095f66e8fb791a9b2a800425...   \n",
       "\n",
       "                   indexed_date language            media_name  \\\n",
       "521  2024-03-14 06:12:57.462522       en  technologyreview.com   \n",
       "\n",
       "                media_url publish_date  \\\n",
       "521  technologyreview.com   2024-03-12   \n",
       "\n",
       "                                                 title  \\\n",
       "521  Why we need better defenses against VR cyberat...   \n",
       "\n",
       "                                                   url  year text  \\\n",
       "521  https://www.technologyreview.com/2024/03/12/10...  2024        \n",
       "\n",
       "     text_downloaded  \n",
       "521            False  "
      ]
     },
     "execution_count": 2,
     "metadata": {},
     "output_type": "execute_result"
    }
   ],
   "source": [
    "# query = \"Query_NYT_5y_surveillance\"\n",
    "# query = \"Query_NYT_13y_surveillance\"\n",
    "# query = \"Query_US_5y_Svalbard\"\n",
    "query = \"Query_AI-magazines-mediacloud-2021-24\"\n",
    "\n",
    "CSV_FILE = query + \".csv\"\n",
    "FEATHER_FILE = query + \".feather\"\n",
    "\n",
    "if os.path.isfile(FEATHER_FILE):\n",
    "    df = pd.read_feather(FEATHER_FILE)\n",
    "\n",
    "else:\n",
    "    df = pd.read_csv(CSV_FILE)\n",
    "\n",
    "    df[\"year\"] = df.loc[:, \"publish_date\"]\n",
    "    df[\"year\"] = df[\"year\"].str[:4]\n",
    "    df[\"text\"] = \"\"\n",
    "    df[\"text_downloaded\"] = False\n",
    "\n",
    "    # df = df.drop(\n",
    "    #     [\n",
    "    #         \"ap_syndicated\",\n",
    "    #         \"collect_date\",\n",
    "    #         \"feeds\",\n",
    "    #         \"guid\",\n",
    "    #         \"media_id\",\n",
    "    #         \"media_name\",\n",
    "    #         \"media_url\",\n",
    "    #         \"metadata\",\n",
    "    #         \"language\",\n",
    "    #         \"processed_stories_id\",\n",
    "    #         \"publish_date\",\n",
    "    #         \"story_tags\",\n",
    "    #         \"word_count\",\n",
    "    #     ],\n",
    "    #     axis=1,\n",
    "    # )\n",
    "\n",
    "df.sample(1)"
   ]
  },
  {
   "cell_type": "code",
   "execution_count": 3,
   "id": "a263c72f",
   "metadata": {},
   "outputs": [
    {
     "ename": "NameError",
     "evalue": "name 'df' is not defined",
     "output_type": "error",
     "traceback": [
      "\u001b[1;31m---------------------------------------------------------------------------\u001b[0m",
      "\u001b[1;31mNameError\u001b[0m                                 Traceback (most recent call last)",
      "\u001b[1;32m<ipython-input-3-cc92daffa48a>\u001b[0m in \u001b[0;36m<module>\u001b[1;34m\u001b[0m\n\u001b[0;32m      1\u001b[0m \u001b[1;31m# Error Counter\u001b[0m\u001b[1;33m\u001b[0m\u001b[1;33m\u001b[0m\u001b[1;33m\u001b[0m\u001b[0m\n\u001b[1;32m----> 2\u001b[1;33m \u001b[0mtotal\u001b[0m \u001b[1;33m=\u001b[0m \u001b[0mwidgets\u001b[0m\u001b[1;33m.\u001b[0m\u001b[0mIntText\u001b[0m\u001b[1;33m(\u001b[0m\u001b[0mdescription\u001b[0m\u001b[1;33m=\u001b[0m\u001b[1;34m\"Total\"\u001b[0m\u001b[1;33m,\u001b[0m \u001b[0mvalue\u001b[0m\u001b[1;33m=\u001b[0m\u001b[0mdf\u001b[0m\u001b[1;33m.\u001b[0m\u001b[0mshape\u001b[0m\u001b[1;33m[\u001b[0m\u001b[1;36m0\u001b[0m\u001b[1;33m]\u001b[0m\u001b[1;33m)\u001b[0m\u001b[1;33m\u001b[0m\u001b[1;33m\u001b[0m\u001b[0m\n\u001b[0m\u001b[0;32m      3\u001b[0m \u001b[0mdone\u001b[0m \u001b[1;33m=\u001b[0m \u001b[0mwidgets\u001b[0m\u001b[1;33m.\u001b[0m\u001b[0mIntText\u001b[0m\u001b[1;33m(\u001b[0m\u001b[0mdescription\u001b[0m\u001b[1;33m=\u001b[0m\u001b[1;34m\"Done\"\u001b[0m\u001b[1;33m,\u001b[0m \u001b[0mvalue\u001b[0m\u001b[1;33m=\u001b[0m\u001b[1;36m0\u001b[0m\u001b[1;33m)\u001b[0m\u001b[1;33m\u001b[0m\u001b[1;33m\u001b[0m\u001b[0m\n\u001b[0;32m      4\u001b[0m \u001b[0munavailable\u001b[0m \u001b[1;33m=\u001b[0m \u001b[0mwidgets\u001b[0m\u001b[1;33m.\u001b[0m\u001b[0mIntText\u001b[0m\u001b[1;33m(\u001b[0m\u001b[0mdescription\u001b[0m\u001b[1;33m=\u001b[0m\u001b[1;34m\"Unavailable\"\u001b[0m\u001b[1;33m,\u001b[0m \u001b[0mvalue\u001b[0m\u001b[1;33m=\u001b[0m\u001b[1;36m0\u001b[0m\u001b[1;33m)\u001b[0m\u001b[1;33m\u001b[0m\u001b[1;33m\u001b[0m\u001b[0m\n\u001b[0;32m      5\u001b[0m \u001b[0myes\u001b[0m \u001b[1;33m=\u001b[0m \u001b[0mwidgets\u001b[0m\u001b[1;33m.\u001b[0m\u001b[0mIntText\u001b[0m\u001b[1;33m(\u001b[0m\u001b[0mdescription\u001b[0m\u001b[1;33m=\u001b[0m\u001b[1;34m\"Downloaded\"\u001b[0m\u001b[1;33m,\u001b[0m \u001b[0mvalue\u001b[0m\u001b[1;33m=\u001b[0m\u001b[1;36m0\u001b[0m\u001b[1;33m)\u001b[0m\u001b[1;33m\u001b[0m\u001b[1;33m\u001b[0m\u001b[0m\n",
      "\u001b[1;31mNameError\u001b[0m: name 'df' is not defined"
     ]
    }
   ],
   "source": [
    "# Error Counter\n",
    "total = widgets.IntText(description=\"Total\", value=df.shape[0])\n",
    "done = widgets.IntText(description=\"Done\", value=0)\n",
    "unavailable = widgets.IntText(description=\"Unavailable\", value=0)\n",
    "yes = widgets.IntText(description=\"Downloaded\", value=0)\n",
    "no = widgets.IntText(description=\"Errors\", value=0)\n",
    "display(total, done, unavailable, yes, no)\n",
    "\n",
    "for index in trange(0, df.shape[0]):\n",
    "    if df.iloc[index].text_downloaded == True:\n",
    "        done.value += 1\n",
    "        continue\n",
    "\n",
    "    API = \"https://archive.org/wayback/available\"\n",
    "    params = {\n",
    "        \"url\": df.iloc[index].url,\n",
    "        \"timeout\": \"300\",\n",
    "        \"closest\": \"either\",\n",
    "        \"status_code\": \"200\",\n",
    "    }\n",
    "    headers = {\"accept\": \"application/json\"}\n",
    "\n",
    "    try:\n",
    "        response = requests.get(API, params=params, headers=headers)\n",
    "        snapshot = response.json().get(\"archived_snapshots\", {}).get(\"closest\")\n",
    "\n",
    "        if snapshot:\n",
    "            metadata = extract(url=snapshot.get(\"url\"))\n",
    "            df.at[index, \"text\"] = metadata[\"text_content\"]\n",
    "            df.at[index, \"text_downloaded\"] = True\n",
    "            yes.value += 1\n",
    "\n",
    "        else:\n",
    "            unavailable.value += 1\n",
    "\n",
    "    except Exception as e:\n",
    "        no.value += 1\n",
    "\n",
    "    # time.sleep(random.uniform(1, 20)) # This is not bad to run in the night\n",
    "    # time.sleep(random.uniform(.1, 1))\n",
    "\n",
    "    df.to_feather(FEATHER_FILE)"
   ]
  },
  {
   "cell_type": "code",
   "execution_count": 2,
   "id": "7b3028ff",
   "metadata": {},
   "outputs": [
    {
     "ename": "NameError",
     "evalue": "name 'df' is not defined",
     "output_type": "error",
     "traceback": [
      "\u001b[1;31m---------------------------------------------------------------------------\u001b[0m",
      "\u001b[1;31mNameError\u001b[0m                                 Traceback (most recent call last)",
      "\u001b[1;32m<ipython-input-2-bd6b8df2d93d>\u001b[0m in \u001b[0;36m<module>\u001b[1;34m\u001b[0m\n\u001b[0;32m      1\u001b[0m \u001b[1;31m# df.to_feather(FEATHER_FILE)\u001b[0m\u001b[1;33m\u001b[0m\u001b[1;33m\u001b[0m\u001b[1;33m\u001b[0m\u001b[0m\n\u001b[1;32m----> 2\u001b[1;33m \u001b[0mdf\u001b[0m\u001b[1;33m.\u001b[0m\u001b[0msample\u001b[0m\u001b[1;33m(\u001b[0m\u001b[1;36m10\u001b[0m\u001b[1;33m)\u001b[0m\u001b[1;33m\u001b[0m\u001b[1;33m\u001b[0m\u001b[0m\n\u001b[0m",
      "\u001b[1;31mNameError\u001b[0m: name 'df' is not defined"
     ]
    }
   ],
   "source": [
    "# df.to_feather(FEATHER_FILE)\n",
    "df.sample(10)"
   ]
  },
  {
   "cell_type": "code",
   "execution_count": 6,
   "id": "34dbca48",
   "metadata": {},
   "outputs": [
    {
     "data": {
      "text/plain": [
       "(2633, 11)"
      ]
     },
     "execution_count": 6,
     "metadata": {},
     "output_type": "execute_result"
    }
   ],
   "source": [
    "df.shape"
   ]
  },
  {
   "cell_type": "code",
   "execution_count": 10,
   "id": "eeb23b64",
   "metadata": {},
   "outputs": [],
   "source": [
    "df.to_csv('bd_AI_magazines.csv',index=False)"
   ]
  }
 ],
 "metadata": {
  "kernelspec": {
   "display_name": "Python 3 (ipykernel)",
   "language": "python",
   "name": "python3"
  },
  "language_info": {
   "codemirror_mode": {
    "name": "ipython",
    "version": 3
   },
   "file_extension": ".py",
   "mimetype": "text/x-python",
   "name": "python",
   "nbconvert_exporter": "python",
   "pygments_lexer": "ipython3",
   "version": "3.7.6"
  }
 },
 "nbformat": 4,
 "nbformat_minor": 5
}
