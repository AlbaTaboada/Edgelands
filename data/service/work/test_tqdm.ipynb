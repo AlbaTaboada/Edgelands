{
 "cells": [
  {
   "cell_type": "code",
   "execution_count": 2,
   "id": "fb603ac4-ae20-40d5-a883-b7a9460d95e8",
   "metadata": {},
   "outputs": [
    {
     "name": "stderr",
     "output_type": "stream",
     "text": [
      "100%|██████████| 10/10 [00:05<00:00,  2.00it/s]\n"
     ]
    }
   ],
   "source": [
    "from tqdm import trange\n",
    "import ipywidgets\n",
    "import jupyterlab_widgets\n",
    "import tqdm\n",
    "import time\n",
    "for i in trange(10):\n",
    "    time.sleep(0.5)"
   ]
  },
  {
   "cell_type": "code",
   "execution_count": 3,
   "id": "33768825-62da-45e9-9d47-887b7e64e70c",
   "metadata": {},
   "outputs": [
    {
     "data": {
      "application/vnd.jupyter.widget-view+json": {
       "model_id": "267d9cbbac66488a91f0c1934ff351cc",
       "version_major": 2,
       "version_minor": 0
      },
      "text/plain": [
       "  0%|          | 0/10 [00:00<?, ?it/s]"
      ]
     },
     "metadata": {},
     "output_type": "display_data"
    }
   ],
   "source": [
    "from tqdm.notebook import trange\n",
    "\n",
    "for i in trange(10):\n",
    "    time.sleep(0.5)"
   ]
  },
  {
   "cell_type": "code",
   "execution_count": 3,
   "id": "8cd8284b-62cd-46f7-b127-25460bbe1561",
   "metadata": {},
   "outputs": [
    {
     "data": {
      "application/vnd.jupyter.widget-view+json": {
       "model_id": "7f79cf9b1c7842288e27e2c0dcb2ddd5",
       "version_major": 2,
       "version_minor": 0
      },
      "text/plain": [
       "IntText(value=0, description='Chiffre:')"
      ]
     },
     "metadata": {},
     "output_type": "display_data"
    }
   ],
   "source": [
    "import ipywidgets as widgets\n",
    "from IPython.display import display\n",
    "\n",
    "# Création du widget de chiffre\n",
    "chiffre_widget = widgets.IntText(description='Chiffre:', value=0)\n",
    "\n",
    "# Fonction de traitement qui met à jour le chiffre\n",
    "def traitement():\n",
    "    for i in range(10):\n",
    "        chiffre_widget.value = i * 10  # Met à jour la valeur du chiffre\n",
    "        time.sleep(1)  # Pause de 1 seconde pour simuler le temps de traitement\n",
    "\n",
    "# Affichage du widget\n",
    "display(chiffre_widget)\n",
    "\n",
    "# Appel de la fonction de traitement\n",
    "traitement()"
   ]
  },
  {
   "cell_type": "code",
   "execution_count": 4,
   "id": "f3571a87-439f-4278-9da5-fc223b17fd85",
   "metadata": {
    "editable": true,
    "slideshow": {
     "slide_type": ""
    },
    "tags": []
   },
   "outputs": [
    {
     "data": {
      "application/vnd.jupyter.widget-view+json": {
       "model_id": "6e17459cc8e84aaab13149dd4db12f2c",
       "version_major": 2,
       "version_minor": 0
      },
      "text/plain": [
       "IntSlider(value=0)"
      ]
     },
     "execution_count": 4,
     "metadata": {},
     "output_type": "execute_result"
    }
   ],
   "source": [
    "from IPython.display import display\n",
    "w = widgets.IntSlider()\n",
    "display(w)"
   ]
  },
  {
   "cell_type": "code",
   "execution_count": null,
   "id": "84f2b410-e4ea-430d-b9ff-5bda39d82eaa",
   "metadata": {},
   "outputs": [],
   "source": []
  }
 ],
 "metadata": {
  "kernelspec": {
   "display_name": "Python 3 (ipykernel)",
   "language": "python",
   "name": "python3"
  },
  "language_info": {
   "codemirror_mode": {
    "name": "ipython",
    "version": 3
   },
   "file_extension": ".py",
   "mimetype": "text/x-python",
   "name": "python",
   "nbconvert_exporter": "python",
   "pygments_lexer": "ipython3",
   "version": "3.11.6"
  }
 },
 "nbformat": 4,
 "nbformat_minor": 5
}
