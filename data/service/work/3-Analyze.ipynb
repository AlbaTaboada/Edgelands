{
 "cells": [
  {
   "cell_type": "code",
   "execution_count": 1,
   "id": "46deed17-9c9f-4ef0-8f3d-4035bb66734b",
   "metadata": {},
   "outputs": [],
   "source": [
    "import spacy\n",
    "\n",
    "nlp = spacy.load(\"en_core_web_lg\")"
   ]
  },
  {
   "cell_type": "code",
   "execution_count": 2,
   "id": "5faddcc6-5c32-4323-b55c-404a935dd17d",
   "metadata": {},
   "outputs": [
    {
     "data": {
      "text/html": [
       "<div>\n",
       "<style scoped>\n",
       "    .dataframe tbody tr th:only-of-type {\n",
       "        vertical-align: middle;\n",
       "    }\n",
       "\n",
       "    .dataframe tbody tr th {\n",
       "        vertical-align: top;\n",
       "    }\n",
       "\n",
       "    .dataframe thead th {\n",
       "        text-align: right;\n",
       "    }\n",
       "</style>\n",
       "<table border=\"1\" class=\"dataframe\">\n",
       "  <thead>\n",
       "    <tr style=\"text-align: right;\">\n",
       "      <th></th>\n",
       "      <th>stories_id</th>\n",
       "      <th>title</th>\n",
       "      <th>url</th>\n",
       "      <th>year</th>\n",
       "      <th>text</th>\n",
       "      <th>text_downloaded</th>\n",
       "      <th>tags</th>\n",
       "      <th>GPE</th>\n",
       "      <th>IND</th>\n",
       "      <th>ORG</th>\n",
       "    </tr>\n",
       "  </thead>\n",
       "  <tbody>\n",
       "    <tr>\n",
       "      <th>1028</th>\n",
       "      <td>2796849830</td>\n",
       "      <td>What happened in the Russia-Ukraine war this w...</td>\n",
       "      <td>https://www.theguardian.com/world/2023/oct/14/...</td>\n",
       "      <td>2023</td>\n",
       "      <td>Every week we wrap up the must-reads from our ...</td>\n",
       "      <td>True</td>\n",
       "      <td>[{'label': 'armament, defense and military for...</td>\n",
       "      <td>[Ukraine, Ukrainain, Hroza, Moscow, Kyiv, Bare...</td>\n",
       "      <td>[Hroza, Luke Harding, Phil Caller, Hroza, Dmyt...</td>\n",
       "      <td>[SBU, SBU, SBU, Mamon, Mamon, Arctic Travel Co...</td>\n",
       "    </tr>\n",
       "    <tr>\n",
       "      <th>753</th>\n",
       "      <td>2514695441</td>\n",
       "      <td>The world’s 20 most fascinating abandoned town...</td>\n",
       "      <td>https://www.mercurynews.com/2022/12/22/the-wor...</td>\n",
       "      <td>2022</td>\n",
       "      <td>Once thriving spots, these villages, towns and...</td>\n",
       "      <td>True</td>\n",
       "      <td>[{'label': 'war and revolution', 'score': '0.4...</td>\n",
       "      <td>[France, United Kingdom, England, Spain, Zarag...</td>\n",
       "      <td>[Charles De Gaulle, Wharram Percy, Yorkshire W...</td>\n",
       "      <td>[the Waffen SS, the Nazi Party’s, SS, English ...</td>\n",
       "    </tr>\n",
       "    <tr>\n",
       "      <th>732</th>\n",
       "      <td>2491558459</td>\n",
       "      <td>Trial starts in Norway for Putin ally’s son wh...</td>\n",
       "      <td>https://www.seattletimes.com/nation-world/worl...</td>\n",
       "      <td>2022</td>\n",
       "      <td>COPENHAGEN, Denmark (AP) — The son of a Russia...</td>\n",
       "      <td>True</td>\n",
       "      <td>[{'label': 'embargoes and economic sanctions',...</td>\n",
       "      <td>[COPENHAGEN, Denmark, Norway, Arctic Norway, N...</td>\n",
       "      <td>[Vladimir Putin, Andrey Yakunin, Yakunin, John...</td>\n",
       "      <td>[AP, Hammerfest, Svalbard, the U.S. State Depa...</td>\n",
       "    </tr>\n",
       "  </tbody>\n",
       "</table>\n",
       "</div>"
      ],
      "text/plain": [
       "      stories_id                                              title  \\\n",
       "1028  2796849830  What happened in the Russia-Ukraine war this w...   \n",
       "753   2514695441  The world’s 20 most fascinating abandoned town...   \n",
       "732   2491558459  Trial starts in Norway for Putin ally’s son wh...   \n",
       "\n",
       "                                                    url  year  \\\n",
       "1028  https://www.theguardian.com/world/2023/oct/14/...  2023   \n",
       "753   https://www.mercurynews.com/2022/12/22/the-wor...  2022   \n",
       "732   https://www.seattletimes.com/nation-world/worl...  2022   \n",
       "\n",
       "                                                   text  text_downloaded  \\\n",
       "1028  Every week we wrap up the must-reads from our ...             True   \n",
       "753   Once thriving spots, these villages, towns and...             True   \n",
       "732   COPENHAGEN, Denmark (AP) — The son of a Russia...             True   \n",
       "\n",
       "                                                   tags  \\\n",
       "1028  [{'label': 'armament, defense and military for...   \n",
       "753   [{'label': 'war and revolution', 'score': '0.4...   \n",
       "732   [{'label': 'embargoes and economic sanctions',...   \n",
       "\n",
       "                                                    GPE  \\\n",
       "1028  [Ukraine, Ukrainain, Hroza, Moscow, Kyiv, Bare...   \n",
       "753   [France, United Kingdom, England, Spain, Zarag...   \n",
       "732   [COPENHAGEN, Denmark, Norway, Arctic Norway, N...   \n",
       "\n",
       "                                                    IND  \\\n",
       "1028  [Hroza, Luke Harding, Phil Caller, Hroza, Dmyt...   \n",
       "753   [Charles De Gaulle, Wharram Percy, Yorkshire W...   \n",
       "732   [Vladimir Putin, Andrey Yakunin, Yakunin, John...   \n",
       "\n",
       "                                                    ORG  \n",
       "1028  [SBU, SBU, SBU, Mamon, Mamon, Arctic Travel Co...  \n",
       "753   [the Waffen SS, the Nazi Party’s, SS, English ...  \n",
       "732   [AP, Hammerfest, Svalbard, the U.S. State Depa...  "
      ]
     },
     "execution_count": 2,
     "metadata": {},
     "output_type": "execute_result"
    }
   ],
   "source": [
    "import pandas as pd\n",
    "\n",
    "# query = \"Query_NYT_5y_surveillance\"\n",
    "# query = \"Query_NYT_13y_surveillance\"\n",
    "query = \"Query_US_5y_Svalbard\"\n",
    "\n",
    "CSV_FILE = query + \".csv\"\n",
    "FEATHER_FILE = query + \".feather\"\n",
    "\n",
    "df = pd.read_feather(FEATHER_FILE)\n",
    "\n",
    "df.sample(3)"
   ]
  },
  {
   "cell_type": "code",
   "execution_count": 3,
   "id": "95bfe465-4339-46dd-a720-c28162fb2356",
   "metadata": {},
   "outputs": [
    {
     "data": {
      "application/vnd.jupyter.widget-view+json": {
       "model_id": "b2641a710faf4e9ebbe1ecb03c2f4efa",
       "version_major": 2,
       "version_minor": 0
      },
      "text/plain": [
       "  0%|          | 0/1060 [00:00<?, ?it/s]"
      ]
     },
     "metadata": {},
     "output_type": "display_data"
    }
   ],
   "source": [
    "from tqdm.notebook import tqdm\n",
    "\n",
    "GPE = [\"\"] * len(df)\n",
    "IND = [\"\"] * len(df)\n",
    "ORG = [\"\"] * len(df)\n",
    "\n",
    "# Browse the data ...\n",
    "for index, row in tqdm(df.iterrows(), total=len(df)):\n",
    "    text = row.text\n",
    "    doc = nlp(text)\n",
    "\n",
    "    entities = {\n",
    "        \"GPE\": [],\n",
    "        \"IND\": [],\n",
    "        \"ORG\": [],\n",
    "    }\n",
    "\n",
    "    for ent in (e for e in doc.ents if e.label_ == \"GPE\"):\n",
    "        entities[\"GPE\"].append(ent.text)\n",
    "\n",
    "    for ent in (e for e in doc.ents if e.label_ == \"PERSON\"):\n",
    "        entities[\"IND\"].append(ent.text)\n",
    "\n",
    "    for ent in (e for e in doc.ents if e.label_ == \"ORG\"):\n",
    "        entities[\"ORG\"].append(ent.text)\n",
    "\n",
    "    GPE[index] = entities[\"GPE\"]\n",
    "    IND[index] = entities[\"IND\"]\n",
    "    ORG[index] = entities[\"ORG\"]"
   ]
  },
  {
   "cell_type": "code",
   "execution_count": 4,
   "id": "3b55e5b5",
   "metadata": {},
   "outputs": [],
   "source": [
    "df['GPE'] = GPE\n",
    "df['IND'] = IND\n",
    "df['ORG'] = ORG\n",
    "\n",
    "df.to_feather(FEATHER_FILE)"
   ]
  },
  {
   "cell_type": "code",
   "execution_count": null,
   "id": "a0b6416f",
   "metadata": {},
   "outputs": [],
   "source": []
  }
 ],
 "metadata": {
  "kernelspec": {
   "display_name": "Python 3 (ipykernel)",
   "language": "python",
   "name": "python3"
  },
  "language_info": {
   "codemirror_mode": {
    "name": "ipython",
    "version": 3
   },
   "file_extension": ".py",
   "mimetype": "text/x-python",
   "name": "python",
   "nbconvert_exporter": "python",
   "pygments_lexer": "ipython3",
   "version": "3.10.12"
  }
 },
 "nbformat": 4,
 "nbformat_minor": 5
}
