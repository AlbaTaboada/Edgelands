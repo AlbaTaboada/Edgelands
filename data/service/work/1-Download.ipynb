{
 "cells": [
  {
   "cell_type": "markdown",
   "id": "5e531b5a",
   "metadata": {},
   "source": [
    "# Libraries"
   ]
  },
  {
   "cell_type": "code",
   "execution_count": 1,
   "id": "eb6a4d4d",
   "metadata": {},
   "outputs": [],
   "source": [
    "import datetime\n",
    "import json\n",
    "import pandas as pd\n",
    "import requests\n",
    "import time\n",
    "import random\n",
    "import sys\n",
    "import os\n",
    "import os.path\n",
    "\n",
    "from mcmetadata import extract\n",
    "import mediacloud.api\n",
    "\n",
    "from tqdm.notebook import trange  # to display a progress bar\n",
    "import ipywidgets as widgets\n",
    "from IPython.display import display\n",
    "\n",
    "# Init the connection\n",
    "mc = mediacloud.api.DirectoryApi(\"56196a395ee77c33a296073fa08e72f541362a10\")"
   ]
  },
  {
   "cell_type": "markdown",
   "id": "b9836295",
   "metadata": {},
   "source": [
    "# Dataset"
   ]
  },
  {
   "cell_type": "code",
   "execution_count": 8,
   "id": "8e33b22f",
   "metadata": {},
   "outputs": [
    {
     "data": {
      "text/html": [
       "<div>\n",
       "<style scoped>\n",
       "    .dataframe tbody tr th:only-of-type {\n",
       "        vertical-align: middle;\n",
       "    }\n",
       "\n",
       "    .dataframe tbody tr th {\n",
       "        vertical-align: top;\n",
       "    }\n",
       "\n",
       "    .dataframe thead th {\n",
       "        text-align: right;\n",
       "    }\n",
       "</style>\n",
       "<table border=\"1\" class=\"dataframe\">\n",
       "  <thead>\n",
       "    <tr style=\"text-align: right;\">\n",
       "      <th></th>\n",
       "      <th>stories_id</th>\n",
       "      <th>title</th>\n",
       "      <th>url</th>\n",
       "      <th>year</th>\n",
       "      <th>text</th>\n",
       "      <th>text_downloaded</th>\n",
       "    </tr>\n",
       "  </thead>\n",
       "  <tbody>\n",
       "    <tr>\n",
       "      <th>841</th>\n",
       "      <td>2362997804</td>\n",
       "      <td>The hot game on TikTok: Guessing locations on ...</td>\n",
       "      <td>https://www.washingtonpost.com/video-games/202...</td>\n",
       "      <td>2022</td>\n",
       "      <td></td>\n",
       "      <td>False</td>\n",
       "    </tr>\n",
       "  </tbody>\n",
       "</table>\n",
       "</div>"
      ],
      "text/plain": [
       "     stories_id                                              title  \\\n",
       "841  2362997804  The hot game on TikTok: Guessing locations on ...   \n",
       "\n",
       "                                                   url  year text  \\\n",
       "841  https://www.washingtonpost.com/video-games/202...  2022        \n",
       "\n",
       "     text_downloaded  \n",
       "841            False  "
      ]
     },
     "execution_count": 8,
     "metadata": {},
     "output_type": "execute_result"
    }
   ],
   "source": [
    "# query = \"Query_NYT_5y_surveillance\"\n",
    "# query = \"Query_NYT_13y_surveillance\"\n",
    "query = \"Query_US_5y_Svalbard\"\n",
    "\n",
    "CSV_FILE = query + \".csv\"\n",
    "FEATHER_FILE = query + \".feather\"\n",
    "\n",
    "if os.path.isfile(FEATHER_FILE):\n",
    "    df = pd.read_feather(FEATHER_FILE)\n",
    "\n",
    "else:\n",
    "    df = pd.read_csv(CSV_FILE)\n",
    "\n",
    "    df[\"year\"] = df.loc[:, \"publish_date\"]\n",
    "    df[\"year\"] = df[\"year\"].str[:4]\n",
    "    df[\"text\"] = \"\"\n",
    "    df[\"text_downloaded\"] = False\n",
    "\n",
    "    df = df.drop(\n",
    "        [\n",
    "            \"ap_syndicated\",\n",
    "            \"collect_date\",\n",
    "            \"feeds\",\n",
    "            \"guid\",\n",
    "            \"media_id\",\n",
    "            \"media_name\",\n",
    "            \"media_url\",\n",
    "            \"metadata\",\n",
    "            \"language\",\n",
    "            \"processed_stories_id\",\n",
    "            \"publish_date\",\n",
    "            \"story_tags\",\n",
    "            \"word_count\",\n",
    "        ],\n",
    "        axis=1,\n",
    "    )\n",
    "\n",
    "df.sample(1)"
   ]
  },
  {
   "cell_type": "code",
   "execution_count": 26,
   "id": "a263c72f",
   "metadata": {},
   "outputs": [
    {
     "data": {
      "application/vnd.jupyter.widget-view+json": {
       "model_id": "234290856b874bdf9af6117b547f0e9a",
       "version_major": 2,
       "version_minor": 0
      },
      "text/plain": [
       "IntText(value=1538, description='Total')"
      ]
     },
     "metadata": {},
     "output_type": "display_data"
    },
    {
     "data": {
      "application/vnd.jupyter.widget-view+json": {
       "model_id": "505fcd4274724de0acb5e757d60ae50f",
       "version_major": 2,
       "version_minor": 0
      },
      "text/plain": [
       "IntText(value=0, description='Done')"
      ]
     },
     "metadata": {},
     "output_type": "display_data"
    },
    {
     "data": {
      "application/vnd.jupyter.widget-view+json": {
       "model_id": "cec368a5209643b4aee33872467b9d64",
       "version_major": 2,
       "version_minor": 0
      },
      "text/plain": [
       "IntText(value=0, description='Unavailable')"
      ]
     },
     "metadata": {},
     "output_type": "display_data"
    },
    {
     "data": {
      "application/vnd.jupyter.widget-view+json": {
       "model_id": "49d1b1dd125d4de4b27c036ab648095d",
       "version_major": 2,
       "version_minor": 0
      },
      "text/plain": [
       "IntText(value=0, description='Downloaded')"
      ]
     },
     "metadata": {},
     "output_type": "display_data"
    },
    {
     "data": {
      "application/vnd.jupyter.widget-view+json": {
       "model_id": "57d9f73a6ce14a738c2c8514c6486e83",
       "version_major": 2,
       "version_minor": 0
      },
      "text/plain": [
       "IntText(value=0, description='Errors')"
      ]
     },
     "metadata": {},
     "output_type": "display_data"
    },
    {
     "data": {
      "application/vnd.jupyter.widget-view+json": {
       "model_id": "62c69ffbfcfd4925bb2917b3d9cf11fd",
       "version_major": 2,
       "version_minor": 0
      },
      "text/plain": [
       "  0%|          | 0/1538 [00:00<?, ?it/s]"
      ]
     },
     "metadata": {},
     "output_type": "display_data"
    }
   ],
   "source": [
    "# Error Counter\n",
    "total = widgets.IntText(description=\"Total\", value=df.shape[0])\n",
    "done = widgets.IntText(description=\"Done\", value=0)\n",
    "unavailable = widgets.IntText(description=\"Unavailable\", value=0)\n",
    "yes = widgets.IntText(description=\"Downloaded\", value=0)\n",
    "no = widgets.IntText(description=\"Errors\", value=0)\n",
    "display(total, done, unavailable, yes, no)\n",
    "\n",
    "for index in trange(0, df.shape[0]):\n",
    "    if df.iloc[index].text_downloaded == True:\n",
    "        done.value += 1\n",
    "        continue\n",
    "\n",
    "    API = \"https://archive.org/wayback/available\"\n",
    "    params = {\n",
    "        \"url\": df.iloc[index].url,\n",
    "        \"timeout\": \"30\",\n",
    "        \"closest\": \"either\",\n",
    "        \"status_code\": \"200\",\n",
    "    }\n",
    "    headers = {\"accept\": \"application/json\"}\n",
    "\n",
    "    try:\n",
    "        response = requests.get(API, params=params, headers=headers)\n",
    "        snapshot = response.json().get(\"archived_snapshots\", {}).get(\"closest\")\n",
    "\n",
    "        if snapshot:\n",
    "            metadata = extract(url=snapshot.get(\"url\"))\n",
    "            df.at[index, \"text\"] = metadata[\"text_content\"]\n",
    "            df.at[index, \"text_downloaded\"] = True\n",
    "            yes.value += 1\n",
    "\n",
    "        else:\n",
    "            unavailable.value += 1\n",
    "\n",
    "    except Exception as e:\n",
    "        no.value += 1\n",
    "\n",
    "    # time.sleep(random.uniform(5.0, 10.0))\n",
    "    time.sleep(random.uniform(0.001, 0.01))\n",
    "\n",
    "df.to_feather(FEATHER_FILE)"
   ]
  },
  {
   "cell_type": "code",
   "execution_count": 1,
   "id": "7b3028ff",
   "metadata": {},
   "outputs": [
    {
     "ename": "NameError",
     "evalue": "name 'df' is not defined",
     "output_type": "error",
     "traceback": [
      "\u001b[0;31m---------------------------------------------------------------------------\u001b[0m",
      "\u001b[0;31mNameError\u001b[0m                                 Traceback (most recent call last)",
      "Cell \u001b[0;32mIn[1], line 1\u001b[0m\n\u001b[0;32m----> 1\u001b[0m \u001b[43mdf\u001b[49m\u001b[38;5;241m.\u001b[39msample(\u001b[38;5;241m5\u001b[39m)\n",
      "\u001b[0;31mNameError\u001b[0m: name 'df' is not defined"
     ]
    }
   ],
   "source": [
    "df.sample(5)"
   ]
  },
  {
   "cell_type": "code",
   "execution_count": null,
   "id": "34dbca48",
   "metadata": {},
   "outputs": [],
   "source": []
  }
 ],
 "metadata": {
  "kernelspec": {
   "display_name": "Python 3 (ipykernel)",
   "language": "python",
   "name": "python3"
  },
  "language_info": {
   "codemirror_mode": {
    "name": "ipython",
    "version": 3
   },
   "file_extension": ".py",
   "mimetype": "text/x-python",
   "name": "python",
   "nbconvert_exporter": "python",
   "pygments_lexer": "ipython3",
   "version": "3.10.12"
  }
 },
 "nbformat": 4,
 "nbformat_minor": 5
}
