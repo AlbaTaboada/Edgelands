{
 "cells": [
  {
   "cell_type": "code",
   "execution_count": 1,
   "id": "431f1034-f977-4105-8757-ce01990f9c4c",
   "metadata": {},
   "outputs": [],
   "source": [
    "import datetime\n",
    "import json\n",
    "import pandas as pd\n",
    "import requests\n",
    "\n",
    "from mcmetadata import extract\n",
    "import mediacloud.api\n",
    "\n",
    "from tqdm.notebook import trange  # to display a progress bar\n",
    "import ipywidgets as widgets\n",
    "from IPython.display import display\n",
    "\n",
    "# Init the connection\n",
    "mc = mediacloud.api.DirectoryApi('56196a395ee77c33a296073fa08e72f541362a10')\n",
    "\n",
    "CSV_FILE = 'query.csv'\n",
    "JSON_FILE = 'data.json'\n",
    "\n",
    "# Read the query.csv file to obtain information of each item to dump\n",
    "df_query = pd.read_csv(CSV_FILE)"
   ]
  },
  {
   "cell_type": "code",
   "execution_count": 2,
   "id": "033b3ff7-abca-401d-8be8-51d7f0eee9e0",
   "metadata": {},
   "outputs": [
    {
     "name": "stdout",
     "output_type": "stream",
     "text": [
      "6366 URLs in the CSV file : query.csv\n"
     ]
    }
   ],
   "source": [
    "size_query = df_query.shape[0]\n",
    "print(size_query, \"URLs in the CSV file :\", CSV_FILE)"
   ]
  },
  {
   "cell_type": "code",
   "execution_count": 3,
   "id": "60d1033e-b0b6-4d68-b5ee-93b490981ea7",
   "metadata": {},
   "outputs": [
    {
     "data": {
      "application/vnd.jupyter.widget-view+json": {
       "model_id": "44337fb6a57e48a4984b80eb5497c07a",
       "version_major": 2,
       "version_minor": 0
      },
      "text/plain": [
       "IntText(value=0, description='Erreurs sur URL:')"
      ]
     },
     "metadata": {},
     "output_type": "display_data"
    },
    {
     "data": {
      "application/vnd.jupyter.widget-view+json": {
       "model_id": "f7c3a111a8a844cb9730580f19dc7bd7",
       "version_major": 2,
       "version_minor": 0
      },
      "text/plain": [
       "  0%|          | 0/6366 [00:00<?, ?it/s]"
      ]
     },
     "metadata": {},
     "output_type": "display_data"
    },
    {
     "name": "stdout",
     "output_type": "stream",
     "text": [
      "<bound method NDFrame.describe of       year                                              title  \\\n",
      "0     2022  US military creates space unit in South Korea ...   \n",
      "1     2022  China using civilian ships to enhance navy cap...   \n",
      "3     2022  Burn pit registry is failing to help track vet...   \n",
      "4     2017  Warthog attack plane finds new life in Trump a...   \n",
      "5     2022  Fewer troops in CENTCOM? No problem, says 3-st...   \n",
      "...    ...                                                ...   \n",
      "6361  2022  Media Defends Mother and Daughter Who Allegedl...   \n",
      "6362  2022  Monkeypox: The Real ‘Don’t Say Gay’ - The Amer...   \n",
      "6363  2022  The God of Plague Returns: Snail Fever, COVID-...   \n",
      "6364  2022  Trump Is Right: Piers Morgan Didn’t Study the ...   \n",
      "6365  2022  Voices of China: ‘Give Me Liberty or Give Me D...   \n",
      "\n",
      "                                                    url  \\\n",
      "0     https://www.airforcetimes.com/battlefield-tech...   \n",
      "1     https://www.airforcetimes.com/flashpoints/chin...   \n",
      "3     https://www.airforcetimes.com/news/burn-pits/2...   \n",
      "4     https://www.airforcetimes.com/news/your-air-fo...   \n",
      "5     https://www.airforcetimes.com/news/your-air-fo...   \n",
      "...                                                 ...   \n",
      "6361  https://spectator.org/media-defends-mother-and...   \n",
      "6362      https://spectator.org/monkeypox-dont-say-gay/   \n",
      "6363  https://spectator.org/the-god-of-plague-return...   \n",
      "6364  https://spectator.org/trump-is-right-piers-mor...   \n",
      "6365  https://spectator.org/voices-of-china-give-me-...   \n",
      "\n",
      "                                           text_content  \n",
      "0     SEOUL, South Korea — The U.S. military formall...  \n",
      "1     BANGKOK — A Chinese scientific ship bristling ...  \n",
      "3     The nearly decade-old Veterans Affairs registr...  \n",
      "4     WASHINGTON — The Warthog is sitting pretty.\\nO...  \n",
      "5     The U.S. military’s budding “partnerships over...  \n",
      "...                                                 ...  \n",
      "6361  A Nebraska mother and daughter duo are facing ...  \n",
      "6362  When it comes to monkeypox, male homosexuality...  \n",
      "6363  I\\nIt is the morning of July 1, 1958, and a bl...  \n",
      "6364  It is always eye-rollingly astonishing when so...  \n",
      "6365  Steven Mosher, author of Bully of Asia — a boo...  \n",
      "\n",
      "[4556 rows x 4 columns]>\n"
     ]
    }
   ],
   "source": [
    "# Create the result dataframe\n",
    "df_result = pd.DataFrame(columns=['year', 'title', 'url', 'text_content'])\n",
    "\n",
    "# Create the empty JSON file\n",
    "with open(JSON_FILE, 'w') as f:\n",
    "    f.write('[')\n",
    "\n",
    "# Création du widget d'erreurs\n",
    "errors_widget = widgets.IntText(description='Erreurs sur URL:', value=0)\n",
    "display(errors_widget)\n",
    "\n",
    "rec = 0\n",
    "\n",
    "for counter in trange(0,size_query) :\n",
    "    # Query the MediaCloud API with each item\n",
    "    url_data = df_query.iloc[counter].url\n",
    "    \n",
    "    try: \n",
    "        metadata = extract(url=url_data)\n",
    "        metadata['publication_date'] = metadata['publication_date'].year\n",
    "    \n",
    "        # Append data to the result dataframe\n",
    "        list_metadata = []\n",
    "        for field in ['publication_date', 'article_title', 'url', 'text_content'] :\n",
    "            list_metadata.append(metadata[field])\n",
    "        # Append data to the result dataframe\n",
    "        df_result.loc[counter] = list_metadata\n",
    "        # And write data in JSON file\n",
    "        with open(JSON_FILE, 'a') as f:\n",
    "            if rec == 1 :\n",
    "                f.write(',')\n",
    "            else:\n",
    "                rec = 1\n",
    "            json.dump(metadata, f)\n",
    "            f.write('\\n')\n",
    "    except Exception as e:\n",
    "        # print(f'Erreur -> \"{e}\", pour l\\'url : {url_data}' )\n",
    "        errors_widget.value += 1\n",
    "        log_message = f\"{datetime.datetime.now()} - {e} ; {url_data}\\n\"\n",
    "        with open('log.txt', 'a') as log_file:\n",
    "            log_file.write(log_message)\n",
    "\n",
    "with open(JSON_FILE, 'a') as f:\n",
    "    f.write(']')\n",
    "\n",
    "with open('log.txt', 'a') as log_file:\n",
    "    log_file.write(\"----------------------------------\\n\")\n",
    "print(df_result.describe)"
   ]
  },
  {
   "cell_type": "code",
   "execution_count": 4,
   "id": "5d9ccead-8121-4dd5-b9d3-35cdf47650fd",
   "metadata": {},
   "outputs": [
    {
     "name": "stdout",
     "output_type": "stream",
     "text": [
      "\n",
      "-----------------------------------\n",
      "  Process complete !\n"
     ]
    }
   ],
   "source": [
    "# Export dataframe to a feather format file\n",
    "df_result.reset_index().to_feather('results.feather')\n",
    "\n",
    "print(\"\\n-----------------------------------\")\n",
    "print(\"  Process complete !\")"
   ]
  }
 ],
 "metadata": {
  "kernelspec": {
   "display_name": "Python 3 (ipykernel)",
   "language": "python",
   "name": "python3"
  },
  "language_info": {
   "codemirror_mode": {
    "name": "ipython",
    "version": 3
   },
   "file_extension": ".py",
   "mimetype": "text/x-python",
   "name": "python",
   "nbconvert_exporter": "python",
   "pygments_lexer": "ipython3",
   "version": "3.11.6"
  }
 },
 "nbformat": 4,
 "nbformat_minor": 5
}
