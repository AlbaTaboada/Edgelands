{
 "cells": [
  {
   "cell_type": "code",
   "execution_count": 1,
   "id": "eb6a4d4d",
   "metadata": {},
   "outputs": [],
   "source": [
    "import datetime\n",
    "import json\n",
    "import pandas as pd\n",
    "import requests\n",
    "import time\n",
    "\n",
    "from mcmetadata import extract\n",
    "import mediacloud.api\n",
    "\n",
    "from tqdm.notebook import trange  # to display a progress bar\n",
    "import ipywidgets as widgets\n",
    "from IPython.display import display\n",
    "\n",
    "# Init the connection\n",
    "mc = mediacloud.api.DirectoryApi('56196a395ee77c33a296073fa08e72f541362a10')\n",
    "\n",
    "CSV_FILE = 'Query_NYT_13y_surveillance.csv'\n",
    "JSON_FILE = 'data.json'\n",
    "\n",
    "# Read the query.csv file to obtain information of each item to dump\n",
    "df_query = pd.read_csv(CSV_FILE)"
   ]
  },
  {
   "cell_type": "code",
   "execution_count": null,
   "id": "8e33b22f",
   "metadata": {},
   "outputs": [
    {
     "name": "stdout",
     "output_type": "stream",
     "text": [
      "4245 URLs in the CSV file : Query_NYT_13y_surveillance.csv\n"
     ]
    }
   ],
   "source": [
    "size_query = df_query.shape[0]\n",
    "print(size_query, \"URLs in the CSV file :\", CSV_FILE)"
   ]
  },
  {
   "cell_type": "code",
   "execution_count": null,
   "id": "a263c72f",
   "metadata": {},
   "outputs": [
    {
     "data": {
      "application/vnd.jupyter.widget-view+json": {
       "model_id": "2a6eea5b4d8045879ee90484a8cc2a34",
       "version_major": 2,
       "version_minor": 0
      },
      "text/plain": [
       "IntText(value=0, description='Erreurs sur URL:')"
      ]
     },
     "metadata": {},
     "output_type": "display_data"
    },
    {
     "data": {
      "application/vnd.jupyter.widget-view+json": {
       "model_id": "d3863fd5ac234336ac8168642bad03b9",
       "version_major": 2,
       "version_minor": 0
      },
      "text/plain": [
       "  0%|          | 0/4245 [00:00<?, ?it/s]"
      ]
     },
     "metadata": {},
     "output_type": "display_data"
    },
    {
     "name": "stdout",
     "output_type": "stream",
     "text": [
      "<bound method NDFrame.describe of       year                                              title  \\\n",
      "0     2018  Anwar el-Sadat, the Daring Arab Pioneer of Pea...   \n",
      "32    2018  ‘It’s an Act of Murder’: How Europe Outsources...   \n",
      "37    2018                         The Spy Who Spied on Spies   \n",
      "44    2019  Trump and Democrats Dig In After Talks to Reop...   \n",
      "53    1999  Digital Commerce: Consumers' Desire for Inform...   \n",
      "...    ...                                                ...   \n",
      "4190  2011         Scientology Strikes Back at The New Yorker   \n",
      "4206  2013  In a World Where China Sees Threats, Its Force...   \n",
      "4208  2012         Philippines and China In a Standoff at Sea   \n",
      "4233  2013  Why Snowden Asked Visitors in Hong Kong to Ref...   \n",
      "4235  2013            Video: N.S.A. Denies Phone Surveillance   \n",
      "\n",
      "                                                    url  \\\n",
      "0     https://archive.nytimes.com/www.nytimes.com/le...   \n",
      "32    https://www.nytimes.com/interactive/2018/12/26...   \n",
      "37    https://archive.nytimes.com/www.nytimes.com/bo...   \n",
      "44    https://www.nytimes.com/2019/01/02/us/politics...   \n",
      "53    https://archive.nytimes.com/www.nytimes.com/li...   \n",
      "...                                                 ...   \n",
      "4190  https://archive.nytimes.com/mediadecoder.blogs...   \n",
      "4206  https://archive.nytimes.com/sinosphere.blogs.n...   \n",
      "4208  https://archive.nytimes.com/query.nytimes.com/...   \n",
      "4233  https://archive.nytimes.com/thelede.blogs.nyti...   \n",
      "4235  https://www.nytimes.com/video/multimedia/10000...   \n",
      "\n",
      "                                           text_content  \n",
      "0     |\\n|\\nOctober 7, 1981\\nOBITUARY\\nAnwar el-Sada...  \n",
      "32    On Nov. 6, 2017, at least 20 people trying to ...  \n",
      "37    |\\n|\\nJune 30, 1974The Spy Who Spied on Spies\\...  \n",
      "44    Supported by\\nTrump and Democrats Dig In After...  \n",
      "53    August 30, 1999\\nDIGITAL COMMERCE\\nConsumers' ...  \n",
      "...                                                 ...  \n",
      "4190  The Church of Scientology is certainly no shri...  \n",
      "4206  A conspiracy-minded 100-minute film produced b...  \n",
      "4208  Philippines and China In a Standoff at Sea\\nBy...  \n",
      "4233  Before a dinner of pizza and fried chicken lat...  \n",
      "4235  new video loaded: N.S.A. Denies Phone Surveill...  \n",
      "\n",
      "[272 rows x 4 columns]>\n"
     ]
    }
   ],
   "source": [
    "import time\n",
    "import random\n",
    "\n",
    "# Create the result dataframe\n",
    "df_result = pd.DataFrame(columns=[\"year\", \"title\", \"url\", \"text_content\"])\n",
    "\n",
    "# Create the empty JSON file\n",
    "with open(JSON_FILE, \"w\") as f:\n",
    "    f.write(\"[\")\n",
    "\n",
    "with open(\"log.txt\", \"w\") as f:\n",
    "    f.write(\"\")\n",
    "\n",
    "# Création du widget d'erreurs\n",
    "errors_widget = widgets.IntText(description=\"Erreurs sur URL:\", value=0)\n",
    "display(errors_widget)\n",
    "\n",
    "rec = 0\n",
    "\n",
    "for counter in trange(0, size_query):\n",
    "    # Query the MediaCloud API with each item\n",
    "    url_data = df_query.iloc[counter].url\n",
    "\n",
    "    url = \"https://archive.org/wayback/available\"\n",
    "    params = {\n",
    "        \"url\": url_data,\n",
    "        \"timeout\": \"30\",\n",
    "        \"closest\": \"either\",\n",
    "        \"status_code\": \"200\",\n",
    "    }\n",
    "    headers = {\"accept\": \"application/json\"}\n",
    "\n",
    "    response = requests.get(url, params=params, headers=headers)\n",
    "    data = response.json()\n",
    "    closest_snapshot = data.get(\"archived_snapshots\", {}).get(\"closest\")\n",
    "    if closest_snapshot:\n",
    "        closest_url = closest_snapshot.get(\"url\")\n",
    "        is_available = closest_snapshot.get(\"available\")\n",
    "        if is_available == True:\n",
    "            try:\n",
    "                metadata = extract(url=closest_url)\n",
    "                metadata[\"publication_date\"] = metadata[\"publication_date\"].year\n",
    "                metadata[\"url\"] = url_data\n",
    "                metadata[\"original_url\"] = url_data\n",
    "\n",
    "                # Append data to the result dataframe\n",
    "                list_metadata = []\n",
    "                for field in [\n",
    "                    \"publication_date\",\n",
    "                    \"article_title\",\n",
    "                    \"url\",\n",
    "                    \"text_content\",\n",
    "                ]:\n",
    "                    list_metadata.append(metadata[field])\n",
    "                # Append data to the result dataframe\n",
    "                df_result.loc[counter] = list_metadata\n",
    "                # And write data in JSON file\n",
    "                with open(JSON_FILE, \"a\") as f:\n",
    "                    if rec == 1:\n",
    "                        f.write(\",\")\n",
    "                    else:\n",
    "                        rec = 1\n",
    "                    json.dump(metadata, f)\n",
    "                    f.write(\"\\n\")\n",
    "            except Exception as e:\n",
    "                # print(f'Erreur -> \"{e}\", pour l\\'url : {url_data}' )\n",
    "                errors_widget.value += 1\n",
    "                log_message = f\"{datetime.datetime.now()} - {e} ; {url_data}\\n\"\n",
    "                with open(\"log.txt\", \"a\") as log_file:\n",
    "                    log_file.write(log_message)\n",
    "    time.sleep(random.uniform(5.0, 10.0))\n",
    "\n",
    "with open(JSON_FILE, \"a\") as f:\n",
    "    f.write(\"]\")\n",
    "\n",
    "with open(\"log.txt\", \"a\") as log_file:\n",
    "    log_file.write(\"----------------------------------\\n\")\n",
    "print(df_result.describe)"
   ]
  },
  {
   "cell_type": "code",
   "execution_count": null,
   "id": "bfdd5800",
   "metadata": {},
   "outputs": [
    {
     "name": "stdout",
     "output_type": "stream",
     "text": [
      "\n",
      "-----------------------------------\n",
      "  Process complete !\n"
     ]
    }
   ],
   "source": [
    "# Export dataframe to a feather format file\n",
    "df_result.reset_index().to_feather('results.feather')\n",
    "\n",
    "print(\"\\n-----------------------------------\")\n",
    "print(\"  Process complete !\")"
   ]
  },
  {
   "cell_type": "code",
   "execution_count": 11,
   "metadata": {},
   "outputs": [
    {
     "data": {
      "text/plain": [
       "272"
      ]
     },
     "execution_count": 11,
     "metadata": {},
     "output_type": "execute_result"
    }
   ],
   "source": [
    "len(df_result)"
   ]
  },
  {
   "cell_type": "code",
   "execution_count": null,
   "metadata": {},
   "outputs": [],
   "source": []
  }
 ],
 "metadata": {
  "kernelspec": {
   "display_name": "Python 3 (ipykernel)",
   "language": "python",
   "name": "python3"
  },
  "language_info": {
   "codemirror_mode": {
    "name": "ipython",
    "version": 3
   },
   "file_extension": ".py",
   "mimetype": "text/x-python",
   "name": "python",
   "nbconvert_exporter": "python",
   "pygments_lexer": "ipython3",
   "version": "3.10.12"
  }
 },
 "nbformat": 4,
 "nbformat_minor": 5
}
