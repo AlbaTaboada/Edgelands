{
 "cells": [
  {
   "cell_type": "code",
   "execution_count": 1,
   "id": "ca9e8d2b-467d-4006-a554-00408475e197",
   "metadata": {},
   "outputs": [],
   "source": [
    "import pandas as pd"
   ]
  },
  {
   "cell_type": "code",
   "execution_count": 2,
   "id": "057e5204-794d-4dc5-b5f3-3a5b7a199e16",
   "metadata": {},
   "outputs": [
    {
     "name": "stdout",
     "output_type": "stream",
     "text": [
      "index                                                           0\n",
      "year                                                         2022\n",
      "title           US military creates space unit in South Korea ...\n",
      "url             https://www.airforcetimes.com/battlefield-tech...\n",
      "text_content    SEOUL, South Korea — The U.S. military formall...\n",
      "Name: 0, dtype: object\n"
     ]
    }
   ],
   "source": [
    "# Load the feather file into a pandas dataframe\n",
    "df_data = pd.read_feather(\"results.feather\")\n",
    "print(df_data.iloc[0])"
   ]
  },
  {
   "cell_type": "code",
   "execution_count": 5,
   "id": "e7b584c3-4cfa-4d11-af72-4cc9476dc365",
   "metadata": {},
   "outputs": [
    {
     "data": {
      "application/vnd.jupyter.widget-view+json": {
       "model_id": "c390217431954b29825d93881d369421",
       "version_major": 2,
       "version_minor": 0
      },
      "text/plain": [
       "  0%|          | 0/3 [00:00<?, ?it/s]"
      ]
     },
     "metadata": {},
     "output_type": "display_data"
    },
    {
     "name": "stdout",
     "output_type": "stream",
     "text": [
      "<class 'pandas.core.frame.DataFrame'>\n",
      "Index: 3 entries, 0 to 2\n",
      "Data columns (total 2 columns):\n",
      " #   Column   Non-Null Count  Dtype \n",
      "---  ------   --------------  ----- \n",
      " 0   article  3 non-null      object\n",
      " 1   tags     3 non-null      object\n",
      "dtypes: object(2)\n",
      "memory usage: 72.0+ bytes\n",
      "----------------------\n",
      "Write to 'results_tags.json' ... \n",
      "----------------------\n",
      "Process complete\n"
     ]
    }
   ],
   "source": [
    "import requests\n",
    "import json\n",
    "from tqdm.notebook import trange  # to display a progress bar\n",
    "import ipywidgets as widgets\n",
    "\n",
    "headers = {\n",
    "    \"Content-Type\": \"application/json\"\n",
    "}\n",
    "\n",
    "def dump_labels(descriptors):\n",
    "    df_labels = pd.DataFrame(columns=['label','score'])\n",
    "    counter = 0\n",
    "    for d in descriptors:\n",
    "        df_labels.loc[counter] = [d['label'], d['score']]\n",
    "        counter = counter + 1 \n",
    "    return df_labels\n",
    "\n",
    "df_results = pd.DataFrame(columns=['article','tags'])\n",
    "for counter_data in trange(0, len(df_data)):\n",
    "    data = {\n",
    "        \"text\" : df_data.loc[counter_data].text_content # first record of the dataframe\n",
    "    }\n",
    "    response = requests.post(\"http://nyt-news-labeler:8000/predict.json\", data=json.dumps(data), headers=headers)\n",
    "    response_text = json.loads(response.text)\n",
    "    \n",
    "    # Retrieve the descriptors ( predicted tags with e score)\n",
    "    descriptors = (response_text['predictions']['allDescriptors'])\n",
    "    df_tags = dump_labels(descriptors)\n",
    "    \n",
    "    # Append to the results\n",
    "    df_results.loc[counter_data] = [df_data.loc[counter_data].url,df_tags]\n",
    "df_results.info()\n",
    "print(\"----------------------\")\n",
    "\n",
    "print(\"Write to 'results_tags.json' ... \")\n",
    "# Export dataframe to a feather format file\n",
    "df_results.to_json('results_tags.json', orient='records')\n",
    "\n",
    "print(\"----------------------\")\n",
    "print(\"Process complete\")"
   ]
  }
 ],
 "metadata": {
  "kernelspec": {
   "display_name": "Python 3 (ipykernel)",
   "language": "python",
   "name": "python3"
  },
  "language_info": {
   "codemirror_mode": {
    "name": "ipython",
    "version": 3
   },
   "file_extension": ".py",
   "mimetype": "text/x-python",
   "name": "python",
   "nbconvert_exporter": "python",
   "pygments_lexer": "ipython3",
   "version": "3.11.6"
  }
 },
 "nbformat": 4,
 "nbformat_minor": 5
}
