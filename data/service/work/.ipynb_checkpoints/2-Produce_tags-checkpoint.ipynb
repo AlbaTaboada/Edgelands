{
 "cells": [
  {
   "cell_type": "markdown",
   "id": "e3a6076d",
   "metadata": {},
   "source": [
    "## Libraries"
   ]
  },
  {
   "cell_type": "code",
   "execution_count": 1,
   "id": "ca9e8d2b-467d-4006-a554-00408475e197",
   "metadata": {},
   "outputs": [],
   "source": [
    "import pandas as pd\n",
    "import requests\n",
    "import json\n",
    "from tqdm.notebook import trange  # to display a progress bar\n",
    "import ipywidgets as widgets"
   ]
  },
  {
   "cell_type": "markdown",
   "id": "89146633",
   "metadata": {},
   "source": [
    "## Dataset"
   ]
  },
  {
   "cell_type": "code",
   "execution_count": 2,
   "id": "057e5204-794d-4dc5-b5f3-3a5b7a199e16",
   "metadata": {},
   "outputs": [
    {
     "data": {
      "text/html": [
       "<div>\n",
       "<style scoped>\n",
       "    .dataframe tbody tr th:only-of-type {\n",
       "        vertical-align: middle;\n",
       "    }\n",
       "\n",
       "    .dataframe tbody tr th {\n",
       "        vertical-align: top;\n",
       "    }\n",
       "\n",
       "    .dataframe thead th {\n",
       "        text-align: right;\n",
       "    }\n",
       "</style>\n",
       "<table border=\"1\" class=\"dataframe\">\n",
       "  <thead>\n",
       "    <tr style=\"text-align: right;\">\n",
       "      <th></th>\n",
       "      <th>stories_id</th>\n",
       "      <th>title</th>\n",
       "      <th>url</th>\n",
       "      <th>year</th>\n",
       "      <th>text</th>\n",
       "      <th>text_downloaded</th>\n",
       "    </tr>\n",
       "  </thead>\n",
       "  <tbody>\n",
       "    <tr>\n",
       "      <th>20</th>\n",
       "      <td>1158132971</td>\n",
       "      <td>Norway Supreme Court to hear snow crab case wi...</td>\n",
       "      <td>http://feeds.reuters.com/~r/reuters/environmen...</td>\n",
       "      <td>2019</td>\n",
       "      <td></td>\n",
       "      <td>False</td>\n",
       "    </tr>\n",
       "  </tbody>\n",
       "</table>\n",
       "</div>"
      ],
      "text/plain": [
       "    stories_id                                              title  \\\n",
       "20  1158132971  Norway Supreme Court to hear snow crab case wi...   \n",
       "\n",
       "                                                  url  year text  \\\n",
       "20  http://feeds.reuters.com/~r/reuters/environmen...  2019        \n",
       "\n",
       "    text_downloaded  \n",
       "20            False  "
      ]
     },
     "execution_count": 2,
     "metadata": {},
     "output_type": "execute_result"
    }
   ],
   "source": [
    "# query = \"Query_NYT_5y_surveillance\"\n",
    "# query = \"Query_NYT_13y_surveillance\"\n",
    "query = \"Query_US_5y_Svalbard\"\n",
    "FEATHER_FILE = query + \".feather\"\n",
    "\n",
    "df = pd.read_feather(FEATHER_FILE)\n",
    "df.sample(1)"
   ]
  },
  {
   "cell_type": "code",
   "execution_count": null,
   "id": "e7b584c3-4cfa-4d11-af72-4cc9476dc365",
   "metadata": {},
   "outputs": [
    {
     "data": {
      "application/vnd.jupyter.widget-view+json": {
       "model_id": "9c742f9599c74737ae9f3bc061b3884d",
       "version_major": 2,
       "version_minor": 0
      },
      "text/plain": [
       "  0%|          | 0/1538 [00:00<?, ?it/s]"
      ]
     },
     "metadata": {},
     "output_type": "display_data"
    }
   ],
   "source": [
    "headers = {\"Content-Type\": \"application/json\"}\n",
    "\n",
    "def dump_labels(descriptors):\n",
    "    df_labels = pd.DataFrame(columns=[\"label\", \"score\"])\n",
    "    counter = 0\n",
    "    for d in descriptors:\n",
    "        df_labels.loc[counter] = [d[\"label\"], d[\"score\"]]\n",
    "        counter = counter + 1\n",
    "    return df_labels\n",
    "\n",
    "\n",
    "df_results = pd.DataFrame(columns=[\"article\", \"tags\"])\n",
    "for counter_data in trange(0, len(df)):\n",
    "    data = {\"text\": df.loc[counter_data].text}  # first record of the dataframe\n",
    "    response = requests.post(\n",
    "        \"http://nyt-news-labeler:8000/predict.json\",\n",
    "        data=json.dumps(data),\n",
    "        headers=headers,\n",
    "    )\n",
    "    response_text = json.loads(response.text)\n",
    "\n",
    "    # Retrieve the descriptors ( predicted tags with e score)\n",
    "    descriptors = response_text[\"predictions\"][\"allDescriptors\"]\n",
    "    df_tags = dump_labels(descriptors)\n",
    "\n",
    "    # Append to the results\n",
    "    df_results.loc[counter_data] = [df.loc[counter_data].url, df_tags]\n",
    "df_results.info()\n",
    "print(\"----------------------\")\n",
    "\n",
    "print(\"Write to 'results_tags.json' ... \")\n",
    "# Export dataframe to a feather format file\n",
    "df_results.to_json(\"results_tags.json\", orient=\"records\")\n",
    "\n",
    "print(\"----------------------\")\n",
    "print(\"Process complete\")"
   ]
  },
  {
   "cell_type": "code",
   "execution_count": null,
   "id": "d829cf5d",
   "metadata": {},
   "outputs": [],
   "source": []
  }
 ],
 "metadata": {
  "kernelspec": {
   "display_name": "Python 3 (ipykernel)",
   "language": "python",
   "name": "python3"
  },
  "language_info": {
   "codemirror_mode": {
    "name": "ipython",
    "version": 3
   },
   "file_extension": ".py",
   "mimetype": "text/x-python",
   "name": "python",
   "nbconvert_exporter": "python",
   "pygments_lexer": "ipython3",
   "version": "3.11.6"
  }
 },
 "nbformat": 4,
 "nbformat_minor": 5
}
