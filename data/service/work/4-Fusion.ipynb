{
 "cells": [
  {
   "cell_type": "code",
   "execution_count": 1,
   "id": "6d83987e-bccd-46db-80ac-8c37c2c6ce13",
   "metadata": {},
   "outputs": [
    {
     "name": "stdout",
     "output_type": "stream",
     "text": [
      "\n",
      "------------- Results of downloads -----------------\n",
      "<class 'pandas.core.frame.DataFrame'>\n",
      "RangeIndex: 4556 entries, 0 to 4555\n",
      "Data columns (total 5 columns):\n",
      " #   Column        Non-Null Count  Dtype \n",
      "---  ------        --------------  ----- \n",
      " 0   index         4556 non-null   int64 \n",
      " 1   year          4556 non-null   int64 \n",
      " 2   title         4556 non-null   object\n",
      " 3   url           4556 non-null   object\n",
      " 4   text_content  4556 non-null   object\n",
      "dtypes: int64(2), object(3)\n",
      "memory usage: 178.1+ KB\n",
      "\n",
      "-------------- NYT tags ----------------\n",
      "<class 'pandas.core.frame.DataFrame'>\n",
      "RangeIndex: 4556 entries, 0 to 4555\n",
      "Data columns (total 2 columns):\n",
      " #   Column   Non-Null Count  Dtype \n",
      "---  ------   --------------  ----- \n",
      " 0   article  4556 non-null   object\n",
      " 1   tags     4556 non-null   object\n",
      "dtypes: object(2)\n",
      "memory usage: 71.3+ KB\n",
      "\n",
      "-------------- NER ----------------\n",
      "<class 'pandas.core.frame.DataFrame'>\n",
      "RangeIndex: 18224 entries, 0 to 18223\n",
      "Data columns (total 1 columns):\n",
      " #   Column    Non-Null Count  Dtype \n",
      "---  ------    --------------  ----- \n",
      " 0   entities  18224 non-null  object\n",
      "dtypes: object(1)\n",
      "memory usage: 142.5+ KB\n"
     ]
    }
   ],
   "source": [
    "import pandas as pd\n",
    "\n",
    "# Load the feather file into a pandas dataframe\n",
    "print(\"\\n------------- Results of downloads -----------------\")\n",
    "df_data = pd.read_feather(\"results.feather\")\n",
    "df_data.info()\n",
    "\n",
    "\n",
    "# Load NY-Times tags, from a JSON file\n",
    "print(\"\\n-------------- NYT tags ----------------\")\n",
    "df_nyt_tags = pd.read_json(\"results_tags.json\")\n",
    "df_nyt_tags.info()\n",
    "\n",
    "# Load NER, from a JSON file\n",
    "print(\"\\n-------------- NER ----------------\")\n",
    "df_entities = pd.read_json(\"ner.json\")\n",
    "df_entities.info()\n"
   ]
  },
  {
   "cell_type": "markdown",
   "id": "ae8e76c6-9e3e-41d3-8d44-10d7c0f1551d",
   "metadata": {},
   "source": [
    "## Prepare the data"
   ]
  },
  {
   "cell_type": "code",
   "execution_count": 2,
   "id": "4e3c1532-ba30-498d-88ba-b8684a827a58",
   "metadata": {},
   "outputs": [
    {
     "name": "stdout",
     "output_type": "stream",
     "text": [
      "\n",
      "-------------- NYT <-> URL ----------------\n",
      "<class 'pandas.core.frame.DataFrame'>\n",
      "RangeIndex: 4832 entries, 0 to 4831\n",
      "Data columns (total 7 columns):\n",
      " #   Column        Non-Null Count  Dtype \n",
      "---  ------        --------------  ----- \n",
      " 0   index         4832 non-null   int64 \n",
      " 1   year          4832 non-null   int64 \n",
      " 2   title         4832 non-null   object\n",
      " 3   url           4832 non-null   object\n",
      " 4   text_content  4832 non-null   object\n",
      " 5   article       4832 non-null   object\n",
      " 6   tags          4832 non-null   object\n",
      "dtypes: int64(2), object(5)\n",
      "memory usage: 264.4+ KB\n",
      "\n",
      "-------------- NER <-> URL ----------------\n"
     ]
    },
    {
     "data": {
      "application/vnd.jupyter.widget-view+json": {
       "model_id": "04a97d2744984e82bbf648de6f6862e9",
       "version_major": 2,
       "version_minor": 0
      },
      "text/plain": [
       "  0%|          | 0/18224 [00:00<?, ?it/s]"
      ]
     },
     "metadata": {},
     "output_type": "display_data"
    },
    {
     "name": "stdout",
     "output_type": "stream",
     "text": [
      "4440 entries\n"
     ]
    }
   ],
   "source": [
    "from tqdm.notebook import tqdm\n",
    "\n",
    "# Join NYT and URL\n",
    "print(\"\\n-------------- NYT <-> URL ----------------\")\n",
    "df_joint = pd.merge(df_data, df_nyt_tags, left_on='url', right_on='article')\n",
    "df_joint.info()\n",
    "\n",
    "# Create a NER dictionnary, for each URL\n",
    "print(\"\\n-------------- NER <-> URL ----------------\")\n",
    "dict_ner = {}\n",
    "tempo_dict = {}\n",
    "\n",
    "\n",
    "#for index, row in tqdm(df.iterrows(),  total=df.shape[0], desc=f'Reading DF'):\n",
    "#        print(row(['df_colum'])\n",
    "for index, row in tqdm(df_entities.iterrows(), total=df_entities.shape[0]):\n",
    "    line = index%4\n",
    "    if line == 0:\n",
    "        tempo_dict['GPE'] = row.entities\n",
    "    if line == 1:\n",
    "        tempo_dict['ORG'] = row.entities\n",
    "    if line == 2:\n",
    "        tempo_dict['PERSON'] = row.entities\n",
    "    if line == 3:\n",
    "        dict_ner[row.entities] = tempo_dict\n",
    "        tempo_dict = {}\n",
    "print(len(dict_ner), \"entries\")"
   ]
  },
  {
   "cell_type": "markdown",
   "id": "95f8b942-e95d-4c4b-b7ae-93e0820f7742",
   "metadata": {},
   "source": [
    "## Fusion"
   ]
  },
  {
   "cell_type": "code",
   "execution_count": 4,
   "id": "35151c7e-503b-4ced-8652-c61f41d6061c",
   "metadata": {},
   "outputs": [
    {
     "name": "stdout",
     "output_type": "stream",
     "text": [
      "\n",
      "-------------- Dict. NER to list ----------------\n"
     ]
    },
    {
     "data": {
      "application/vnd.jupyter.widget-view+json": {
       "model_id": "d9e4c73ad64c45e892096bf5e145c3be",
       "version_major": 2,
       "version_minor": 0
      },
      "text/plain": [
       "  0%|          | 0/4440 [00:00<?, ?it/s]"
      ]
     },
     "metadata": {},
     "output_type": "display_data"
    },
    {
     "name": "stdout",
     "output_type": "stream",
     "text": [
      "4440 items\n",
      "\n",
      "-------------- Write to JSON ----------------\n",
      "\n",
      "-----------------------------------\n",
      "  Process complete !\n"
     ]
    }
   ],
   "source": [
    "import json\n",
    "\n",
    "fusion_list = []\n",
    "# Browse dict_ner\n",
    "print(\"\\n-------------- Dict. NER to list ----------------\")\n",
    "for key, value in tqdm(dict_ner.items()):\n",
    "    row = df_joint.loc[df_joint['url'] == key]\n",
    "    local_dict = row.to_dict(orient='records')\n",
    "    local_dict[0]['NER']= value\n",
    "    fusion_list.append(local_dict[0])\n",
    "print(len(fusion_list),\"items\")\n",
    "\n",
    "# Convertion de la liste fusion_list en JSON\n",
    "print(\"\\n-------------- Write to JSON ----------------\")\n",
    "with open(\"fusion.json\", \"w\") as fichier:\n",
    "    json.dump(fusion_list, fichier)\n",
    "\n",
    "print(\"\\n-----------------------------------\")\n",
    "print(\"  Process complete !\")"
   ]
  }
 ],
 "metadata": {
  "kernelspec": {
   "display_name": "Python 3 (ipykernel)",
   "language": "python",
   "name": "python3"
  },
  "language_info": {
   "codemirror_mode": {
    "name": "ipython",
    "version": 3
   },
   "file_extension": ".py",
   "mimetype": "text/x-python",
   "name": "python",
   "nbconvert_exporter": "python",
   "pygments_lexer": "ipython3",
   "version": "3.11.6"
  }
 },
 "nbformat": 4,
 "nbformat_minor": 5
}
