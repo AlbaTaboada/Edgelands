{
 "cells": [
  {
   "cell_type": "code",
   "execution_count": 1,
   "id": "057e5204-794d-4dc5-b5f3-3a5b7a199e16",
   "metadata": {},
   "outputs": [
    {
     "data": {
      "text/html": [
       "<div>\n",
       "<style scoped>\n",
       "    .dataframe tbody tr th:only-of-type {\n",
       "        vertical-align: middle;\n",
       "    }\n",
       "\n",
       "    .dataframe tbody tr th {\n",
       "        vertical-align: top;\n",
       "    }\n",
       "\n",
       "    .dataframe thead th {\n",
       "        text-align: right;\n",
       "    }\n",
       "</style>\n",
       "<table border=\"1\" class=\"dataframe\">\n",
       "  <thead>\n",
       "    <tr style=\"text-align: right;\">\n",
       "      <th></th>\n",
       "      <th>stories_id</th>\n",
       "      <th>title</th>\n",
       "      <th>url</th>\n",
       "      <th>year</th>\n",
       "      <th>text</th>\n",
       "      <th>text_downloaded</th>\n",
       "      <th>tags</th>\n",
       "      <th>GPE</th>\n",
       "      <th>IND</th>\n",
       "      <th>ORG</th>\n",
       "    </tr>\n",
       "  </thead>\n",
       "  <tbody>\n",
       "    <tr>\n",
       "      <th>452</th>\n",
       "      <td>1931029939</td>\n",
       "      <td>500-Year-Old 'Mad' Sailor Shop Arthur Beale Su...</td>\n",
       "      <td>https://www.wsj.com/articles/500-year-old-mad-...</td>\n",
       "      <td>2021</td>\n",
       "      <td>Dan Barker had barely finished rejoicing that ...</td>\n",
       "      <td>True</td>\n",
       "      <td>{'allDescriptors': [{'label': 'bombs and explo...</td>\n",
       "      <td>[London, London, London, London, London, Londo...</td>\n",
       "      <td>[Dan Barker, Arthur Beale, Arthur Beale, Arthu...</td>\n",
       "      <td>[Arthur Beale Ltd., James Smith &amp; Sons, Marwoo...</td>\n",
       "    </tr>\n",
       "    <tr>\n",
       "      <th>182</th>\n",
       "      <td>1531953980</td>\n",
       "      <td>Human disturbance increasing cannibalism among...</td>\n",
       "      <td>https://www.theguardian.com/world/2020/feb/26/...</td>\n",
       "      <td>2020</td>\n",
       "      <td>Cases of polar bears killing and eating each o...</td>\n",
       "      <td>True</td>\n",
       "      <td>{'allDescriptors': [{'label': 'animals', 'scor...</td>\n",
       "      <td>[Moscow, St Petersburg, cubs, Russia, St Peter...</td>\n",
       "      <td>[Ilya Mordvintsev, Yamal, Vladimir Sokolov, So...</td>\n",
       "      <td>[Interfax, Mordvintsev, Severtsov Institute of...</td>\n",
       "    </tr>\n",
       "    <tr>\n",
       "      <th>409</th>\n",
       "      <td>1862134071</td>\n",
       "      <td>The Guardian view on Radio Garden: world citiz...</td>\n",
       "      <td>https://www.theguardian.com/commentisfree/2021...</td>\n",
       "      <td>2021</td>\n",
       "      <td>In The Aleph, a short story by Jorge Luis Borg...</td>\n",
       "      <td>True</td>\n",
       "      <td>{'allDescriptors': [{'label': 'computers and t...</td>\n",
       "      <td>[Aleph, Buenos Aires, Amsterdam, Tralee, west ...</td>\n",
       "      <td>[Jorge Luis Borges, Bertoua, Borges]</td>\n",
       "      <td>[Radio Garden, Radio Kerry, Radio Blanc-Sablon...</td>\n",
       "    </tr>\n",
       "  </tbody>\n",
       "</table>\n",
       "</div>"
      ],
      "text/plain": [
       "     stories_id                                              title  \\\n",
       "452  1931029939  500-Year-Old 'Mad' Sailor Shop Arthur Beale Su...   \n",
       "182  1531953980  Human disturbance increasing cannibalism among...   \n",
       "409  1862134071  The Guardian view on Radio Garden: world citiz...   \n",
       "\n",
       "                                                   url  year  \\\n",
       "452  https://www.wsj.com/articles/500-year-old-mad-...  2021   \n",
       "182  https://www.theguardian.com/world/2020/feb/26/...  2020   \n",
       "409  https://www.theguardian.com/commentisfree/2021...  2021   \n",
       "\n",
       "                                                  text  text_downloaded  \\\n",
       "452  Dan Barker had barely finished rejoicing that ...             True   \n",
       "182  Cases of polar bears killing and eating each o...             True   \n",
       "409  In The Aleph, a short story by Jorge Luis Borg...             True   \n",
       "\n",
       "                                                  tags  \\\n",
       "452  {'allDescriptors': [{'label': 'bombs and explo...   \n",
       "182  {'allDescriptors': [{'label': 'animals', 'scor...   \n",
       "409  {'allDescriptors': [{'label': 'computers and t...   \n",
       "\n",
       "                                                   GPE  \\\n",
       "452  [London, London, London, London, London, Londo...   \n",
       "182  [Moscow, St Petersburg, cubs, Russia, St Peter...   \n",
       "409  [Aleph, Buenos Aires, Amsterdam, Tralee, west ...   \n",
       "\n",
       "                                                   IND  \\\n",
       "452  [Dan Barker, Arthur Beale, Arthur Beale, Arthu...   \n",
       "182  [Ilya Mordvintsev, Yamal, Vladimir Sokolov, So...   \n",
       "409               [Jorge Luis Borges, Bertoua, Borges]   \n",
       "\n",
       "                                                   ORG  \n",
       "452  [Arthur Beale Ltd., James Smith & Sons, Marwoo...  \n",
       "182  [Interfax, Mordvintsev, Severtsov Institute of...  \n",
       "409  [Radio Garden, Radio Kerry, Radio Blanc-Sablon...  "
      ]
     },
     "execution_count": 1,
     "metadata": {},
     "output_type": "execute_result"
    }
   ],
   "source": [
    "import pandas as pd\n",
    "\n",
    "# query = \"Query_NYT_5y_surveillance\"\n",
    "# query = \"Query_NYT_13y_surveillance\"\n",
    "query = \"Query_US_5y_Svalbard\"\n",
    "\n",
    "CSV_FILE = query + \".csv\"\n",
    "FEATHER_FILE = query + \".feather\"\n",
    "\n",
    "df = pd.read_feather(FEATHER_FILE)\n",
    "df = df.drop(df[df.text_downloaded == False].index)\n",
    "df = df.reset_index(drop=True)\n",
    "\n",
    "df.sample(3)"
   ]
  },
  {
   "cell_type": "code",
   "execution_count": 9,
   "id": "e7b584c3-4cfa-4d11-af72-4cc9476dc365",
   "metadata": {},
   "outputs": [
    {
     "data": {
      "application/vnd.jupyter.widget-view+json": {
       "model_id": "30fe95e5337342239d84d46c50e38d11",
       "version_major": 2,
       "version_minor": 0
      },
      "text/plain": [
       "  0%|          | 0/1060 [00:00<?, ?it/s]"
      ]
     },
     "metadata": {},
     "output_type": "display_data"
    }
   ],
   "source": [
    "import requests\n",
    "import json\n",
    "from tqdm.notebook import trange  # to display a progress bar\n",
    "import ipywidgets as widgets\n",
    "\n",
    "# Tests\n",
    "# curl -X POST http://localhost:8000/predict.json -H \"Content-Type: application/json\" -d '{\"text\": \"Federal agents show stronger force at Portland protests despite order to withdraw\" }'\n",
    "# curl -X POST https://nyt-news-labeler-qoqojvpyua-ez.a.run.app/predict.json -H \"Content-Type: application/json\" -d '{\"text\": \"Federal agents show stronger force at Portland protests despite order to withdraw\" }'\n",
    "\n",
    "# URL = 'http://nyt-news-labeler:8000'\n",
    "URL = \"https://nyt-news-labeler-qoqojvpyua-ez.a.run.app/\"\n",
    "\n",
    "headers = {\"Content-Type\": \"application/json\"}\n",
    "\n",
    "tags = [{}] * len(df)\n",
    "\n",
    "for index in trange(0, len(df)):\n",
    "\n",
    "    text = df.loc[index].text\n",
    "    text = text.replace(\"\\n\", \"\")\n",
    "\n",
    "    try:\n",
    "        data = {\"text\": text}  # article's text\n",
    "\n",
    "        response = requests.post(\n",
    "            URL + \"predict.json\", data=json.dumps(data), headers=headers\n",
    "        )\n",
    "\n",
    "        _json = json.loads(response.text)\n",
    "\n",
    "        tags[index] = _json[\"predictions\"]['descriptors3000']\n",
    "\n",
    "    except Exception as e:\n",
    "        print(tags[index])\n",
    "\n",
    "df[\"tags\"] = tags\n"
   ]
  },
  {
   "cell_type": "markdown",
   "id": "77c01f90",
   "metadata": {},
   "source": [
    "## Save Dataset"
   ]
  },
  {
   "cell_type": "code",
   "execution_count": 10,
   "id": "e5f8eb28",
   "metadata": {},
   "outputs": [],
   "source": [
    "# df = df.drop(df[df.tags == {}].index)\n",
    "# df = df.reset_index(drop=True)\n",
    "\n",
    "df.to_feather(FEATHER_FILE)"
   ]
  },
  {
   "cell_type": "code",
   "execution_count": null,
   "id": "21bae5dd",
   "metadata": {},
   "outputs": [],
   "source": []
  }
 ],
 "metadata": {
  "kernelspec": {
   "display_name": "Python 3 (ipykernel)",
   "language": "python",
   "name": "python3"
  },
  "language_info": {
   "codemirror_mode": {
    "name": "ipython",
    "version": 3
   },
   "file_extension": ".py",
   "mimetype": "text/x-python",
   "name": "python",
   "nbconvert_exporter": "python",
   "pygments_lexer": "ipython3",
   "version": "3.10.12"
  }
 },
 "nbformat": 4,
 "nbformat_minor": 5
}
