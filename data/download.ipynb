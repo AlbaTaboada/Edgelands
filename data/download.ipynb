{
 "cells": [
  {
   "cell_type": "code",
   "execution_count": 2,
   "metadata": {
    "tags": [
     "outputPrepend"
    ]
   },
   "outputs": [
    {
     "ename": "NameError",
     "evalue": "name 'mediacloud' is not defined",
     "output_type": "error",
     "traceback": [
      "\u001b[0;31m---------------------------------------------------------------------------\u001b[0m",
      "\u001b[0;31mNameError\u001b[0m                                 Traceback (most recent call last)",
      "Cell \u001b[0;32mIn[2], line 9\u001b[0m\n\u001b[1;32m      3\u001b[0m \u001b[39mfrom\u001b[39;00m \u001b[39mmcmetadata\u001b[39;00m \u001b[39mimport\u001b[39;00m extract\n\u001b[1;32m      5\u001b[0m \u001b[39m# import mediacloud.api\u001b[39;00m\n\u001b[1;32m      6\u001b[0m \u001b[39m# import mediacloud_legacy.api\u001b[39;00m\n\u001b[1;32m      7\u001b[0m \u001b[39m# import mediacloud_legacy.tags\u001b[39;00m\n\u001b[0;32m----> 9\u001b[0m mc \u001b[39m=\u001b[39m mediacloud\u001b[39m.\u001b[39mapi\u001b[39m.\u001b[39mDirectoryApi(\u001b[39m'\u001b[39m\u001b[39mb2ef1a99a8fdbb84afafe742fd437c0942703072bb98242ba0eed9b8411e1735\u001b[39m\u001b[39m'\u001b[39m)\n",
      "\u001b[0;31mNameError\u001b[0m: name 'mediacloud' is not defined"
     ]
    }
   ],
   "source": [
    "import pandas as pd\n",
    "import requests\n",
    "from mcmetadata import extract\n",
    "\n",
    "import mediacloud.api\n",
    "import mediacloud_legacy.api\n",
    "import mediacloud_legacy.tags\n",
    "\n",
    "mc = mediacloud.api.DirectoryApi('b2ef1a99a8fdbb84afafe742fd437c0942703072bb98242ba0eed9b8411e1735')\n",
    "\n",
    "# metadata = extract(url=\"https://my.awesome.news/20220412084503\")\n",
    "\n",
    "# extract.\n",
    "# print(metadata)\n",
    "\n",
    "# Load data\n",
    "\n",
    "# csv = pd.read_csv('query.csv')\n",
    "# ids = csv['id'].tolist()\n",
    "\n",
    "# Save JSON files\n",
    "\n",
    "# for index, id in enumerate(ids):\n",
    "\n",
    "#     filename = 'JSONs/' + str(id) + '.json'\n",
    "\n",
    "#     try:\n",
    "#         f = open(filename)\n",
    "#         f.close()\n",
    "\n",
    "#     except:\n",
    "#         if (index % 10 == 0):\n",
    "#             print(index, id)\n",
    "#         r = requests.get('https://api.mediacloud.org/api/v2/stories_public/single/' +\n",
    "#                          str(id) + '?key=b2ef1a99a8fdbb84afafe742fd437c0942703072bb98242ba0eed9b8411e1735')\n",
    "#         open(filename, 'wb').write(r.content)\n"
   ]
  },
  {
   "cell_type": "code",
   "execution_count": null,
   "metadata": {},
   "outputs": [
    {
     "ename": "",
     "evalue": "",
     "output_type": "error",
     "traceback": [
      "\u001b[1;31mRunning cells with 'base' requires the ipykernel package.\n",
      "\u001b[1;31mRun the following command to install 'ipykernel' into the Python environment. \n",
      "\u001b[1;31mCommand: 'conda install -n base ipykernel --update-deps --force-reinstall'"
     ]
    }
   ],
   "source": []
  }
 ],
 "metadata": {
  "kernelspec": {
   "display_name": "Python 3.9.13 ('base')",
   "language": "python",
   "name": "python3"
  },
  "language_info": {
   "codemirror_mode": {
    "name": "ipython",
    "version": 3
   },
   "file_extension": ".py",
   "mimetype": "text/x-python",
   "name": "python",
   "nbconvert_exporter": "python",
   "pygments_lexer": "ipython3",
   "version": "3.10.11"
  },
  "orig_nbformat": 2,
  "vscode": {
   "interpreter": {
    "hash": "c30f2af5f468e7f5b45bcc30fca5f4886c90d54777aed916ed5f6294dfb24bf2"
   }
  }
 },
 "nbformat": 4,
 "nbformat_minor": 2
}
