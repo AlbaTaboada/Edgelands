{
 "cells": [
  {
   "cell_type": "code",
   "execution_count": 2,
   "metadata": {
    "tags": [
     "outputPrepend"
    ]
   },
   "outputs": [
    {
     "name": "stdout",
     "output_type": "stream",
     "text": [
      "0 20221215070031\n",
      "10 20221101065223\n",
      "20 20220422084318\n",
      "30 20220421074324\n",
      "40 20220525062738\n",
      "50 20220418211838\n",
      "60 20220417170711\n",
      "70 20220419100752\n"
     ]
    }
   ],
   "source": [
    "import pandas as pd\n",
    "import requests\n",
    "\n",
    "# Load data\n",
    "\n",
    "csv = pd.read_csv('query.csv')\n",
    "\n",
    "# Save JSON files\n",
    "\n",
    "ids = csv['id'].tolist()\n",
    "\n",
    "for index, id in enumerate(ids):\n",
    "\n",
    "    id = str(id)\n",
    "    filename = 'JSONs/' + id + '.json'\n",
    "\n",
    "    try:\n",
    "        f = open(filename)\n",
    "        f.close()\n",
    "\n",
    "    except:\n",
    "        if (index % 10 == 0):\n",
    "            print(index, id)\n",
    "        r = requests.get('https://api.mediacloud.org/api/v2/stories_public/single/' +\n",
    "                         id + '?key=b2ef1a99a8fdbb84afafe742fd437c0942703072bb98242ba0eed9b8411e1735')\n",
    "        open(filename, 'wb').write(r.content)\n"
   ]
  },
  {
   "cell_type": "code",
   "execution_count": null,
   "metadata": {},
   "outputs": [],
   "source": []
  }
 ],
 "metadata": {
  "kernelspec": {
   "display_name": "Python 3.9.13 ('base')",
   "language": "python",
   "name": "python3"
  },
  "language_info": {
   "codemirror_mode": {
    "name": "ipython",
    "version": 3
   },
   "file_extension": ".py",
   "mimetype": "text/x-python",
   "name": "python",
   "nbconvert_exporter": "python",
   "pygments_lexer": "ipython3",
   "version": "3.10.9"
  },
  "orig_nbformat": 2,
  "vscode": {
   "interpreter": {
    "hash": "c30f2af5f468e7f5b45bcc30fca5f4886c90d54777aed916ed5f6294dfb24bf2"
   }
  }
 },
 "nbformat": 4,
 "nbformat_minor": 2
}
