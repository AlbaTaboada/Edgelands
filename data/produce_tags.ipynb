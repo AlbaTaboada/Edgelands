{
 "cells": [
  {
   "cell_type": "code",
   "execution_count": 1,
   "id": "3643db0d",
   "metadata": {},
   "outputs": [],
   "source": [
    "import pandas as pd"
   ]
  },
  {
   "cell_type": "code",
   "execution_count": 2,
   "id": "f85baef9",
   "metadata": {},
   "outputs": [],
   "source": [
    "# Load the feather file into a pandas dataframe\n",
    "df_data = pd.read_feather(\"results_v3.feather\")"
   ]
  },
  {
   "cell_type": "code",
   "execution_count": 3,
   "id": "4d77c390",
   "metadata": {},
   "outputs": [
    {
     "name": "stdout",
     "output_type": "stream",
     "text": [
      "index                                                           0\n",
      "year                                                         2022\n",
      "title           US military creates space unit in South Korea ...\n",
      "url             https://www.airforcetimes.com/battlefield-tech...\n",
      "text_content    SEOUL, South Korea — The U.S. military formall...\n",
      "Name: 0, dtype: object\n"
     ]
    }
   ],
   "source": [
    "print(df_data.iloc[0])"
   ]
  },
  {
   "cell_type": "markdown",
   "id": "55dad764",
   "metadata": {},
   "source": [
    "---\n",
    "The *News Labels Classifier* is running on the local machine.  \n",
    "Text contents are sended to it.  \n",
    "In response, the *News Labels Classifier* sends the scriptors and their score."
   ]
  },
  {
   "cell_type": "code",
   "execution_count": 4,
   "id": "a58b07de",
   "metadata": {},
   "outputs": [],
   "source": [
    "import requests\n",
    "import json"
   ]
  },
  {
   "cell_type": "code",
   "execution_count": 5,
   "id": "8276bdc7",
   "metadata": {},
   "outputs": [],
   "source": [
    "headers = {\n",
    "    \"Content-Type\": \"application/json\"\n",
    "}"
   ]
  },
  {
   "cell_type": "code",
   "execution_count": 9,
   "id": "8f6e6ab7",
   "metadata": {},
   "outputs": [
    {
     "name": "stdout",
     "output_type": "stream",
     "text": [
      "<class 'pandas.core.frame.DataFrame'>\n",
      "Int64Index: 5279 entries, 0 to 5278\n",
      "Data columns (total 2 columns):\n",
      " #   Column   Non-Null Count  Dtype \n",
      "---  ------   --------------  ----- \n",
      " 0   article  5279 non-null   object\n",
      " 1   tags     5279 non-null   object\n",
      "dtypes: object(2)\n",
      "memory usage: 123.7+ KB\n",
      "None\n",
      "Opération terminée\n"
     ]
    }
   ],
   "source": [
    "\n",
    "def dump_labels(descriptors):\n",
    "    df_labels = pd.DataFrame(columns=['label','score'])\n",
    "    counter = 0\n",
    "    for d in descriptors:\n",
    "        df_labels.loc[counter] = [d['label'], d['score']]\n",
    "        counter = counter + 1 \n",
    "    return df_labels\n",
    "\n",
    "df_results = pd.DataFrame(columns=['article','tags'])\n",
    "for counter_data in range(0, len(df_data)):\n",
    "    data = {\n",
    "        \"text\" : df_data.loc[counter_data].text_content # first record of the dataframe\n",
    "    }\n",
    "    response = requests.post(\"http://localhost:8000/predict.json\", data=json.dumps(data), headers=headers)\n",
    "    response_text = json.loads(response.text)\n",
    "    \n",
    "    # Retrieve the descriptors ( predicted tags with e score)\n",
    "    descriptors = (response_text['predictions']['allDescriptors'])\n",
    "    df_tags = dump_labels(descriptors)\n",
    "    \n",
    "    # Append to the results\n",
    "    df_results.loc[counter_data] = [df_data.loc[counter_data].url,df_tags]\n",
    "print(df_results.info())\n",
    "\n",
    "# Export dataframe to a feather format file\n",
    "df_results.to_json('results_tags.json', orient='records')\n",
    "\n",
    "print(\"Opération terminée\")"
   ]
  },
  {
   "cell_type": "code",
   "execution_count": null,
   "id": "91dce9ba",
   "metadata": {},
   "outputs": [],
   "source": []
  }
 ],
 "metadata": {
  "kernelspec": {
   "display_name": "Python 3 (ipykernel)",
   "language": "python",
   "name": "python3"
  },
  "language_info": {
   "codemirror_mode": {
    "name": "ipython",
    "version": 3
   },
   "file_extension": ".py",
   "mimetype": "text/x-python",
   "name": "python",
   "nbconvert_exporter": "python",
   "pygments_lexer": "ipython3",
   "version": "3.8.3"
  }
 },
 "nbformat": 4,
 "nbformat_minor": 5
}
