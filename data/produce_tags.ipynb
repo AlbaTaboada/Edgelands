{
 "cells": [
  {
   "cell_type": "code",
   "execution_count": 1,
   "id": "62a76fe2",
   "metadata": {},
   "outputs": [],
   "source": [
    "import pandas as pd"
   ]
  },
  {
   "cell_type": "code",
   "execution_count": 2,
   "id": "ecd1c1bd",
   "metadata": {},
   "outputs": [],
   "source": [
    "# Load the feather file into a pandas dataframe\n",
    "df_data = pd.read_feather(\"results_v3.feather\")"
   ]
  },
  {
   "cell_type": "code",
   "execution_count": 3,
   "id": "3944a9d5",
   "metadata": {},
   "outputs": [
    {
     "name": "stdout",
     "output_type": "stream",
     "text": [
      "index                                                           0\n",
      "year                                                         2022\n",
      "title           US military creates space unit in South Korea ...\n",
      "url             https://www.airforcetimes.com/battlefield-tech...\n",
      "text_content    SEOUL, South Korea — The U.S. military formall...\n",
      "Name: 0, dtype: object\n"
     ]
    }
   ],
   "source": [
    "print(df_data.iloc[0])"
   ]
  },
  {
   "cell_type": "markdown",
   "id": "7e89d9cf",
   "metadata": {},
   "source": [
    "---\n",
    "The *News Labels Classifier* is running on the local machine.  \n",
    "Text contents are sended to it.  \n",
    "In response, the *News Labels Classifier* sends the scriptors and their score."
   ]
  },
  {
   "cell_type": "code",
   "execution_count": 4,
   "id": "a8469afa",
   "metadata": {},
   "outputs": [],
   "source": [
    "import requests\n",
    "import json"
   ]
  },
  {
   "cell_type": "code",
   "execution_count": 5,
   "id": "454fb014",
   "metadata": {},
   "outputs": [
    {
     "name": "stdout",
     "output_type": "stream",
     "text": [
      "200\n"
     ]
    }
   ],
   "source": [
    "headers = {\n",
    "    \"Content-Type\": \"application/json\"\n",
    "}\n",
    "data = {\n",
    "    \"text\" : df_data.iloc[0].text_content # first record of the dataframe\n",
    "}\n",
    "response = requests.post(\"http://localhost:8000/predict.json\", data=json.dumps(data), headers=headers)\n",
    "print(response.status_code)"
   ]
  },
  {
   "cell_type": "code",
   "execution_count": 6,
   "id": "d6647364",
   "metadata": {},
   "outputs": [
    {
     "name": "stdout",
     "output_type": "stream",
     "text": [
      "[{'label': 'armament, defense and military forces', 'score': '0.70348'}, {'label': 'missiles and missile defense systems', 'score': '0.38117'}, {'label': 'international relations', 'score': '0.26588'}]\n"
     ]
    }
   ],
   "source": [
    "response_text = json.loads(response.text)\n",
    "# Retrieve the descriptors ( predicted tags with e score)\n",
    "descriptors = (response_text['predictions']['allDescriptors'])\n",
    "print(descriptors[0:3]) # Extract the 3 first  "
   ]
  },
  {
   "cell_type": "code",
   "execution_count": null,
   "id": "cad7d0f6",
   "metadata": {},
   "outputs": [],
   "source": []
  }
 ],
 "metadata": {
  "kernelspec": {
   "display_name": "Python 3 (ipykernel)",
   "language": "python",
   "name": "python3"
  },
  "language_info": {
   "codemirror_mode": {
    "name": "ipython",
    "version": 3
   },
   "file_extension": ".py",
   "mimetype": "text/x-python",
   "name": "python",
   "nbconvert_exporter": "python",
   "pygments_lexer": "ipython3",
   "version": "3.8.3"
  }
 },
 "nbformat": 4,
 "nbformat_minor": 5
}
