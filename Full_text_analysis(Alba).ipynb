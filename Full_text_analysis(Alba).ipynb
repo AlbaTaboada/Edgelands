{
 "cells": [
  {
   "cell_type": "markdown",
   "metadata": {},
   "source": [
    "### Libraries"
   ]
  },
  {
   "cell_type": "code",
   "execution_count": 2,
   "metadata": {},
   "outputs": [],
   "source": [
    "# import csv\n",
    "# import os\n",
    "import re\n",
    "import json\n",
    "import umap\n",
    "\n",
    "import hdbscan\n",
    "\n",
    "import numpy as np\n",
    "import pandas as pd\n",
    "\n",
    "import matplotlib.pyplot as plt\n",
    "import matplotlib.colors as mcolors\n",
    "from IPython.display import clear_output\n",
    "from pointgrid import align_points_to_grid\n",
    "\n",
    "from sklearn import preprocessing\n",
    "from sklearn.linear_model import LinearRegression\n",
    "from sklearn.preprocessing import MinMaxScaler\n",
    "from sklearn.feature_extraction.text import CountVectorizer\n",
    "from sklearn.feature_extraction.text import TfidfTransformer\n",
    "\n",
    "# import math\n",
    "import matplotlib.pyplot as plt\n",
    "from scipy.spatial import ConvexHull\n",
    "from scipy import interpolate\n",
    "\n",
    "#Lema\n",
    "import spacy\n",
    "from spacy.lang.en.stop_words import STOP_WORDS\n",
    "import string\n",
    "\n",
    "#nlp count\n",
    "import matplotlib.pyplot as plt\n",
    "from sklearn.feature_extraction.text import CountVectorizer"
   ]
  },
  {
   "cell_type": "markdown",
   "metadata": {},
   "source": [
    "### Load Data"
   ]
  },
  {
   "cell_type": "code",
   "execution_count": 5,
   "metadata": {},
   "outputs": [],
   "source": [
    "df = pd.read_csv('C:\\\\Users\\\\UserAlba\\\\OneDrive - UAM\\\\Documentos\\\\GitHub\\\\Weather_map\\\\src\\\\data\\\\entities.csv')"
   ]
  },
  {
   "cell_type": "code",
   "execution_count": 6,
   "metadata": {},
   "outputs": [
    {
     "data": {
      "text/plain": [
       "(590, 10)"
      ]
     },
     "execution_count": 6,
     "metadata": {},
     "output_type": "execute_result"
    }
   ],
   "source": [
    "df.shape"
   ]
  },
  {
   "cell_type": "code",
   "execution_count": 7,
   "metadata": {},
   "outputs": [
    {
     "data": {
      "text/html": [
       "<div>\n",
       "<style scoped>\n",
       "    .dataframe tbody tr th:only-of-type {\n",
       "        vertical-align: middle;\n",
       "    }\n",
       "\n",
       "    .dataframe tbody tr th {\n",
       "        vertical-align: top;\n",
       "    }\n",
       "\n",
       "    .dataframe thead th {\n",
       "        text-align: right;\n",
       "    }\n",
       "</style>\n",
       "<table border=\"1\" class=\"dataframe\">\n",
       "  <thead>\n",
       "    <tr style=\"text-align: right;\">\n",
       "      <th></th>\n",
       "      <th>title</th>\n",
       "      <th>url</th>\n",
       "      <th>year</th>\n",
       "      <th>text</th>\n",
       "      <th>entities</th>\n",
       "      <th>temperature</th>\n",
       "      <th>color</th>\n",
       "      <th>x</th>\n",
       "      <th>y</th>\n",
       "      <th>cluster</th>\n",
       "    </tr>\n",
       "  </thead>\n",
       "  <tbody>\n",
       "    <tr>\n",
       "      <th>79</th>\n",
       "      <td>How underwater drones could shape a potential ...</td>\n",
       "      <td>https://www.technologyreview.com/2024/06/20/10...</td>\n",
       "      <td>2024</td>\n",
       "      <td>How underwater drones could shape a potential ...</td>\n",
       "      <td>['US', 'The US Department of Defense', 'CNAS',...</td>\n",
       "      <td>2</td>\n",
       "      <td>#0000ff</td>\n",
       "      <td>557.142857</td>\n",
       "      <td>753.727273</td>\n",
       "      <td>p_7</td>\n",
       "    </tr>\n",
       "    <tr>\n",
       "      <th>566</th>\n",
       "      <td>The Brood X cicadas are here — and yes, there’...</td>\n",
       "      <td>https://www.technologyreview.com/2021/06/03/10...</td>\n",
       "      <td>2021</td>\n",
       "      <td>The Brood X cicadas are here — and yes, there’...</td>\n",
       "      <td>['Michelle Watson', 'US', 'Gene Kritsky', 'the...</td>\n",
       "      <td>-1</td>\n",
       "      <td>#ff0000</td>\n",
       "      <td>297.402597</td>\n",
       "      <td>203.766234</td>\n",
       "      <td>-1</td>\n",
       "    </tr>\n",
       "    <tr>\n",
       "      <th>184</th>\n",
       "      <td>Google’s Gemini is now in everything. Here’s h...</td>\n",
       "      <td>https://www.technologyreview.com/2024/02/08/10...</td>\n",
       "      <td>2024</td>\n",
       "      <td>Google’s Gemini is now in everything. Here’s h...</td>\n",
       "      <td>['US', 'Google One Premium Plan', 'Behr', 'Hsa...</td>\n",
       "      <td>2</td>\n",
       "      <td>#0000ff</td>\n",
       "      <td>525.974026</td>\n",
       "      <td>100.000000</td>\n",
       "      <td>p_10</td>\n",
       "    </tr>\n",
       "  </tbody>\n",
       "</table>\n",
       "</div>"
      ],
      "text/plain": [
       "                                                 title  \\\n",
       "79   How underwater drones could shape a potential ...   \n",
       "566  The Brood X cicadas are here — and yes, there’...   \n",
       "184  Google’s Gemini is now in everything. Here’s h...   \n",
       "\n",
       "                                                   url  year  \\\n",
       "79   https://www.technologyreview.com/2024/06/20/10...  2024   \n",
       "566  https://www.technologyreview.com/2021/06/03/10...  2021   \n",
       "184  https://www.technologyreview.com/2024/02/08/10...  2024   \n",
       "\n",
       "                                                  text  \\\n",
       "79   How underwater drones could shape a potential ...   \n",
       "566  The Brood X cicadas are here — and yes, there’...   \n",
       "184  Google’s Gemini is now in everything. Here’s h...   \n",
       "\n",
       "                                              entities  temperature    color  \\\n",
       "79   ['US', 'The US Department of Defense', 'CNAS',...            2  #0000ff   \n",
       "566  ['Michelle Watson', 'US', 'Gene Kritsky', 'the...           -1  #ff0000   \n",
       "184  ['US', 'Google One Premium Plan', 'Behr', 'Hsa...            2  #0000ff   \n",
       "\n",
       "              x           y cluster  \n",
       "79   557.142857  753.727273     p_7  \n",
       "566  297.402597  203.766234      -1  \n",
       "184  525.974026  100.000000    p_10  "
      ]
     },
     "execution_count": 7,
     "metadata": {},
     "output_type": "execute_result"
    }
   ],
   "source": [
    "df.sample(3)"
   ]
  },
  {
   "cell_type": "markdown",
   "metadata": {},
   "source": [
    "### Clean Data"
   ]
  },
  {
   "cell_type": "code",
   "execution_count": 8,
   "metadata": {},
   "outputs": [
    {
     "data": {
      "text/plain": [
       "Index(['title', 'url', 'year', 'text', 'entities', 'temperature', 'color', 'x',\n",
       "       'y', 'cluster'],\n",
       "      dtype='object')"
      ]
     },
     "execution_count": 8,
     "metadata": {},
     "output_type": "execute_result"
    }
   ],
   "source": [
    "df.columns"
   ]
  },
  {
   "cell_type": "markdown",
   "metadata": {},
   "source": [
    "### Lematization"
   ]
  },
  {
   "cell_type": "code",
   "execution_count": 9,
   "metadata": {},
   "outputs": [],
   "source": [
    "\n",
    "nlp = spacy.load(\"en_core_web_sm\")"
   ]
  },
  {
   "cell_type": "code",
   "execution_count": 11,
   "metadata": {},
   "outputs": [],
   "source": [
    "df['text_clean'] = df['title'] + ' ' + df['text'] "
   ]
  },
  {
   "cell_type": "code",
   "execution_count": 12,
   "metadata": {},
   "outputs": [
    {
     "data": {
      "text/plain": [
       "'What impact will AI have on video game development?\\r\\nIt could make working conditions more bearable—or it could just put people out of work.\\r\\nThis story is from The Algorithm, our weekly newsletter on AI. To get it in your inbox first, sign up here.\\r\\nVideo game development has long been plagued by fear of the “crunch”—essentially, being forced to work overtime on a game to meet a deadline. In the early days of video games, the crunch was often viewed as a rite of passage: In the last days before release, an obsessed group of scrappy developers would work late into the night to perfect their dream game.\\r\\nHowever, nowadays the crunch is less likely to be glamorized than to be seen as a form of exploitation that risks causing mental illness and burnout. Part of the issue is that crunch time used to be just before a game launched, but now whole game development periods are “crunchy.” With games getting more expensive, companies are incentivized to make even more short-term profits by squeezing developers.\\r\\nBut what if AI could help to alleviate game-development hell? It may already be happening. According to a recent poll by a16z, 87% of studios are using generative AI tools like Midjourney to create in-game environments. Others are using it for game testing or looking for bugs, while Ubisoft is experimenting with using AI to create different basic dialogue options.\\r\\nAnd even more help is coming. A tool developed by the team at Roblox aims to allow developers to make 3D environments and scenes in an instant with nothing but text prompts. Typically, creating an environment may take a week for a small game or much longer for a studio project, depending on how complex the designs are. But Roblox aims to let developers almost instantly bring their personal vision to life.\\r\\nFor example, let’s say you wanted your game to be set in a spaceship with the interior design of a Buddhist temple. You’d just put that into a prompt—“Create a spaceship …”—and BAM! Your one-of-a-kind environment would be generated immediately.\\r\\nThe technology behind this can be used for any 3D environment, not just Roblox. My article here goes into more depth, but essentially, if ChatGPT’s tokens are words, the Roblox system’s tokens are 3D cubes that form a larger scene, allowing the 3D generation equivalent of what ChatGPT can do for text. This means the model could potentially be used to generate a whole city in the Grand Theft Auto universe. That said, the demo I saw from Roblox was far smaller, generating only a racetrack. So more realistically, I imagine it would be used to build one aspect of a city in Grand Theft Auto, like a stadium—at least for now.\\r\\nRoblox claims you’re also able to modify a scene with prompts. So let’s say you get bored of the Buddhist temple aesthetic. You can prompt the model again—“Make the spaceship interior a forest”—and within an instant, all the Buddhist statues will turn to trees.\\r\\nA lot of these types of things can already be done manually, of course, but it can take a lot of time. Ideally, this kind of technology will allow 3D artists to offload some of the tedium of their job to an AI. (Though some of them may argue that building the environment is creatively fulfilling—maybe even one of their favorite parts of their job. Having an AI spawn an environment in an instant may take away some of the joy of slowly discovering an environment as you build it.)\\r\\nPersonally, I’m fairly skeptical of AI in video games. As a former developer myself, I cringe a little bit when I hear about AI being used to write dialogue for characters. I worry about terribly stilted results and the possibility that writers will lose their jobs. In the same vein, I worry about putting 3D artists out of work and ending up with 3D environments that look off, or obviously generated by AI without care or thought.\\r\\nIt’s clear that the big AI wave is crashing upon us. And whether it leads to better work-life balance for game developers is going to be determined by how these systems are implemented. Will developers have a tool to reduce tedium and eliminate repetitive tasks, or will they have fewer colleagues, and new colleagues who insist on using words like “delves” and “showcasing” in every other sentence?\\r\\nNow read the rest of The Algorithm\\r\\nDeeper learning\\r\\nAI is already being used in games for eliminating inappropriate language\\r\\nThis new Roblox development comes after the company introduced AI to analyze in-game voice chat in real time last fall. Other games, like Call of Duty, have implemented similar systems. If the AI determines that a player is using foul language, it will issue a warning, and then a ban if restricted words keep coming.\\r\\nWhy this matters: As we’ve written previously, content moderation with AI has proved to be tricky. It seems like an obvious way to make good use of the technology’s ability to look at masses of information and make quick assessments, but AI still has a hard time with nuance and cultural contexts. That hasn’t stopped it from being implemented in video games, which have been and will continue to be one of the testing grounds for the latest innovations in AI. My colleague Niall explains in his recent piece how it could make virtual worlds more immersive and flexible.\\r\\nBits and bytes\\r\\nWhat this futuristic Olympics video says about the state of generative AI\\r\\nFilmmaker Josh Kahn used AI to create a short video that imagines what an Olympics in LA might look like in the year 3028, which he shared exclusively with MIT Technology Review. The short demonstrates AI’s immense power for video creation, but it also highlights some of the issues with using the technology for that purpose.\\r\\n(MIT Technology Review)\\r\\nA Dutch regulator has slapped Clearview AI with a $33 million fine\\r\\nYears ago, Clearview AI scraped images of people from the internet without their permission. Now Dutch authorities are suing the company, claiming that Clearview’s database is illegal because it violates individuals’ right to privacy. Clearview hasn’t paid past fines and doesn’t plan to pay this one, claiming that Dutch authorities have no jurisdiction over the company since it doesn’t have a business in the Netherlands. The Dutch are considering holding the directors of Clearview personally financially liable.\\r\\n(The Verge)\\r\\nHow OpenAI is changing\\r\\nOpenAI continues to evolve; recent moves include adding the former director of the US National Security Agency to its board and considering plans to restructure the company to be more attractive for investors. Additionally, there are talks over a new investment into OpenAI that would value it at over $100 billion. It sure feels like a long time since OpenAI could credibly claim to just be a research lab.\\r\\n(The New York Times)\\r\\nNaNoWriMo says condemning AI Is “classist and ableist”\\r\\nThe organizers of the “write a book in a month” challenge have got themselves into hot water recently, with a big backlash against their decision to support the use of AI for writers. They’ve countered the haters by claiming that opposing the use of AI in writing is both classist and ableist, as some people require extra assistance and accommodation from AI tools.\\r\\n(404 media)\\r\\nDeep Dive\\r\\nArtificial intelligence\\r\\nGoogle DeepMind’s new AI systems can now solve complex math problems\\r\\nAlphaProof and AlphaGeometry 2 are steps toward building systems that can reason, which could unlock exciting new capabilities.\\r\\nRobot-packed meals are coming to the frozen-food aisle\\r\\nFound everywhere from airplanes to grocery stores, prepared meals are usually packed by hand. AI-powered robotics is changing that.\\r\\nOpenAI has released a new ChatGPT bot that you can talk to\\r\\nThe voice-enabled chatbot will be available to a small group of people today, and to all ChatGPT Plus users in the fall.\\r\\nAI trained on AI garbage spits out AI garbage\\r\\nAs junk web pages written by AI proliferate, the models that rely on that data will suffer.\\r\\nStay connected\\r\\nGet the latest updates from\\r\\nMIT Technology Review\\r\\nDiscover special offers, top stories, upcoming events, and more.'"
      ]
     },
     "execution_count": 12,
     "metadata": {},
     "output_type": "execute_result"
    }
   ],
   "source": [
    "df.text[1]"
   ]
  },
  {
   "cell_type": "code",
   "execution_count": 13,
   "metadata": {},
   "outputs": [],
   "source": [
    "words={'ai'}\n",
    "# Función para limpiar el texto\n",
    "def clean_text(text):\n",
    "    # Procesar el texto con spaCy\n",
    "    doc = nlp(text)\n",
    "    \n",
    "    # Lematizar y filtrar stopwords, puntuación y palabras personalizadas\n",
    "    tokens = [token.lemma_.lower() for token in doc \n",
    "              if token.text.lower() not in STOP_WORDS  # Eliminar stopwords\n",
    "              and token.is_alpha  # Mantener solo caracteres alfabéticos\n",
    "              and token.text.lower() not in string.punctuation  # Eliminar puntuación\n",
    "              and token.text.lower() not in words]  # Eliminar palabras específicas\n",
    "    \n",
    "    # Unir los tokens limpios en un solo string\n",
    "    return ' '.join(tokens)"
   ]
  },
  {
   "cell_type": "code",
   "execution_count": 14,
   "metadata": {},
   "outputs": [],
   "source": [
    "# Aplicar la función de limpieza a la columna 'text'\n",
    "df['clean_text'] = df['text_clean'].apply(clean_text)"
   ]
  },
  {
   "cell_type": "code",
   "execution_count": 15,
   "metadata": {},
   "outputs": [],
   "source": [
    "df = df.drop('text_clean', axis=1)"
   ]
  },
  {
   "cell_type": "code",
   "execution_count": 16,
   "metadata": {},
   "outputs": [
    {
     "data": {
      "text/html": [
       "<div>\n",
       "<style scoped>\n",
       "    .dataframe tbody tr th:only-of-type {\n",
       "        vertical-align: middle;\n",
       "    }\n",
       "\n",
       "    .dataframe tbody tr th {\n",
       "        vertical-align: top;\n",
       "    }\n",
       "\n",
       "    .dataframe thead th {\n",
       "        text-align: right;\n",
       "    }\n",
       "</style>\n",
       "<table border=\"1\" class=\"dataframe\">\n",
       "  <thead>\n",
       "    <tr style=\"text-align: right;\">\n",
       "      <th></th>\n",
       "      <th>title</th>\n",
       "      <th>url</th>\n",
       "      <th>year</th>\n",
       "      <th>text</th>\n",
       "      <th>entities</th>\n",
       "      <th>temperature</th>\n",
       "      <th>color</th>\n",
       "      <th>x</th>\n",
       "      <th>y</th>\n",
       "      <th>cluster</th>\n",
       "      <th>clean_text</th>\n",
       "    </tr>\n",
       "  </thead>\n",
       "  <tbody>\n",
       "    <tr>\n",
       "      <th>0</th>\n",
       "      <td>2024 Innovator of the Year: Shawn Shan builds ...</td>\n",
       "      <td>https://www.technologyreview.com/2024/09/10/11...</td>\n",
       "      <td>2024</td>\n",
       "      <td>2024 Innovator of the Year: Shawn Shan builds ...</td>\n",
       "      <td>['Midjourney', 'Karla Ortiz', 'Nightshade', 'W...</td>\n",
       "      <td>2</td>\n",
       "      <td>#0000ff</td>\n",
       "      <td>203.896104</td>\n",
       "      <td>421.675325</td>\n",
       "      <td>-1</td>\n",
       "      <td>innovator year shawn shan build tool help arti...</td>\n",
       "    </tr>\n",
       "    <tr>\n",
       "      <th>1</th>\n",
       "      <td>What impact will AI have on video game develop...</td>\n",
       "      <td>https://www.technologyreview.com/2024/09/10/11...</td>\n",
       "      <td>2024</td>\n",
       "      <td>What impact will AI have on video game develop...</td>\n",
       "      <td>['Midjourney', 'Netherlands', 'Clearview AI', ...</td>\n",
       "      <td>2</td>\n",
       "      <td>#0000ff</td>\n",
       "      <td>276.623377</td>\n",
       "      <td>556.571429</td>\n",
       "      <td>-1</td>\n",
       "      <td>impact video game development impact video gam...</td>\n",
       "    </tr>\n",
       "    <tr>\n",
       "      <th>2</th>\n",
       "      <td>To be more useful, robots need to become lazier</td>\n",
       "      <td>https://www.technologyreview.com/2024/09/09/11...</td>\n",
       "      <td>2024</td>\n",
       "      <td>To be more useful, robots need to become lazie...</td>\n",
       "      <td>['Bold Hearts', 'Tech United', 'Tech United’s'...</td>\n",
       "      <td>2</td>\n",
       "      <td>#0000ff</td>\n",
       "      <td>141.558442</td>\n",
       "      <td>608.454545</td>\n",
       "      <td>p_2</td>\n",
       "      <td>useful robot need lazy useful robot need lazy ...</td>\n",
       "    </tr>\n",
       "    <tr>\n",
       "      <th>3</th>\n",
       "      <td>Roblox is launching a generative AI that build...</td>\n",
       "      <td>https://www.technologyreview.com/2024/09/06/11...</td>\n",
       "      <td>2024</td>\n",
       "      <td>Roblox is launching a generative AI that build...</td>\n",
       "      <td>['Marcus Holmström', 'The Gang', 'AI', 'France...</td>\n",
       "      <td>2</td>\n",
       "      <td>#0000ff</td>\n",
       "      <td>338.961039</td>\n",
       "      <td>266.025974</td>\n",
       "      <td>p_11</td>\n",
       "      <td>roblox launch generative build environment sna...</td>\n",
       "    </tr>\n",
       "    <tr>\n",
       "      <th>4</th>\n",
       "      <td>Integrating security from code to cloud</td>\n",
       "      <td>https://www.technologyreview.com/2024/09/05/10...</td>\n",
       "      <td>2024</td>\n",
       "      <td>Sponsored\\r\\nIntegrating security from code to...</td>\n",
       "      <td>['TEE', 'Microsoft Security', 'Insights', 'the...</td>\n",
       "      <td>2</td>\n",
       "      <td>#0000ff</td>\n",
       "      <td>349.350649</td>\n",
       "      <td>857.493506</td>\n",
       "      <td>-1</td>\n",
       "      <td>integrate security code cloud sponsored integr...</td>\n",
       "    </tr>\n",
       "  </tbody>\n",
       "</table>\n",
       "</div>"
      ],
      "text/plain": [
       "                                               title  \\\n",
       "0  2024 Innovator of the Year: Shawn Shan builds ...   \n",
       "1  What impact will AI have on video game develop...   \n",
       "2    To be more useful, robots need to become lazier   \n",
       "3  Roblox is launching a generative AI that build...   \n",
       "4            Integrating security from code to cloud   \n",
       "\n",
       "                                                 url  year  \\\n",
       "0  https://www.technologyreview.com/2024/09/10/11...  2024   \n",
       "1  https://www.technologyreview.com/2024/09/10/11...  2024   \n",
       "2  https://www.technologyreview.com/2024/09/09/11...  2024   \n",
       "3  https://www.technologyreview.com/2024/09/06/11...  2024   \n",
       "4  https://www.technologyreview.com/2024/09/05/10...  2024   \n",
       "\n",
       "                                                text  \\\n",
       "0  2024 Innovator of the Year: Shawn Shan builds ...   \n",
       "1  What impact will AI have on video game develop...   \n",
       "2  To be more useful, robots need to become lazie...   \n",
       "3  Roblox is launching a generative AI that build...   \n",
       "4  Sponsored\\r\\nIntegrating security from code to...   \n",
       "\n",
       "                                            entities  temperature    color  \\\n",
       "0  ['Midjourney', 'Karla Ortiz', 'Nightshade', 'W...            2  #0000ff   \n",
       "1  ['Midjourney', 'Netherlands', 'Clearview AI', ...            2  #0000ff   \n",
       "2  ['Bold Hearts', 'Tech United', 'Tech United’s'...            2  #0000ff   \n",
       "3  ['Marcus Holmström', 'The Gang', 'AI', 'France...            2  #0000ff   \n",
       "4  ['TEE', 'Microsoft Security', 'Insights', 'the...            2  #0000ff   \n",
       "\n",
       "            x           y cluster  \\\n",
       "0  203.896104  421.675325      -1   \n",
       "1  276.623377  556.571429      -1   \n",
       "2  141.558442  608.454545     p_2   \n",
       "3  338.961039  266.025974    p_11   \n",
       "4  349.350649  857.493506      -1   \n",
       "\n",
       "                                          clean_text  \n",
       "0  innovator year shawn shan build tool help arti...  \n",
       "1  impact video game development impact video gam...  \n",
       "2  useful robot need lazy useful robot need lazy ...  \n",
       "3  roblox launch generative build environment sna...  \n",
       "4  integrate security code cloud sponsored integr...  "
      ]
     },
     "execution_count": 16,
     "metadata": {},
     "output_type": "execute_result"
    }
   ],
   "source": [
    "df.head()"
   ]
  },
  {
   "cell_type": "code",
   "execution_count": 18,
   "metadata": {},
   "outputs": [],
   "source": [
    "# Define helper function\n",
    "def get_top_n_words(n_top_words, count_vectorizer, text_data):\n",
    "    '''\n",
    "    Returns a tuple of the top n words in a sample and their \n",
    "    accompanying counts, given a CountVectorizer object and text sample.\n",
    "    '''\n",
    "    # Vectoriza el texto\n",
    "    vectorized_headlines = count_vectorizer.fit_transform(text_data.values)\n",
    "    \n",
    "    # Suma de las ocurrencias de cada palabra en todos los documentos\n",
    "    vectorized_total = np.sum(vectorized_headlines, axis=0)\n",
    "    \n",
    "    # Obtiene los índices de las palabras ordenadas por frecuencia\n",
    "    word_indices = np.flip(np.argsort(vectorized_total)[0,:], 1)\n",
    "    \n",
    "    # Obtiene los valores de las frecuencias\n",
    "    word_values = np.flip(np.sort(vectorized_total)[0,:],1)\n",
    "    \n",
    "    # Prepara los vectores de palabras más frecuentes\n",
    "    word_vectors = np.zeros((n_top_words, vectorized_headlines.shape[1]))\n",
    "    for i in range(n_top_words):\n",
    "        word_vectors[i, word_indices[0, i]] = 1\n",
    "\n",
    "    # Obtiene las palabras correspondientes a los índices más frecuentes\n",
    "    words = [word for word in count_vectorizer.inverse_transform(word_vectors)[0]]\n",
    "\n",
    "    return (words, word_values[0,:n_top_words].tolist()[0])\n"
   ]
  },
  {
   "cell_type": "code",
   "execution_count": 19,
   "metadata": {},
   "outputs": [],
   "source": [
    "count_vectorizer = CountVectorizer()"
   ]
  },
  {
   "cell_type": "code",
   "execution_count": 21,
   "metadata": {},
   "outputs": [],
   "source": [
    "# Define helper functions\n",
    "def get_top_n_words(n_top_words, count_vectorizer, text_data):\n",
    "    '''\n",
    "    returns a tuple of the top n words in a sample and their \n",
    "    accompanying counts, given a CountVectorizer object and text sample\n",
    "    '''\n",
    "    vectorized_headlines = count_vectorizer.fit_transform(text_data.values)\n",
    "    vectorized_total = np.sum(vectorized_headlines, axis=0)\n",
    "    word_indices = np.flip(np.argsort(vectorized_total)[0,:], 1)\n",
    "    word_values = np.flip(np.sort(vectorized_total)[0,:],1)\n",
    "    \n",
    "    word_vectors = np.zeros((n_top_words, vectorized_headlines.shape[1]))\n",
    "    for i in range(n_top_words):\n",
    "        word_vectors[i,word_indices[0,i]] = 1\n",
    "\n",
    "    words = [word[0].encode('ascii').decode('utf-8') for \n",
    "             word in count_vectorizer.inverse_transform(word_vectors)]\n",
    "\n",
    "    return (words, word_values[0,:n_top_words].tolist()[0])"
   ]
  },
  {
   "cell_type": "code",
   "execution_count": 22,
   "metadata": {},
   "outputs": [
    {
     "data": {
      "image/png": "[encoded data removed]",
      "text/plain": [
       "<Figure size 1600x800 with 1 Axes>"
      ]
     },
     "metadata": {},
     "output_type": "display_data"
    }
   ],
   "source": [
    "count_vectorizer = CountVectorizer(stop_words='english')\n",
    "words, word_values = get_top_n_words(n_top_words=15,\n",
    "                                     count_vectorizer=count_vectorizer, \n",
    "                                     text_data=df['clean_text'])\n",
    "\n",
    "fig, ax = plt.subplots(figsize=(16,8))\n",
    "ax.bar(range(len(words)), word_values);\n",
    "ax.set_xticks(range(len(words)));\n",
    "ax.set_xticklabels(words, rotation='vertical');\n",
    "ax.set_title('Top words in headlines dataset (excluding stop words)');\n",
    "ax.set_xlabel('Word');\n",
    "ax.set_ylabel('Number of occurences');\n",
    "plt.show()"
   ]
  },
  {
   "cell_type": "code",
   "execution_count": 23,
   "metadata": {},
   "outputs": [
    {
     "data": {
      "text/html": [
       "<div>\n",
       "<style scoped>\n",
       "    .dataframe tbody tr th:only-of-type {\n",
       "        vertical-align: middle;\n",
       "    }\n",
       "\n",
       "    .dataframe tbody tr th {\n",
       "        vertical-align: top;\n",
       "    }\n",
       "\n",
       "    .dataframe thead th {\n",
       "        text-align: right;\n",
       "    }\n",
       "</style>\n",
       "<table border=\"1\" class=\"dataframe\">\n",
       "  <thead>\n",
       "    <tr style=\"text-align: right;\">\n",
       "      <th></th>\n",
       "      <th>title</th>\n",
       "      <th>url</th>\n",
       "      <th>year</th>\n",
       "      <th>text</th>\n",
       "      <th>entities</th>\n",
       "      <th>temperature</th>\n",
       "      <th>color</th>\n",
       "      <th>x</th>\n",
       "      <th>y</th>\n",
       "      <th>cluster</th>\n",
       "      <th>clean_text</th>\n",
       "    </tr>\n",
       "  </thead>\n",
       "  <tbody>\n",
       "    <tr>\n",
       "      <th>0</th>\n",
       "      <td>2024 Innovator of the Year: Shawn Shan builds ...</td>\n",
       "      <td>https://www.technologyreview.com/2024/09/10/11...</td>\n",
       "      <td>2024</td>\n",
       "      <td>2024 Innovator of the Year: Shawn Shan builds ...</td>\n",
       "      <td>['Midjourney', 'Karla Ortiz', 'Nightshade', 'W...</td>\n",
       "      <td>2</td>\n",
       "      <td>#0000ff</td>\n",
       "      <td>203.896104</td>\n",
       "      <td>421.675325</td>\n",
       "      <td>-1</td>\n",
       "      <td>innovator year shawn shan build tool help arti...</td>\n",
       "    </tr>\n",
       "    <tr>\n",
       "      <th>1</th>\n",
       "      <td>What impact will AI have on video game develop...</td>\n",
       "      <td>https://www.technologyreview.com/2024/09/10/11...</td>\n",
       "      <td>2024</td>\n",
       "      <td>What impact will AI have on video game develop...</td>\n",
       "      <td>['Midjourney', 'Netherlands', 'Clearview AI', ...</td>\n",
       "      <td>2</td>\n",
       "      <td>#0000ff</td>\n",
       "      <td>276.623377</td>\n",
       "      <td>556.571429</td>\n",
       "      <td>-1</td>\n",
       "      <td>impact video game development impact video gam...</td>\n",
       "    </tr>\n",
       "    <tr>\n",
       "      <th>2</th>\n",
       "      <td>To be more useful, robots need to become lazier</td>\n",
       "      <td>https://www.technologyreview.com/2024/09/09/11...</td>\n",
       "      <td>2024</td>\n",
       "      <td>To be more useful, robots need to become lazie...</td>\n",
       "      <td>['Bold Hearts', 'Tech United', 'Tech United’s'...</td>\n",
       "      <td>2</td>\n",
       "      <td>#0000ff</td>\n",
       "      <td>141.558442</td>\n",
       "      <td>608.454545</td>\n",
       "      <td>p_2</td>\n",
       "      <td>useful robot need lazy useful robot need lazy ...</td>\n",
       "    </tr>\n",
       "    <tr>\n",
       "      <th>3</th>\n",
       "      <td>Roblox is launching a generative AI that build...</td>\n",
       "      <td>https://www.technologyreview.com/2024/09/06/11...</td>\n",
       "      <td>2024</td>\n",
       "      <td>Roblox is launching a generative AI that build...</td>\n",
       "      <td>['Marcus Holmström', 'The Gang', 'AI', 'France...</td>\n",
       "      <td>2</td>\n",
       "      <td>#0000ff</td>\n",
       "      <td>338.961039</td>\n",
       "      <td>266.025974</td>\n",
       "      <td>p_11</td>\n",
       "      <td>roblox launch generative build environment sna...</td>\n",
       "    </tr>\n",
       "    <tr>\n",
       "      <th>4</th>\n",
       "      <td>Integrating security from code to cloud</td>\n",
       "      <td>https://www.technologyreview.com/2024/09/05/10...</td>\n",
       "      <td>2024</td>\n",
       "      <td>Sponsored\\r\\nIntegrating security from code to...</td>\n",
       "      <td>['TEE', 'Microsoft Security', 'Insights', 'the...</td>\n",
       "      <td>2</td>\n",
       "      <td>#0000ff</td>\n",
       "      <td>349.350649</td>\n",
       "      <td>857.493506</td>\n",
       "      <td>-1</td>\n",
       "      <td>integrate security code cloud sponsored integr...</td>\n",
       "    </tr>\n",
       "  </tbody>\n",
       "</table>\n",
       "</div>"
      ],
      "text/plain": [
       "                                               title  \\\n",
       "0  2024 Innovator of the Year: Shawn Shan builds ...   \n",
       "1  What impact will AI have on video game develop...   \n",
       "2    To be more useful, robots need to become lazier   \n",
       "3  Roblox is launching a generative AI that build...   \n",
       "4            Integrating security from code to cloud   \n",
       "\n",
       "                                                 url  year  \\\n",
       "0  https://www.technologyreview.com/2024/09/10/11...  2024   \n",
       "1  https://www.technologyreview.com/2024/09/10/11...  2024   \n",
       "2  https://www.technologyreview.com/2024/09/09/11...  2024   \n",
       "3  https://www.technologyreview.com/2024/09/06/11...  2024   \n",
       "4  https://www.technologyreview.com/2024/09/05/10...  2024   \n",
       "\n",
       "                                                text  \\\n",
       "0  2024 Innovator of the Year: Shawn Shan builds ...   \n",
       "1  What impact will AI have on video game develop...   \n",
       "2  To be more useful, robots need to become lazie...   \n",
       "3  Roblox is launching a generative AI that build...   \n",
       "4  Sponsored\\r\\nIntegrating security from code to...   \n",
       "\n",
       "                                            entities  temperature    color  \\\n",
       "0  ['Midjourney', 'Karla Ortiz', 'Nightshade', 'W...            2  #0000ff   \n",
       "1  ['Midjourney', 'Netherlands', 'Clearview AI', ...            2  #0000ff   \n",
       "2  ['Bold Hearts', 'Tech United', 'Tech United’s'...            2  #0000ff   \n",
       "3  ['Marcus Holmström', 'The Gang', 'AI', 'France...            2  #0000ff   \n",
       "4  ['TEE', 'Microsoft Security', 'Insights', 'the...            2  #0000ff   \n",
       "\n",
       "            x           y cluster  \\\n",
       "0  203.896104  421.675325      -1   \n",
       "1  276.623377  556.571429      -1   \n",
       "2  141.558442  608.454545     p_2   \n",
       "3  338.961039  266.025974    p_11   \n",
       "4  349.350649  857.493506      -1   \n",
       "\n",
       "                                          clean_text  \n",
       "0  innovator year shawn shan build tool help arti...  \n",
       "1  impact video game development impact video gam...  \n",
       "2  useful robot need lazy useful robot need lazy ...  \n",
       "3  roblox launch generative build environment sna...  \n",
       "4  integrate security code cloud sponsored integr...  "
      ]
     },
     "execution_count": 23,
     "metadata": {},
     "output_type": "execute_result"
    }
   ],
   "source": [
    "df.head()"
   ]
  },
  {
   "cell_type": "markdown",
   "metadata": {},
   "source": [
    "### Save clean text"
   ]
  },
  {
   "cell_type": "code",
   "execution_count": 24,
   "metadata": {},
   "outputs": [],
   "source": [
    "df.to_csv('Query_AI_text_clean.csv', index=False)"
   ]
  },
  {
   "cell_type": "markdown",
   "metadata": {},
   "source": [
    "### Analysis"
   ]
  },
  {
   "cell_type": "code",
   "execution_count": null,
   "metadata": {},
   "outputs": [],
   "source": [
    "#df = pd.read_csv('Query_AI_text_clean.csv')"
   ]
  },
  {
   "cell_type": "code",
   "execution_count": null,
   "metadata": {},
   "outputs": [],
   "source": [
    "df.head(3)"
   ]
  },
  {
   "cell_type": "markdown",
   "metadata": {},
   "source": [
    "### Temperature"
   ]
  },
  {
   "cell_type": "code",
   "execution_count": null,
   "metadata": {},
   "outputs": [],
   "source": [
    "min_year = df['year'].min(); max_year = df['year'].max() # Find min and max\n",
    "mid_year = (max_year + min_year) // 2 # Calculate the middle year\n",
    "df['temperature'] = df['year'].apply(lambda x: x - mid_year) # Apply the transformation\n",
    "\n",
    "# Function to interpolate between red (#FF0000) and blue (#0000FF)\n",
    "def year_to_color(year, min_year, max_year):\n",
    "    norm = (year - min_year) / (max_year - min_year)  # Normalize between 0 and 1\n",
    "    return mcolors.to_hex((1-norm, 0, norm))  # Interpolate between red (1, 0, 0) and blue (0, 0, 1)\n",
    "\n",
    "# Apply the color function based on the year\n",
    "df['color'] = df['year'].apply(lambda x: year_to_color(x, min_year, max_year))\n",
    "\n",
    "\n",
    "df.sample(3)"
   ]
  },
  {
   "cell_type": "markdown",
   "metadata": {},
   "source": [
    "### Term Frequency"
   ]
  },
  {
   "cell_type": "code",
   "execution_count": null,
   "metadata": {},
   "outputs": [],
   "source": [
    "from sklearn.feature_extraction.text import CountVectorizer, TfidfTransformer\n",
    "\n",
    "vectorizer = CountVectorizer(\n",
    "    lowercase=False,\n",
    "    tokenizer=lambda key: key,  # Use if 'entities' is a list of lists\n",
    "    token_pattern=None  # Disable token_pattern since we are using a custom tokenizer\n",
    ")\n",
    "\n",
    "# Convert 'entities' column (which is a list of lists) to a list\n",
    "entities = df[\"clean_text\"].to_list()\n",
    "\n",
    "# Vectorize the list of entities\n",
    "X = vectorizer.fit_transform(entities)\n",
    "\n",
    "# Apply TF-IDF transformation\n",
    "tfidf = TfidfTransformer(smooth_idf=True, use_idf=True)\n",
    "tfidf.fit(X)\n",
    "train_data = tfidf.transform(X)\n",
    "\n",
    "df.head(3)"
   ]
  },
  {
   "cell_type": "markdown",
   "metadata": {},
   "source": [
    "## UMAP"
   ]
  },
  {
   "cell_type": "code",
   "execution_count": null,
   "metadata": {},
   "outputs": [],
   "source": [
    "# Fit UMAP reducer without random_state for parallelism\n",
    "reducer = umap.UMAP(\n",
    "    random_state=1,\n",
    "    n_components=2,\n",
    "    n_neighbors=10,\n",
    "    min_dist=0.1,\n",
    "    metric=\"hellinger\"\n",
    ")\n",
    "\n",
    "embedding = reducer.fit_transform(train_data) # run UMAP\n",
    "\n",
    "\n",
    "\n",
    "scaler = MinMaxScaler(feature_range=(100, 900)) # Scale embeddings to a fixed range (100 to 900)\n",
    "embedding_scaled = scaler.fit_transform(embedding)\n",
    "embedding_scaled = embedding_scaled.astype(int)\n",
    "\n",
    "embedding_scaled = align_points_to_grid(embedding_scaled)  # Alignment to a grid\n",
    "\n",
    "# Assign embeddings (x, y) back to 'entities' DataFrame\n",
    "index_embedding = 0\n",
    "\n",
    "for index, row in df.iterrows():\n",
    "    df.loc[index, \"x\"] = embedding_scaled[:, 0][index_embedding]\n",
    "    df.loc[index, \"y\"] = embedding_scaled[:, 1][index_embedding]\n",
    "    index_embedding += 1\n",
    "\n",
    "# Plotting\n",
    "plt.figure(figsize=(20, 20), dpi=300)\n",
    "plt.axis(\"off\")\n",
    "\n",
    "# Scatterplot with size based on 'frequency' and color from 'color'\n",
    "plt.scatter(\n",
    "    df[\"x\"].to_list(),\n",
    "    df[\"y\"].to_list(),\n",
    "    s=50,\n",
    "    c=df[\"color\"].to_list(),\n",
    ")\n",
    "\n",
    "# Labels\n",
    "# for i, row in df.iterrows():\n",
    "#     text = plt.annotate(row[\"name\"], xy=(row[\"x\"], row[\"y\"]), ha=\"center\", va=\"bottom\")\n",
    "#     text.set_fontsize(3)  # Adjust if too small\n",
    "\n",
    "# Save the plot\n",
    "plt.savefig(\"download.png\")\n"
   ]
  },
  {
   "cell_type": "markdown",
   "metadata": {},
   "source": [
    "## Clustering"
   ]
  },
  {
   "cell_type": "code",
   "execution_count": null,
   "metadata": {},
   "outputs": [],
   "source": [
    "clusterer = hdbscan.HDBSCAN(\n",
    "    min_samples=2,            # Aumenta el número de clusters reduciendo los puntos necesarios para un área densa\n",
    "    min_cluster_size=3,       # Tamaño mínimo del cluster; si lo reduces, obtendrás más clusters\n",
    "    cluster_selection_epsilon=0.4  # Controla la fusión de clusters cercanos. Reducirlo puede ayudar a obtener más clusters.\n",
    ")\n",
    "\n",
    "df[\"cluster\"] = \"-1\"  # Reset\n",
    "\n",
    "\n",
    "def cluster_computing(rows, prefix, df):\n",
    "\n",
    "    embedding = rows[[\"x\", \"y\"]].to_numpy()\n",
    "    clusterer.fit(embedding)\n",
    "    clusters = clusterer.labels_\n",
    "\n",
    "    # Write cluster number\n",
    "\n",
    "    for count, (index, row) in enumerate(rows.iterrows()):\n",
    "        if clusters[count] != -1:\n",
    "            df.loc[index, \"cluster\"] = prefix + str(clusters[count])\n",
    "        else:\n",
    "            df.loc[index, \"cluster\"] = str(clusters[count])\n",
    "    \n",
    "\n",
    "cluster_computing(\n",
    "    df.loc[(df[\"temperature\"] > 0)],\n",
    "    \"p_\",\n",
    "    df,\n",
    ")\n",
    "cluster_computing(\n",
    "    df.loc[(df[\"temperature\"] <= 0)],\n",
    "    \"n_\",\n",
    "    df,\n",
    ")\n",
    "\n",
    "df.sample(3)"
   ]
  },
  {
   "cell_type": "code",
   "execution_count": null,
   "metadata": {},
   "outputs": [],
   "source": [
    "plt.figure(figsize=(5, 5))\n",
    "plt.axis(\"off\")\n",
    "\n",
    "clusters = set(df[\"cluster\"].tolist())\n",
    "\n",
    "print(clusters)\n",
    "\n",
    "for counter, cluster in enumerate(clusters):\n",
    "\n",
    "    points = []  # Points\n",
    "    rows = df.loc[df[\"cluster\"] == cluster]  # Rows\n",
    "\n",
    "    for index, row in rows.iterrows():\n",
    "        points.append([row[\"x\"], row[\"y\"]])\n",
    "    points = np.array(points)\n",
    "\n",
    "    if len(points) < 3:\n",
    "        print(len(points))\n",
    "\n",
    "    hull = ConvexHull(points)  # Hull\n",
    "    x_hull = np.append(points[hull.vertices, 0], points[hull.vertices, 0][0])\n",
    "    y_hull = np.append(points[hull.vertices, 1], points[hull.vertices, 1][0])\n",
    "\n",
    "    if cluster[0] == \"p\":\n",
    "        plt.fill(x_hull, y_hull, \"--\", c=\"#FF0000\", alpha=0.5)  # Plot red\n",
    "    elif cluster[0] == \"n\":\n",
    "        plt.fill(x_hull, y_hull, \"--\", c=\"#0000FF\", alpha=0.5)  # Plot blue\n"
   ]
  },
  {
   "cell_type": "markdown",
   "metadata": {},
   "source": [
    "# Save"
   ]
  },
  {
   "cell_type": "code",
   "execution_count": null,
   "metadata": {},
   "outputs": [],
   "source": [
    "export = df.copy()\n",
    "\n",
    "# export = export.drop(columns=\"entities\")\n",
    "\n",
    "\n",
    "export.to_csv(\"src/data/entities.csv\", index=False)\n",
    "\n",
    "export.sample(1)"
   ]
  }
 ],
 "metadata": {
  "kernelspec": {
   "display_name": "visual_studio_code",
   "language": "python",
   "name": "python3"
  },
  "language_info": {
   "codemirror_mode": {
    "name": "ipython",
    "version": 3
   },
   "file_extension": ".py",
   "mimetype": "text/x-python",
   "name": "python",
   "nbconvert_exporter": "python",
   "pygments_lexer": "ipython3",
   "version": "3.12.3"
  },
  "orig_nbformat": 2
 },
 "nbformat": 4,
 "nbformat_minor": 2
}
